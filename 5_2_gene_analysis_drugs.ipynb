{
 "cells": [
  {
   "cell_type": "markdown",
   "metadata": {},
   "source": [
    "# Gene analysis, Drugs - gget opentargets"
   ]
  },
  {
   "cell_type": "code",
   "execution_count": 27,
   "metadata": {},
   "outputs": [],
   "source": [
    "import os\n",
    "import anndata as ad\n",
    "import pandas as pd\n",
    "import gget\n",
    "# !pip install gget"
   ]
  },
  {
   "cell_type": "code",
   "execution_count": 48,
   "metadata": {},
   "outputs": [
    {
     "data": {
      "text/html": [
       "<div>\n",
       "<style scoped>\n",
       "    .dataframe tbody tr th:only-of-type {\n",
       "        vertical-align: middle;\n",
       "    }\n",
       "\n",
       "    .dataframe tbody tr th {\n",
       "        vertical-align: top;\n",
       "    }\n",
       "\n",
       "    .dataframe thead th {\n",
       "        text-align: right;\n",
       "    }\n",
       "</style>\n",
       "<table border=\"1\" class=\"dataframe\">\n",
       "  <thead>\n",
       "    <tr style=\"text-align: right;\">\n",
       "      <th></th>\n",
       "      <th>header</th>\n",
       "      <th>transcript_count</th>\n",
       "      <th>seq_ID</th>\n",
       "      <th>gene_name</th>\n",
       "      <th>mutation_id</th>\n",
       "      <th>mut_ID</th>\n",
       "      <th>mutation</th>\n",
       "      <th>full_sequence</th>\n",
       "      <th>variant_type</th>\n",
       "      <th>start_nucleotide</th>\n",
       "      <th>end_nucleotide</th>\n",
       "      <th>sequence_length</th>\n",
       "      <th>start_nucleotide_reverse</th>\n",
       "      <th>end_nucleotide_reverse</th>\n",
       "      <th>distance_from_5_prime</th>\n",
       "      <th>distance_from_3_prime</th>\n",
       "      <th>distance_5_prime_bin</th>\n",
       "      <th>distance_3_prime_bin</th>\n",
       "    </tr>\n",
       "  </thead>\n",
       "  <tbody>\n",
       "    <tr>\n",
       "      <th>0</th>\n",
       "      <td>ENST00000439458_UNC80_COSV104380982_58896742</td>\n",
       "      <td>63412.0</td>\n",
       "      <td>ENST00000439458</td>\n",
       "      <td>UNC80</td>\n",
       "      <td>COSV104380982_58896742</td>\n",
       "      <td>UNC80_COSV104380982_58896742</td>\n",
       "      <td>c.8141_8142insTTTTTTTTTTCAAGCAGAAGACGGCATACGAG...</td>\n",
       "      <td>ATGGTGAAGAGGAAGAGCTCCGAGGGCCAGGAGCAGGACGGCGGCC...</td>\n",
       "      <td>insertion</td>\n",
       "      <td>8141.0</td>\n",
       "      <td>8142.0</td>\n",
       "      <td>9777.0</td>\n",
       "      <td>1635.0</td>\n",
       "      <td>1636.0</td>\n",
       "      <td>8141.0</td>\n",
       "      <td>1635.0</td>\n",
       "      <td>8140.0</td>\n",
       "      <td>1630.0</td>\n",
       "    </tr>\n",
       "    <tr>\n",
       "      <th>1</th>\n",
       "      <td>ENST00000266503_ARNTL2_COSV104369715_20849862</td>\n",
       "      <td>25806.0</td>\n",
       "      <td>ENST00000266503</td>\n",
       "      <td>ARNTL2</td>\n",
       "      <td>COSV104369715_20849862</td>\n",
       "      <td>ARNTL2_COSV104369715_20849862</td>\n",
       "      <td>c.947_948insTTTTTTTCAAGCAGAAGACGGCATACGAGATGAT...</td>\n",
       "      <td>ATGGCGGCGGAAGAGGAGGCTGCGGCGGGAGGTAAAGTGTTGAGAG...</td>\n",
       "      <td>insertion</td>\n",
       "      <td>947.0</td>\n",
       "      <td>948.0</td>\n",
       "      <td>1911.0</td>\n",
       "      <td>963.0</td>\n",
       "      <td>964.0</td>\n",
       "      <td>947.0</td>\n",
       "      <td>963.0</td>\n",
       "      <td>940.0</td>\n",
       "      <td>960.0</td>\n",
       "    </tr>\n",
       "    <tr>\n",
       "      <th>2</th>\n",
       "      <td>ENST00000294725_KCNT2_COSV54078235_26025088</td>\n",
       "      <td>19448.0</td>\n",
       "      <td>ENST00000294725</td>\n",
       "      <td>KCNT2</td>\n",
       "      <td>COSV54078235_26025088</td>\n",
       "      <td>KCNT2_COSV54078235_26025088</td>\n",
       "      <td>c.549_550insACGGCGACCACCGAGAT</td>\n",
       "      <td>ATGGTTGATTTGGAGAGCGAAGTGCCCCCTCTGCCTCCCAGGTACA...</td>\n",
       "      <td>insertion</td>\n",
       "      <td>549.0</td>\n",
       "      <td>550.0</td>\n",
       "      <td>3408.0</td>\n",
       "      <td>2858.0</td>\n",
       "      <td>2859.0</td>\n",
       "      <td>549.0</td>\n",
       "      <td>2858.0</td>\n",
       "      <td>540.0</td>\n",
       "      <td>2850.0</td>\n",
       "    </tr>\n",
       "    <tr>\n",
       "      <th>3</th>\n",
       "      <td>ENST00000598320_AC068620.1_COSV51704654_100123354</td>\n",
       "      <td>12439.0</td>\n",
       "      <td>ENST00000598320</td>\n",
       "      <td>AC068620.1</td>\n",
       "      <td>COSV51704654_100123354</td>\n",
       "      <td>AC068620.1_COSV51704654_100123354</td>\n",
       "      <td>c.414G&gt;A</td>\n",
       "      <td>ATGGAGAGTGGAGCAGGAAAGCACTGGACTGAGGAGGAGGTTAAAG...</td>\n",
       "      <td>substitution</td>\n",
       "      <td>414.0</td>\n",
       "      <td>414.0</td>\n",
       "      <td>450.0</td>\n",
       "      <td>36.0</td>\n",
       "      <td>36.0</td>\n",
       "      <td>414.0</td>\n",
       "      <td>36.0</td>\n",
       "      <td>410.0</td>\n",
       "      <td>30.0</td>\n",
       "    </tr>\n",
       "    <tr>\n",
       "      <th>4</th>\n",
       "      <td>ENST00000593357_AC137056.1_COSV104978830_98529064</td>\n",
       "      <td>6053.0</td>\n",
       "      <td>ENST00000593357</td>\n",
       "      <td>AC137056.1</td>\n",
       "      <td>COSV104978830_98529064</td>\n",
       "      <td>AC137056.1_COSV104978830_98529064</td>\n",
       "      <td>c.299_302dup</td>\n",
       "      <td>ATGCTTTCAGTTTCTATACTCCATCAATTTGCTTGTCTTGGCTTCT...</td>\n",
       "      <td>duplication</td>\n",
       "      <td>299.0</td>\n",
       "      <td>302.0</td>\n",
       "      <td>408.0</td>\n",
       "      <td>106.0</td>\n",
       "      <td>109.0</td>\n",
       "      <td>299.0</td>\n",
       "      <td>106.0</td>\n",
       "      <td>290.0</td>\n",
       "      <td>100.0</td>\n",
       "    </tr>\n",
       "  </tbody>\n",
       "</table>\n",
       "</div>"
      ],
      "text/plain": [
       "                                              header  transcript_count  \\\n",
       "0       ENST00000439458_UNC80_COSV104380982_58896742           63412.0   \n",
       "1      ENST00000266503_ARNTL2_COSV104369715_20849862           25806.0   \n",
       "2        ENST00000294725_KCNT2_COSV54078235_26025088           19448.0   \n",
       "3  ENST00000598320_AC068620.1_COSV51704654_100123354           12439.0   \n",
       "4  ENST00000593357_AC137056.1_COSV104978830_98529064            6053.0   \n",
       "\n",
       "            seq_ID   gene_name             mutation_id  \\\n",
       "0  ENST00000439458       UNC80  COSV104380982_58896742   \n",
       "1  ENST00000266503      ARNTL2  COSV104369715_20849862   \n",
       "2  ENST00000294725       KCNT2   COSV54078235_26025088   \n",
       "3  ENST00000598320  AC068620.1  COSV51704654_100123354   \n",
       "4  ENST00000593357  AC137056.1  COSV104978830_98529064   \n",
       "\n",
       "                              mut_ID  \\\n",
       "0       UNC80_COSV104380982_58896742   \n",
       "1      ARNTL2_COSV104369715_20849862   \n",
       "2        KCNT2_COSV54078235_26025088   \n",
       "3  AC068620.1_COSV51704654_100123354   \n",
       "4  AC137056.1_COSV104978830_98529064   \n",
       "\n",
       "                                            mutation  \\\n",
       "0  c.8141_8142insTTTTTTTTTTCAAGCAGAAGACGGCATACGAG...   \n",
       "1  c.947_948insTTTTTTTCAAGCAGAAGACGGCATACGAGATGAT...   \n",
       "2                      c.549_550insACGGCGACCACCGAGAT   \n",
       "3                                           c.414G>A   \n",
       "4                                       c.299_302dup   \n",
       "\n",
       "                                       full_sequence variant_type  \\\n",
       "0  ATGGTGAAGAGGAAGAGCTCCGAGGGCCAGGAGCAGGACGGCGGCC...     insertion   \n",
       "1  ATGGCGGCGGAAGAGGAGGCTGCGGCGGGAGGTAAAGTGTTGAGAG...     insertion   \n",
       "2  ATGGTTGATTTGGAGAGCGAAGTGCCCCCTCTGCCTCCCAGGTACA...     insertion   \n",
       "3  ATGGAGAGTGGAGCAGGAAAGCACTGGACTGAGGAGGAGGTTAAAG...  substitution   \n",
       "4  ATGCTTTCAGTTTCTATACTCCATCAATTTGCTTGTCTTGGCTTCT...   duplication   \n",
       "\n",
       "   start_nucleotide  end_nucleotide  sequence_length  \\\n",
       "0            8141.0          8142.0           9777.0   \n",
       "1             947.0           948.0           1911.0   \n",
       "2             549.0           550.0           3408.0   \n",
       "3             414.0           414.0            450.0   \n",
       "4             299.0           302.0            408.0   \n",
       "\n",
       "   start_nucleotide_reverse  end_nucleotide_reverse  distance_from_5_prime  \\\n",
       "0                    1635.0                  1636.0                 8141.0   \n",
       "1                     963.0                   964.0                  947.0   \n",
       "2                    2858.0                  2859.0                  549.0   \n",
       "3                      36.0                    36.0                  414.0   \n",
       "4                     106.0                   109.0                  299.0   \n",
       "\n",
       "   distance_from_3_prime  distance_5_prime_bin  distance_3_prime_bin  \n",
       "0                 1635.0                8140.0                1630.0  \n",
       "1                  963.0                 940.0                 960.0  \n",
       "2                 2858.0                 540.0                2850.0  \n",
       "3                   36.0                 410.0                  30.0  \n",
       "4                  106.0                 290.0                 100.0  "
      ]
     },
     "execution_count": 48,
     "metadata": {},
     "output_type": "execute_result"
    }
   ],
   "source": [
    "base_dir = \"/home/jrich/Desktop/CART_prostate_sc\"  # os.path.dirname(os.path.dirname(__file__))\n",
    "run_id = \"SAMN10988512_SRX5414523_SRR8615230\"\n",
    "adata_processed_path = \"/home/jrich/Desktop/CART_prostate_sc/data/output/SAMN10988512_SRX5414523_SRR8615230/data/adata_processed.h5ad\"\n",
    "cosmic_reference_with_aa_mutations_path = \"/home/jrich/Desktop/CART_prostate_sc/data/reference/COSMIC/GRCh37/CancerMutationCensus_AllData_Tsv_v100_GRCh37/CancerMutationCensus_AllData_v100_GRCh37_gget_mutate_updated.csv\"\n",
    "n = 3\n",
    "\n",
    "data_folder = os.path.join(base_dir, 'data')\n",
    "output_figure_dir = os.path.join(data_folder, 'output', run_id, 'figures', 'mutation_protein')\n",
    "output_data_dir = os.path.join(data_folder, 'output', run_id, 'data')\n",
    "\n",
    "os.makedirs(output_figure_dir, exist_ok=True)\n",
    "os.makedirs(output_data_dir, exist_ok=True)\n",
    "\n",
    "adata = ad.read_h5ad(adata_processed_path)\n",
    "adata.var.head()"
   ]
  },
  {
   "cell_type": "code",
   "execution_count": 15,
   "metadata": {},
   "outputs": [],
   "source": [
    "# # For simplicity, filter out all mutants with ambiguous identity\n",
    "# adata = adata[:, adata.var[~adata.var['header'].str.contains(';', na=False)].index].copy()"
   ]
  },
  {
   "cell_type": "markdown",
   "metadata": {},
   "source": [
    "## Open Targets"
   ]
  },
  {
   "cell_type": "code",
   "execution_count": 49,
   "metadata": {},
   "outputs": [],
   "source": [
    "from scripts.map_enst_to_ensg import get_ensembl_gene_id\n",
    "\n",
    "adata.uns['combined_genes'] = adata.uns['combined_genes'][:n].copy()\n",
    "\n",
    "adata.uns['combined_genes']['ensembl_gene_name'] = adata.uns['combined_genes']['seq_ID'].apply(get_ensembl_gene_id)"
   ]
  },
  {
   "cell_type": "code",
   "execution_count": 50,
   "metadata": {},
   "outputs": [
    {
     "name": "stderr",
     "output_type": "stream",
     "text": [
      "11:32:44 - INFO - Retrieved 0/0 known drugs. (Querying count, will fetch all results next.)\n",
      "11:32:44 - INFO - Retrieved 0/0 known drugs.\n"
     ]
    },
    {
     "name": "stdout",
     "output_type": "stream",
     "text": [
      "No data for ENSG00000144406\n"
     ]
    },
    {
     "name": "stderr",
     "output_type": "stream",
     "text": [
      "11:32:44 - INFO - Retrieved 0/0 known drugs. (Querying count, will fetch all results next.)\n",
      "11:32:45 - INFO - Retrieved 0/0 known drugs.\n"
     ]
    },
    {
     "name": "stdout",
     "output_type": "stream",
     "text": [
      "No data for ENSG00000029153\n"
     ]
    },
    {
     "name": "stderr",
     "output_type": "stream",
     "text": [
      "11:32:46 - INFO - Retrieved 0/0 known drugs. (Querying count, will fetch all results next.)\n",
      "11:32:46 - INFO - Retrieved 0/0 known drugs.\n"
     ]
    },
    {
     "name": "stdout",
     "output_type": "stream",
     "text": [
      "No data for ENSG00000162687\n"
     ]
    }
   ],
   "source": [
    "for idx, gene in enumerate(adata.uns['combined_genes']['ensembl_gene_name']):\n",
    "    # !gget opentargets $gene --csv --out $output_data_dir/$gene.csv -r drugs\n",
    "    df = gget.opentargets(gene, resource = 'drugs')\n",
    "    if not df.empty:\n",
    "        df.to_csv(os.path.join(output_data_dir, f'{idx}_{gene}_opentargets.csv'))\n",
    "        print(f\"Saved {gene} to {output_data_dir}\")\n",
    "    else:\n",
    "        print(f\"No data for {gene}\")"
   ]
  }
 ],
 "metadata": {
  "kernelspec": {
   "display_name": "CART4",
   "language": "python",
   "name": "python3"
  },
  "language_info": {
   "codemirror_mode": {
    "name": "ipython",
    "version": 3
   },
   "file_extension": ".py",
   "mimetype": "text/x-python",
   "name": "python",
   "nbconvert_exporter": "python",
   "pygments_lexer": "ipython3",
   "version": "3.10.14"
  }
 },
 "nbformat": 4,
 "nbformat_minor": 2
}
