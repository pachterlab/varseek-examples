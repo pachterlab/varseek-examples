{
 "cells": [
  {
   "cell_type": "markdown",
   "metadata": {},
   "source": [
    "<a href=\"https://colab.research.google.com/github/pachterlab/varseek-examples/blob/main/vk_ref.ipynb\" target=\"_parent\"><img src=\"https://colab.research.google.com/assets/colab-badge.svg\" alt=\"Open In Colab\"/></a>"
   ]
  },
  {
   "cell_type": "markdown",
   "metadata": {},
   "source": [
    "# [vk ref](https://github.com/pachterlab/varseek) demonstration\n",
    "Create a variant reference index file with varseek ref, using a subset of 150 variants from the COSMIC Cancer Mutation Census sample file as the source of variants. Utilize gget to facilitate reference genome download.\n",
    "\n",
    "Written by Joseph Rich.\n",
    "___"
   ]
  },
  {
   "cell_type": "markdown",
   "metadata": {},
   "source": [
    "### Install varseek, and import all packages"
   ]
  },
  {
   "cell_type": "code",
   "execution_count": 1,
   "metadata": {},
   "outputs": [],
   "source": [
    "try:\n",
    "    import varseek as vk\n",
    "except ImportError:\n",
    "    print(\"varseek not found, installing...\")\n",
    "    !pip install -U -q varseek"
   ]
  },
  {
   "cell_type": "code",
   "execution_count": 2,
   "metadata": {},
   "outputs": [],
   "source": [
    "import os\n",
    "\n",
    "import gget\n",
    "import varseek as vk"
   ]
  },
  {
   "cell_type": "markdown",
   "metadata": {},
   "source": [
    "### Define important paths and parameters\n",
    "#### See more details in `vk ref --help`\n",
    "- vk_ref_out_dir: output directory for all vk ref files (including the index and t2g that will subsequently be passed into vk count)\n",
    "- reference_dir: Directory containing reference files, or the directory in which to download any reference files needed during vk ref. The only places where this is relevant within vk ref is when (a) using non-file path values for `variants` or `sequences` (see `vk ref --list_supported_databases`), or when `dlist_reference_source` is not None. We use this as the location for where to download our variants and sequences files in this tutorial.\n",
    "- dlist_reference_source: The reference genome and transcriptome source used during variant reference filtering. See vk ref documantation for all supported values, and alternatives if desiring to use a reference not included in the internally supported list.\n",
    "- variants: File containing the variants with the most common formats being either (1) a CSV file, each variant in a separate row and with columns provided by the arguments `seq_id_column` and `var_column`, or (2) a VCF file. See `vk ref --help` for all valid formats. For our example, we will use the COSMIC Cancer Mutation Census sample file. Learn more about COSMIC [here](https://cancer.sanger.ac.uk/cosmic).\n",
    "- sequences: File containing the sequences in a fasta file corresponding to the annotations in the variants file. The genome assembly and release used to annotate the variants must be used. With the COSMIC Cancer Mutation Census, for instance, the transcript variants are annotated with the cDNA of the GRCh37 genome assembly, Ensembl release 93."
   ]
  },
  {
   "cell_type": "code",
   "execution_count": 3,
   "metadata": {},
   "outputs": [],
   "source": [
    "vk_ref_out_dir = os.path.join(\"data\", \"varseek_ref_out_sample\")\n",
    "reference_dir = os.path.join(\"data\", \"reference\")\n",
    "dlist_reference_source = \"t2t\"\n",
    "\n",
    "variants = os.path.join(reference_dir, \"cosmic\", \"cosmic_cmc_subset.csv\")\n",
    "sequences = os.path.join(reference_dir, \"ensembl_grch37_release93\", \"Homo_sapiens.GRCh37.cdna.all.fa\")"
   ]
  },
  {
   "cell_type": "markdown",
   "metadata": {},
   "source": [
    "### Download the COSMIC Cancer Mutation Census sample file"
   ]
  },
  {
   "cell_type": "code",
   "execution_count": 4,
   "metadata": {},
   "outputs": [],
   "source": [
    "if not os.path.exists(variants):\n",
    "    cosmic_cmc_subset_url = \"https://caltech.box.com/shared/static/444q8amwnyooduxbm1jvvdn6z694z49o.csv\"\n",
    "    vk.utils.download_box_url(cosmic_cmc_subset_url, output_folder=os.path.dirname(variants), output_file_name=os.path.basename(variants))\n",
    "\n",
    "    # # for full cosmic:\n",
    "    # gget.cosmic(\n",
    "    #     None,\n",
    "    #     grch_version=37,\n",
    "    #     cosmic_version=101,\n",
    "    #     out=reference_dir,\n",
    "    #     cosmic_project=\"cancer_example\",\n",
    "    #     download_cosmic=True,\n",
    "    #     gget_mutate=True,\n",
    "    # )"
   ]
  },
  {
   "cell_type": "markdown",
   "metadata": {},
   "source": [
    "### Print the first few lines of the COSMIC file\n",
    "Note that our sequence IDs are in the column \"seq_ID\", and our variants are in the column \"mutation\""
   ]
  },
  {
   "cell_type": "code",
   "execution_count": 5,
   "metadata": {},
   "outputs": [
    {
     "name": "stdout",
     "output_type": "stream",
     "text": [
      "seq_ID,mutation\n",
      "ENST00000374213,c.184A>G\n",
      "ENST00000374213,c.180A>G\n",
      "ENST00000374222,c.1922G>C\n",
      "ENST00000374222,c.2004T>C\n",
      "ENST00000368716,c.413T>A\n",
      "ENST00000368716,c.436G>A\n",
      "ENST00000368716,c.368G>T\n",
      "ENST00000368716,c.391C>A\n",
      "ENST00000368716,c.383C>A\n"
     ]
    }
   ],
   "source": [
    "!head -n 10 {variants}"
   ]
  },
  {
   "cell_type": "markdown",
   "metadata": {},
   "source": [
    "### Download the reference genome (GRCh37, Ensembl 93, cDNA file)"
   ]
  },
  {
   "cell_type": "code",
   "execution_count": 6,
   "metadata": {},
   "outputs": [],
   "source": [
    "if not os.path.exists(sequences):\n",
    "    sequences_dir = \".\" if not os.path.dirname(sequences) else os.path.dirname(sequences)\n",
    "    !gget ref -w cdna -r 93 --out_dir {sequences_dir} -d human_grch37\n",
    "    !gunzip {sequences}.gz"
   ]
  },
  {
   "cell_type": "markdown",
   "metadata": {},
   "source": [
    "### Run varseek ref\n",
    "\n",
    "This will run the following commands:\n",
    "- `varseek build`: Create a variant-containing reference sequence (VCRS) fasta file, where each VCRS contains the variant and at most *w* base pairs flanking each side of the variant (optimized to ensure that no k-mer is shared between a VCRS and its non-variant counterpart in the reference genome). Also creates a t2g file for compatibility with varseek count.\n",
    "- `varseek info`: Collect additional information about the VCRS sequences to be used for filtering. By default, it collects information on k-mer alignment between each VCRS and the T2T reference genome + transcriptome, VCRS pseudoalignment to the T2T reference genome (also indicating shared k-mers), and VCRS sequence complexity (i.e., the number of unique nucleotide triplets divided by the sequence length).\n",
    "- `varseek filter`: Filter the VCRS fasta file and t2g file. By default, filters any VCRS that shares a k-mer with anywhere in the reference genome + transcriptome, any VCRS that pseudoaligns to the reference genome, and any VCRS with fewer than three unique triplets.\n",
    "- `kb ref`: Create a kb index file from the filtered VCRS fasta file that can be used in varseek count."
   ]
  },
  {
   "cell_type": "code",
   "execution_count": 7,
   "metadata": {},
   "outputs": [
    {
     "name": "stderr",
     "output_type": "stream",
     "text": [
      "21:53:44 - INFO - Using COSMIC email from COSMIC_EMAIL environment variable\n",
      "21:53:44 - INFO - Using COSMIC password from COSMIC_PASSWORD environment variable\n",
      "21:53:44 - INFO - Running vk build\n",
      "21:53:44 - INFO - Using COSMIC email from COSMIC_EMAIL environment variable: jmrich@caltech.edu\n",
      "21:53:44 - INFO - Using COSMIC password from COSMIC_PASSWORD environment variable\n",
      "21:53:46 - INFO - Using the seq_id_column:var_column 'seq_ID:mutation' columns as the variant header column.\n",
      "21:53:46 - INFO - Removing 0 duplications > k\n",
      "21:53:46 - INFO - Removed 0 variant-containing reference sequences with length less than 51...\n",
      "21:53:46 - INFO - Removed 0 variant-containing reference sequences containing more than 0 'N's...\n",
      "21:53:46 - INFO - All variants correctly recorded\n",
      "21:53:46 - INFO - Merging rows of identical VCRSs\n",
      "21:53:46 - INFO - \n",
      "        Number of variants total: 150\n",
      "        Number of variants merged: 0\n",
      "        Number of unique variants: 150\n",
      "        Number of VCRSs: 150\n",
      "        \n",
      "21:53:46 - INFO - Merged headers were combined and separated using a semicolon (;). Occurences of identical VCRSs may be reduced by increasing w.\n",
      "21:53:46 - INFO - FASTA file containing VCRSs created at data/varseek_ref_out_sample/vcrs.fa.\n",
      "21:53:46 - INFO - t2g file containing VCRSs created at data/varseek_ref_out_sample/vcrs_t2g.txt.\n",
      "21:53:46 - INFO - Total runtime for vk build: 0m, 1.88s\n",
      "21:53:46 - INFO - Running vk info\n",
      "21:53:46 - WARNING - Setting dlist_reference_type to 'combined' because dlist_reference_source is provided and dlist_reference_type=None. If you want to use a different type, please set dlist_reference_type explicitly.\n",
      "21:53:46 - INFO - Aligning to normal genome and building dlist\n",
      "21:53:46 - INFO - Running bowtie2 build\n"
     ]
    },
    {
     "name": "stdout",
     "output_type": "stream",
     "text": [
      "Swapping complete\n"
     ]
    },
    {
     "name": "stderr",
     "output_type": "stream",
     "text": [
      "22:41:17 - INFO - Bowtie2 build complete\n",
      "22:41:17 - INFO - Running bowtie2 alignment\n",
      "22:41:17 - ERROR - Error aligning to normal genome and building alignment_to_reference: Command '['bowtie2', '-a', '-f', '-p', '2', '--xeq', '--score-min', 'C,0,0', '--np', '1', '--n-ceil', 'C,0,0', '-F', '51,1', '-R', '1', '-N', '0', '-L', '31', '-i', 'C,1,0', '--no-1mm-upfront', '--no-unal', '--no-hd', '-x', 'data/reference/t2t/bowtie_index_genome/data/reference/t2t/bowtie_index_genome/index', '-U', 'data/varseek_ref_out_sample/vcrs.fa', '-S', 'data/varseek_ref_out_sample/bowtie_vcrs_kmers_to_genome/alignment.sam']' returned non-zero exit status 2.\n",
      "22:41:17 - WARNING - alignment_to_reference not found in dataframe. Skipping pseudoalignment to reference.\n",
      "22:41:17 - INFO - Calculating longest homopolymer\n",
      "22:41:18 - INFO - Calculating triplet stats\n",
      "22:41:18 - INFO - sorting variant metadata by VCRS id\n",
      "22:41:18 - INFO - Saving variant metadata\n",
      "22:41:18 - INFO - Saved variant metadata to data/varseek_ref_out_sample/variants_updated_vk_info.csv\n",
      "22:41:18 - INFO - Columns: Index(['vcrs_id', 'vcrs_sequence', 'vcrs_header', 'header', 'order',\n",
      "       'seq_ID_used_for_vcrs', 'variant_used_for_vcrs', 'variant_source',\n",
      "       'nucleotide_positions', 'actual_variant', 'start_variant_position',\n",
      "       'end_variant_position', 'variant_type', 'longest_homopolymer_length',\n",
      "       'longest_homopolymer', 'num_distinct_triplets', 'num_total_triplets',\n",
      "       'triplet_complexity'],\n",
      "      dtype='object')\n",
      "22:41:18 - INFO - Columns successfully added: {'longest_homopolymer_length', 'triplet_complexity', 'start_variant_position', 'order', 'variant_type', 'seq_ID_used_for_vcrs', 'vcrs_sequence', 'header', 'variant_used_for_vcrs', 'longest_homopolymer', 'vcrs_id', 'end_variant_position', 'nucleotide_positions', 'variant_source', 'actual_variant', 'num_total_triplets', 'num_distinct_triplets', 'vcrs_header'}\n",
      "22:41:18 - INFO - Columns not successfully added: {'substring_alignment_to_reference', 'alignment_to_reference_cdna', 'alignment_to_reference_count_total', 'alignment_to_reference_count_genome', 'substring_alignment_to_reference_cdna', 'alignment_to_reference_genome', 'substring_alignment_to_reference_genome', 'substring_alignment_to_reference_count_total', 'substring_alignment_to_reference_count_cdna', 'alignment_to_reference_count_cdna', 'substring_alignment_to_reference_count_genome', 'pseudoaligned_to_reference_despite_not_truly_aligning', 'alignment_to_reference'}\n",
      "22:41:18 - INFO - Total runtime for vk info: 47m, 32.07s\n",
      "22:41:18 - INFO - Running vk filter\n",
      "22:41:18 - INFO - Initial variant report\n",
      "22:41:18 - INFO - Number of total variants: 150; VCRSs: 150; unique variants: 150; merged variants: 0\n",
      "\n",
      "22:41:18 - INFO - num_distinct_triplets greater_than 5.0\n",
      "22:41:18 - INFO - Number of total variants: 150 (0 filtered); VCRSs: 150 (0 filtered); unique variants: 150 (0 filtered); merged variants: 0 (0 filtered)\n",
      "\n",
      "22:41:18 - INFO - longest_homopolymer_length less_or_equal 10.0\n",
      "22:41:18 - INFO - Number of total variants: 150 (0 filtered); VCRSs: 150 (0 filtered); unique variants: 150 (0 filtered); merged variants: 0 (0 filtered)\n",
      "\n",
      "22:41:18 - INFO - Total variants filtered: 0; total VCRSs filtered: 0; unique variants filtered: 0; merged variants filtered: 0\n",
      "22:41:18 - INFO - Output fasta file with filtered variants: data/varseek_ref_out_sample/vcrs_filtered.fa\n",
      "22:41:18 - INFO - t2g file containing mutated sequences created at data/varseek_ref_out_sample/vcrs_t2g_filtered.txt.\n",
      "22:41:18 - INFO - Total runtime for vk filter: 0m, 0.02s\n",
      "22:41:18 - INFO - Running kb ref with command: kb ref --workflow custom -t 2 -i data/varseek_ref_out_sample/vcrs_index.idx --d-list None -k 51 --overwrite data/varseek_ref_out_sample/vcrs_filtered.fa\n",
      "[2025-07-24 22:41:21,964] WARNING [ref_custom] Using provided k-mer length 51 instead of optimal length 31\n",
      "[2025-07-24 22:41:21,965]    INFO [ref_custom] Indexing data/varseek_ref_out_sample/vcrs_filtered.fa to data/varseek_ref_out_sample/vcrs_index.idx\n",
      "[2025-07-24 22:41:23,621]    INFO [ref_custom] Finished creating custom index\n",
      "22:41:23 - INFO - Produced files: {'index': '/Users/joeyrich/Desktop/local/varseek-examples/data/varseek_ref_out_sample/vcrs_index.idx', 't2g': '/Users/joeyrich/Desktop/local/varseek-examples/data/varseek_ref_out_sample/vcrs_t2g_filtered.txt', 'fasta': '/Users/joeyrich/Desktop/local/varseek-examples/data/varseek_ref_out_sample/vcrs_filtered.fa'}\n",
      "22:41:23 - INFO - Total runtime for vk ref: 47m, 39.03s\n"
     ]
    }
   ],
   "source": [
    "vk_ref_output_dict = vk.ref(\n",
    "    variants=variants,\n",
    "    sequences=sequences,\n",
    "    seq_id_column=\"seq_ID\",  # specific to COSMIC Cancer Mutation Census transcriptome annotations, as referenced above\n",
    "    var_column=\"mutation\",  # specific to COSMIC Cancer Mutation Census transcriptome annotations, as referenced above\n",
    "    out=vk_ref_out_dir,\n",
    "    reference_out_dir=reference_dir,\n",
    "    dlist_reference_source=dlist_reference_source\n",
    ")"
   ]
  },
  {
   "cell_type": "code",
   "execution_count": 9,
   "metadata": {},
   "outputs": [
    {
     "name": "stdout",
     "output_type": "stream",
     "text": [
      "Find index at /Users/joeyrich/Desktop/local/varseek-examples/data/varseek_ref_out_sample/vcrs_index.idx\n",
      "Find t2g at /Users/joeyrich/Desktop/local/varseek-examples/data/varseek_ref_out_sample/vcrs_t2g_filtered.txt\n"
     ]
    }
   ],
   "source": [
    "print(f\"Find index at {vk_ref_output_dict['index']}\")\n",
    "print(f\"Find t2g at {vk_ref_output_dict['t2g']}\")"
   ]
  }
 ],
 "metadata": {
  "kernelspec": {
   "display_name": "varseek",
   "language": "python",
   "name": "python3"
  },
  "language_info": {
   "codemirror_mode": {
    "name": "ipython",
    "version": 3
   },
   "file_extension": ".py",
   "mimetype": "text/x-python",
   "name": "python",
   "nbconvert_exporter": "python",
   "pygments_lexer": "ipython3",
   "version": "3.10.16"
  }
 },
 "nbformat": 4,
 "nbformat_minor": 4
}
