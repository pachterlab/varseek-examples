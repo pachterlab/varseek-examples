{
 "cells": [
  {
   "cell_type": "code",
   "execution_count": 1,
   "metadata": {},
   "outputs": [
    {
     "name": "stderr",
     "output_type": "stream",
     "text": [
      "13:00:56 - INFO - Old pandas version detected. Patching DataFrame.map to DataFrame.applymap\n",
      "Extracting full left flank sequences: 100%|██████████| 1/1 [00:00<00:00, 1351.26it/s]\n",
      "Extracting full right flank sequences: 100%|██████████| 1/1 [00:00<00:00, 1597.83it/s]\n",
      "Extracting k-mer left flank sequences: 100%|██████████| 1/1 [00:00<00:00, 1625.70it/s]\n",
      "Extracting k-mer right flank sequences: 100%|██████████| 1/1 [00:00<00:00, 1644.83it/s]\n",
      "13:00:56 - INFO - Report of the number of elements in each bin of width 5:\n",
      "13:00:56 - INFO - [0, 5)    0\n",
      "Name: mutant_sequence_kmer_length, dtype: int64\n",
      "13:00:56 - INFO - All mutations correctly recorded\n"
     ]
    },
    {
     "data": {
      "text/plain": [
       "['AATAA']"
      ]
     },
     "execution_count": 1,
     "metadata": {},
     "output_type": "execute_result"
    }
   ],
   "source": [
    "import gget\n",
    "import importlib\n",
    "importlib.reload(gget.gget_mutate)\n",
    "importlib.reload(gget)\n",
    "\n",
    "import logging\n",
    "from gget.utils import set_up_logger\n",
    "logger = logging.getLogger(__name__)\n",
    "logger.setLevel(logging.INFO)\n",
    "\n",
    "gget.mutate(\n",
    "    sequences=\"AAAAA\",\n",
    "    mutations=\"c.3A>T\",\n",
    ")"
   ]
  },
  {
   "cell_type": "code",
   "execution_count": null,
   "metadata": {},
   "outputs": [],
   "source": [
    "#!!! make heatmap of cells/samples (x), mutations (y), and counts (z)"
   ]
  }
 ],
 "metadata": {
  "kernelspec": {
   "display_name": "CART4",
   "language": "python",
   "name": "python3"
  },
  "language_info": {
   "codemirror_mode": {
    "name": "ipython",
    "version": 3
   },
   "file_extension": ".py",
   "mimetype": "text/x-python",
   "name": "python",
   "nbconvert_exporter": "python",
   "pygments_lexer": "ipython3",
   "version": "3.10.14"
  }
 },
 "nbformat": 4,
 "nbformat_minor": 2
}
