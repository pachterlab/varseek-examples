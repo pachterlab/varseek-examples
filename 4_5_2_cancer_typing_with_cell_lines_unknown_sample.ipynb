{
 "cells": [
  {
   "cell_type": "code",
   "execution_count": 38,
   "metadata": {},
   "outputs": [],
   "source": [
    "import os\n",
    "import scanpy as sc\n",
    "import numpy as np\n",
    "import pandas as pd\n",
    "\n",
    "from varseek.utils import predict_cancer_type\n",
    "number_of_cancer_types = 38"
   ]
  },
  {
   "cell_type": "markdown",
   "metadata": {},
   "source": [
    "CCLE has 38 cancer types and 1019 cell lines"
   ]
  },
  {
   "cell_type": "code",
   "execution_count": null,
   "metadata": {},
   "outputs": [],
   "source": [
    "use_binary_matrix = False  # match the setting from 4_5_1\n",
    "k = 10  # number of nearest neighbors for knn with unknown sample\n",
    "metric = \"knn\"  # knn, jaccard, euclidean, intersection, mx (mx not yet written)\n",
    "\n",
    "base_dir = \"/home/jrich/data/varseek_data/sequencing/bulk/ccle\"\n",
    "grouped_tissue_dir = f\"{base_dir}/grouped_tissue\"\n",
    "adata_unknown_path = \"\"\n",
    "adata_unknown_cancer_type = \"\"\n",
    "\n",
    "kb_count_out_dir = os.path.join(base_dir, \"kb_count_out\")  # all datasets should be in {kb_count_out_dir}/{sample}/counts_unfiltered/adata.h5ad\n",
    "sample_to_cancer_type_mapping_file_path = os.path.join(base_dir, \"sample_to_cancer_type_mapping.txt\")"
   ]
  },
  {
   "cell_type": "code",
   "execution_count": null,
   "metadata": {},
   "outputs": [],
   "source": [
    "sample_to_cancer_type = {}\n",
    "with open(sample_to_cancer_type_mapping_file_path, \"r\") as f:\n",
    "    for line in f:\n",
    "        sample_name, cancer_type = line.strip().split(\" \")\n",
    "        sample_to_cancer_type[sample_name] = cancer_type"
   ]
  },
  {
   "cell_type": "code",
   "execution_count": null,
   "metadata": {},
   "outputs": [],
   "source": [
    "# Step 1: Ensure PCA has been computed on the original data\n",
    "adata_combined_ccle_rnaseq = sc.read_h5ad(f\"{base_dir}/adata_combined_ccle_rnaseq.h5ad\")\n",
    "pca_components = adata_combined_ccle_rnaseq.varm['PCs']  # Extract PCA components (loadings)\n",
    "\n",
    "for sample_name in os.listdir(kb_count_out_dir):\n",
    "    adata_path = f\"{kb_count_out_dir}/{sample_name}/counts_unfiltered/adata.h5ad\"\n",
    "    predict_cancer_type(adata_path=adata_path, adata_combined_ccle_rnaseq=adata_combined_ccle_rnaseq, pca_components=pca_components, grouped_tissue_dir=grouped_tissue_dir, sample_name=sample_name, sample_to_cancer_type=sample_to_cancer_type, metric=metric, k=k, use_binary_matrix=use_binary_matrix)"
   ]
  }
 ],
 "metadata": {
  "kernelspec": {
   "display_name": "CART4",
   "language": "python",
   "name": "python3"
  },
  "language_info": {
   "codemirror_mode": {
    "name": "ipython",
    "version": 3
   },
   "file_extension": ".py",
   "mimetype": "text/x-python",
   "name": "python",
   "nbconvert_exporter": "python",
   "pygments_lexer": "ipython3",
   "version": "3.10.15"
  }
 },
 "nbformat": 4,
 "nbformat_minor": 2
}
