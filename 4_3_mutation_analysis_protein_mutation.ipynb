{
 "cells": [
  {
   "cell_type": "markdown",
   "metadata": {},
   "source": [
    "# Mutation analysis, Protein Mutation - gget elm"
   ]
  },
  {
   "cell_type": "code",
   "execution_count": 27,
   "metadata": {},
   "outputs": [],
   "source": [
    "import os\n",
    "import anndata as ad\n",
    "import pandas as pd\n",
    "import gget\n",
    "# !pip install gget"
   ]
  },
  {
   "cell_type": "code",
   "execution_count": 48,
   "metadata": {},
   "outputs": [
    {
     "data": {
      "text/html": [
       "<div>\n",
       "<style scoped>\n",
       "    .dataframe tbody tr th:only-of-type {\n",
       "        vertical-align: middle;\n",
       "    }\n",
       "\n",
       "    .dataframe tbody tr th {\n",
       "        vertical-align: top;\n",
       "    }\n",
       "\n",
       "    .dataframe thead th {\n",
       "        text-align: right;\n",
       "    }\n",
       "</style>\n",
       "<table border=\"1\" class=\"dataframe\">\n",
       "  <thead>\n",
       "    <tr style=\"text-align: right;\">\n",
       "      <th></th>\n",
       "      <th>header</th>\n",
       "      <th>transcript_count</th>\n",
       "      <th>seq_ID</th>\n",
       "      <th>gene_name</th>\n",
       "      <th>mutation_id</th>\n",
       "      <th>mut_ID</th>\n",
       "      <th>mutation</th>\n",
       "      <th>full_sequence</th>\n",
       "      <th>variant_type</th>\n",
       "      <th>start_nucleotide</th>\n",
       "      <th>end_nucleotide</th>\n",
       "      <th>sequence_length</th>\n",
       "      <th>start_nucleotide_reverse</th>\n",
       "      <th>end_nucleotide_reverse</th>\n",
       "      <th>distance_from_5_prime</th>\n",
       "      <th>distance_from_3_prime</th>\n",
       "      <th>distance_5_prime_bin</th>\n",
       "      <th>distance_3_prime_bin</th>\n",
       "    </tr>\n",
       "  </thead>\n",
       "  <tbody>\n",
       "    <tr>\n",
       "      <th>0</th>\n",
       "      <td>ENST00000439458_UNC80_COSV104380982_58896742</td>\n",
       "      <td>63412.0</td>\n",
       "      <td>ENST00000439458</td>\n",
       "      <td>UNC80</td>\n",
       "      <td>COSV104380982_58896742</td>\n",
       "      <td>UNC80_COSV104380982_58896742</td>\n",
       "      <td>c.8141_8142insTTTTTTTTTTCAAGCAGAAGACGGCATACGAG...</td>\n",
       "      <td>ATGGTGAAGAGGAAGAGCTCCGAGGGCCAGGAGCAGGACGGCGGCC...</td>\n",
       "      <td>insertion</td>\n",
       "      <td>8141.0</td>\n",
       "      <td>8142.0</td>\n",
       "      <td>9777.0</td>\n",
       "      <td>1635.0</td>\n",
       "      <td>1636.0</td>\n",
       "      <td>8141.0</td>\n",
       "      <td>1635.0</td>\n",
       "      <td>8140.0</td>\n",
       "      <td>1630.0</td>\n",
       "    </tr>\n",
       "    <tr>\n",
       "      <th>1</th>\n",
       "      <td>ENST00000266503_ARNTL2_COSV104369715_20849862</td>\n",
       "      <td>25806.0</td>\n",
       "      <td>ENST00000266503</td>\n",
       "      <td>ARNTL2</td>\n",
       "      <td>COSV104369715_20849862</td>\n",
       "      <td>ARNTL2_COSV104369715_20849862</td>\n",
       "      <td>c.947_948insTTTTTTTCAAGCAGAAGACGGCATACGAGATGAT...</td>\n",
       "      <td>ATGGCGGCGGAAGAGGAGGCTGCGGCGGGAGGTAAAGTGTTGAGAG...</td>\n",
       "      <td>insertion</td>\n",
       "      <td>947.0</td>\n",
       "      <td>948.0</td>\n",
       "      <td>1911.0</td>\n",
       "      <td>963.0</td>\n",
       "      <td>964.0</td>\n",
       "      <td>947.0</td>\n",
       "      <td>963.0</td>\n",
       "      <td>940.0</td>\n",
       "      <td>960.0</td>\n",
       "    </tr>\n",
       "    <tr>\n",
       "      <th>2</th>\n",
       "      <td>ENST00000294725_KCNT2_COSV54078235_26025088</td>\n",
       "      <td>19448.0</td>\n",
       "      <td>ENST00000294725</td>\n",
       "      <td>KCNT2</td>\n",
       "      <td>COSV54078235_26025088</td>\n",
       "      <td>KCNT2_COSV54078235_26025088</td>\n",
       "      <td>c.549_550insACGGCGACCACCGAGAT</td>\n",
       "      <td>ATGGTTGATTTGGAGAGCGAAGTGCCCCCTCTGCCTCCCAGGTACA...</td>\n",
       "      <td>insertion</td>\n",
       "      <td>549.0</td>\n",
       "      <td>550.0</td>\n",
       "      <td>3408.0</td>\n",
       "      <td>2858.0</td>\n",
       "      <td>2859.0</td>\n",
       "      <td>549.0</td>\n",
       "      <td>2858.0</td>\n",
       "      <td>540.0</td>\n",
       "      <td>2850.0</td>\n",
       "    </tr>\n",
       "    <tr>\n",
       "      <th>3</th>\n",
       "      <td>ENST00000598320_AC068620.1_COSV51704654_100123354</td>\n",
       "      <td>12439.0</td>\n",
       "      <td>ENST00000598320</td>\n",
       "      <td>AC068620.1</td>\n",
       "      <td>COSV51704654_100123354</td>\n",
       "      <td>AC068620.1_COSV51704654_100123354</td>\n",
       "      <td>c.414G&gt;A</td>\n",
       "      <td>ATGGAGAGTGGAGCAGGAAAGCACTGGACTGAGGAGGAGGTTAAAG...</td>\n",
       "      <td>substitution</td>\n",
       "      <td>414.0</td>\n",
       "      <td>414.0</td>\n",
       "      <td>450.0</td>\n",
       "      <td>36.0</td>\n",
       "      <td>36.0</td>\n",
       "      <td>414.0</td>\n",
       "      <td>36.0</td>\n",
       "      <td>410.0</td>\n",
       "      <td>30.0</td>\n",
       "    </tr>\n",
       "    <tr>\n",
       "      <th>4</th>\n",
       "      <td>ENST00000593357_AC137056.1_COSV104978830_98529064</td>\n",
       "      <td>6053.0</td>\n",
       "      <td>ENST00000593357</td>\n",
       "      <td>AC137056.1</td>\n",
       "      <td>COSV104978830_98529064</td>\n",
       "      <td>AC137056.1_COSV104978830_98529064</td>\n",
       "      <td>c.299_302dup</td>\n",
       "      <td>ATGCTTTCAGTTTCTATACTCCATCAATTTGCTTGTCTTGGCTTCT...</td>\n",
       "      <td>duplication</td>\n",
       "      <td>299.0</td>\n",
       "      <td>302.0</td>\n",
       "      <td>408.0</td>\n",
       "      <td>106.0</td>\n",
       "      <td>109.0</td>\n",
       "      <td>299.0</td>\n",
       "      <td>106.0</td>\n",
       "      <td>290.0</td>\n",
       "      <td>100.0</td>\n",
       "    </tr>\n",
       "  </tbody>\n",
       "</table>\n",
       "</div>"
      ],
      "text/plain": [
       "                                              header  transcript_count  \\\n",
       "0       ENST00000439458_UNC80_COSV104380982_58896742           63412.0   \n",
       "1      ENST00000266503_ARNTL2_COSV104369715_20849862           25806.0   \n",
       "2        ENST00000294725_KCNT2_COSV54078235_26025088           19448.0   \n",
       "3  ENST00000598320_AC068620.1_COSV51704654_100123354           12439.0   \n",
       "4  ENST00000593357_AC137056.1_COSV104978830_98529064            6053.0   \n",
       "\n",
       "            seq_ID   gene_name             mutation_id  \\\n",
       "0  ENST00000439458       UNC80  COSV104380982_58896742   \n",
       "1  ENST00000266503      ARNTL2  COSV104369715_20849862   \n",
       "2  ENST00000294725       KCNT2   COSV54078235_26025088   \n",
       "3  ENST00000598320  AC068620.1  COSV51704654_100123354   \n",
       "4  ENST00000593357  AC137056.1  COSV104978830_98529064   \n",
       "\n",
       "                              mut_ID  \\\n",
       "0       UNC80_COSV104380982_58896742   \n",
       "1      ARNTL2_COSV104369715_20849862   \n",
       "2        KCNT2_COSV54078235_26025088   \n",
       "3  AC068620.1_COSV51704654_100123354   \n",
       "4  AC137056.1_COSV104978830_98529064   \n",
       "\n",
       "                                            mutation  \\\n",
       "0  c.8141_8142insTTTTTTTTTTCAAGCAGAAGACGGCATACGAG...   \n",
       "1  c.947_948insTTTTTTTCAAGCAGAAGACGGCATACGAGATGAT...   \n",
       "2                      c.549_550insACGGCGACCACCGAGAT   \n",
       "3                                           c.414G>A   \n",
       "4                                       c.299_302dup   \n",
       "\n",
       "                                       full_sequence variant_type  \\\n",
       "0  ATGGTGAAGAGGAAGAGCTCCGAGGGCCAGGAGCAGGACGGCGGCC...     insertion   \n",
       "1  ATGGCGGCGGAAGAGGAGGCTGCGGCGGGAGGTAAAGTGTTGAGAG...     insertion   \n",
       "2  ATGGTTGATTTGGAGAGCGAAGTGCCCCCTCTGCCTCCCAGGTACA...     insertion   \n",
       "3  ATGGAGAGTGGAGCAGGAAAGCACTGGACTGAGGAGGAGGTTAAAG...  substitution   \n",
       "4  ATGCTTTCAGTTTCTATACTCCATCAATTTGCTTGTCTTGGCTTCT...   duplication   \n",
       "\n",
       "   start_nucleotide  end_nucleotide  sequence_length  \\\n",
       "0            8141.0          8142.0           9777.0   \n",
       "1             947.0           948.0           1911.0   \n",
       "2             549.0           550.0           3408.0   \n",
       "3             414.0           414.0            450.0   \n",
       "4             299.0           302.0            408.0   \n",
       "\n",
       "   start_nucleotide_reverse  end_nucleotide_reverse  distance_from_5_prime  \\\n",
       "0                    1635.0                  1636.0                 8141.0   \n",
       "1                     963.0                   964.0                  947.0   \n",
       "2                    2858.0                  2859.0                  549.0   \n",
       "3                      36.0                    36.0                  414.0   \n",
       "4                     106.0                   109.0                  299.0   \n",
       "\n",
       "   distance_from_3_prime  distance_5_prime_bin  distance_3_prime_bin  \n",
       "0                 1635.0                8140.0                1630.0  \n",
       "1                  963.0                 940.0                 960.0  \n",
       "2                 2858.0                 540.0                2850.0  \n",
       "3                   36.0                 410.0                  30.0  \n",
       "4                  106.0                 290.0                 100.0  "
      ]
     },
     "execution_count": 48,
     "metadata": {},
     "output_type": "execute_result"
    }
   ],
   "source": [
    "base_dir = \"/home/jrich/Desktop/CART_prostate_sc\"  # os.path.dirname(os.path.dirname(__file__))\n",
    "run_id = \"SAMN10988512_SRX5414523_SRR8615230\"\n",
    "adata_processed_path = \"/home/jrich/Desktop/CART_prostate_sc/data/output/SAMN10988512_SRX5414523_SRR8615230/data/adata_processed.h5ad\"\n",
    "cosmic_reference_with_aa_mutations_path = \"/home/jrich/Desktop/CART_prostate_sc/data/reference/COSMIC/GRCh37/CancerMutationCensus_AllData_Tsv_v100_GRCh37/CancerMutationCensus_AllData_v100_GRCh37_gget_mutate_updated.csv\"\n",
    "n = 3\n",
    "\n",
    "data_folder = os.path.join(base_dir, 'data')\n",
    "output_figure_dir = os.path.join(data_folder, 'output', run_id, 'figures', 'mutation_protein')\n",
    "output_data_dir = os.path.join(data_folder, 'output', run_id, 'data')\n",
    "\n",
    "os.makedirs(output_figure_dir, exist_ok=True)\n",
    "os.makedirs(output_data_dir, exist_ok=True)\n",
    "\n",
    "adata = ad.read_h5ad(adata_processed_path)\n",
    "adata.var.head()"
   ]
  },
  {
   "cell_type": "code",
   "execution_count": 15,
   "metadata": {},
   "outputs": [],
   "source": [
    "# # For simplicity, filter out all mutants with ambiguous identity\n",
    "# adata = adata[:, adata.var[~adata.var['header'].str.contains(';', na=False)].index].copy()"
   ]
  },
  {
   "cell_type": "markdown",
   "metadata": {},
   "source": [
    "## Elm - Requires having run gget mutate --translate - see notebook 1 for details"
   ]
  },
  {
   "cell_type": "code",
   "execution_count": 51,
   "metadata": {},
   "outputs": [],
   "source": [
    "adata = adata[:, :3].copy()"
   ]
  },
  {
   "cell_type": "code",
   "execution_count": 53,
   "metadata": {},
   "outputs": [],
   "source": [
    "adata.var['header'] = '>' + adata.var['header']\n",
    "adata.var = adata.var.merge(pd.read_csv(cosmic_reference_with_aa_mutations_path, usecols=['header', 'mutation_aa', 'wt_sequence_aa_full', 'mutant_sequence_aa_full']), on='header', how='left')\n",
    "adata.var['header'] = adata.var['header'].str.lstrip('>')"
   ]
  },
  {
   "cell_type": "code",
   "execution_count": 63,
   "metadata": {},
   "outputs": [
    {
     "name": "stderr",
     "output_type": "stream",
     "text": [
      "11:42:27 - INFO - ELM_Classes_Download_Version: 1.4, ELM_Classes_Download_Date: 2024-07-02 22:11:33.947551\n",
      "11:42:27 - INFO - ELM_Instance_Download_Version: 1.4, ELM_Instance_Download_Date: 2024-07-02 22:11:42.402944\n",
      "11:42:27 - INFO - ORTHO Compiling ortholog information...\n",
      "11:42:27 - INFO - ORTHO Performing pairwise sequence alignment against ELM database using DIAMOND for 1 sequence(s)...\n",
      "11:42:27 - INFO - Creating DIAMOND database and initiating alignment...\n"
     ]
    },
    {
     "name": "stdout",
     "output_type": "stream",
     "text": [
      "diamond version 2.1.8\n"
     ]
    },
    {
     "name": "stderr",
     "output_type": "stream",
     "text": [
      "11:42:28 - INFO - DIAMOND alignment complete.\n",
      "11:42:28 - WARNING - ORTHO Sequence 1/1: No orthologous proteins found in ELM database.\n",
      "11:42:28 - WARNING - ORTHO No ELM database orthologs found for input sequence or UniProt Acc.\n",
      "11:42:28 - INFO - REGEX Finding regex motif matches...\n",
      "11:42:28 - WARNING - REGEX No regex matches found for input sequence or UniProt Acc.\n"
     ]
    }
   ],
   "source": [
    "try:\n",
    "    gget.elm(\"TEST\")\n",
    "except FileNotFoundError:\n",
    "    gget.setup('elm')"
   ]
  },
  {
   "cell_type": "code",
   "execution_count": 66,
   "metadata": {},
   "outputs": [
    {
     "name": "stderr",
     "output_type": "stream",
     "text": [
      "11:43:36 - INFO - ELM_Classes_Download_Version: 1.4, ELM_Classes_Download_Date: 2024-07-02 22:11:33.947551\n",
      "11:43:36 - INFO - ELM_Instance_Download_Version: 1.4, ELM_Instance_Download_Date: 2024-07-02 22:11:42.402944\n",
      "11:43:36 - WARNING - Input amino acid sequence contains invalid characters. If the input is a UniProt Acc, please use flag --uniprot (Python: uniprot=True).\n",
      "11:43:36 - INFO - ORTHO Compiling ortholog information...\n",
      "11:43:36 - INFO - ORTHO Performing pairwise sequence alignment against ELM database using DIAMOND for 1 sequence(s)...\n",
      "11:43:36 - INFO - Creating DIAMOND database and initiating alignment...\n"
     ]
    },
    {
     "name": "stdout",
     "output_type": "stream",
     "text": [
      "diamond version 2.1.8\n"
     ]
    },
    {
     "name": "stderr",
     "output_type": "stream",
     "text": [
      "11:43:38 - INFO - DIAMOND alignment complete.\n",
      "11:43:38 - WARNING - ORTHO Sequence 1/1: No orthologous proteins found in ELM database.\n",
      "11:43:38 - WARNING - ORTHO No ELM database orthologs found for input sequence or UniProt Acc.\n",
      "11:43:38 - INFO - REGEX Finding regex motif matches...\n",
      "11:43:56 - INFO - ELM_Classes_Download_Version: 1.4, ELM_Classes_Download_Date: 2024-07-02 22:11:33.947551\n",
      "11:43:56 - INFO - ELM_Instance_Download_Version: 1.4, ELM_Instance_Download_Date: 2024-07-02 22:11:42.402944\n",
      "11:43:56 - WARNING - Input amino acid sequence contains invalid characters. If the input is a UniProt Acc, please use flag --uniprot (Python: uniprot=True).\n",
      "11:43:56 - INFO - ORTHO Compiling ortholog information...\n",
      "11:43:56 - INFO - ORTHO Performing pairwise sequence alignment against ELM database using DIAMOND for 1 sequence(s)...\n",
      "11:43:56 - INFO - Creating DIAMOND database and initiating alignment...\n"
     ]
    },
    {
     "name": "stdout",
     "output_type": "stream",
     "text": [
      "diamond version 2.1.8\n"
     ]
    },
    {
     "name": "stderr",
     "output_type": "stream",
     "text": [
      "11:43:58 - INFO - DIAMOND alignment complete.\n",
      "11:43:58 - WARNING - ORTHO Sequence 1/1: No orthologous proteins found in ELM database.\n",
      "11:43:58 - WARNING - ORTHO No ELM database orthologs found for input sequence or UniProt Acc.\n",
      "11:43:58 - INFO - REGEX Finding regex motif matches...\n",
      "11:44:14 - INFO - ELM_Classes_Download_Version: 1.4, ELM_Classes_Download_Date: 2024-07-02 22:11:33.947551\n",
      "11:44:14 - INFO - ELM_Instance_Download_Version: 1.4, ELM_Instance_Download_Date: 2024-07-02 22:11:42.402944\n",
      "11:44:14 - WARNING - Input amino acid sequence contains invalid characters. If the input is a UniProt Acc, please use flag --uniprot (Python: uniprot=True).\n",
      "11:44:14 - INFO - ORTHO Compiling ortholog information...\n",
      "11:44:14 - INFO - ORTHO Performing pairwise sequence alignment against ELM database using DIAMOND for 1 sequence(s)...\n",
      "11:44:14 - INFO - Creating DIAMOND database and initiating alignment...\n"
     ]
    },
    {
     "name": "stdout",
     "output_type": "stream",
     "text": [
      "Saved ENST00000439458_UNC80_COSV104380982_58896742 to /home/jrich/Desktop/CART_prostate_sc/data/output/SAMN10988512_SRX5414523_SRR8615230/data\n",
      "diamond version 2.1.8\n"
     ]
    },
    {
     "name": "stderr",
     "output_type": "stream",
     "text": [
      "11:44:16 - INFO - DIAMOND alignment complete.\n",
      "11:44:16 - INFO - ORTHO Sequence 1/1: DIAMOND found the following orthologous proteins: P27540, Q99814, Q16665, Q9Y2N7, O54943, O15055, Q24167, Q15596, O35973, P35869, G5EGD2. Retrieving ELMs for each UniProt Acc...\n",
      "11:44:16 - INFO - REGEX Finding regex motif matches...\n",
      "11:44:19 - INFO - ELM_Classes_Download_Version: 1.4, ELM_Classes_Download_Date: 2024-07-02 22:11:33.947551\n",
      "11:44:19 - INFO - ELM_Instance_Download_Version: 1.4, ELM_Instance_Download_Date: 2024-07-02 22:11:42.402944\n",
      "11:44:19 - WARNING - Input amino acid sequence contains invalid characters. If the input is a UniProt Acc, please use flag --uniprot (Python: uniprot=True).\n",
      "11:44:19 - INFO - ORTHO Compiling ortholog information...\n",
      "11:44:19 - INFO - ORTHO Performing pairwise sequence alignment against ELM database using DIAMOND for 1 sequence(s)...\n",
      "11:44:19 - INFO - Creating DIAMOND database and initiating alignment...\n"
     ]
    },
    {
     "name": "stdout",
     "output_type": "stream",
     "text": [
      "diamond version 2.1.8\n"
     ]
    },
    {
     "name": "stderr",
     "output_type": "stream",
     "text": [
      "11:44:21 - INFO - DIAMOND alignment complete.\n",
      "11:44:21 - INFO - ORTHO Sequence 1/1: DIAMOND found the following orthologous proteins: P27540, Q99814, Q15596, Q16665, P35869, Q9Y2N7, G5EGD2, Q24167. Retrieving ELMs for each UniProt Acc...\n",
      "11:44:22 - INFO - REGEX Finding regex motif matches...\n",
      "11:44:25 - INFO - ELM_Classes_Download_Version: 1.4, ELM_Classes_Download_Date: 2024-07-02 22:11:33.947551\n",
      "11:44:25 - INFO - ELM_Instance_Download_Version: 1.4, ELM_Instance_Download_Date: 2024-07-02 22:11:42.402944\n",
      "11:44:25 - WARNING - Input amino acid sequence contains invalid characters. If the input is a UniProt Acc, please use flag --uniprot (Python: uniprot=True).\n",
      "11:44:25 - INFO - ORTHO Compiling ortholog information...\n",
      "11:44:25 - INFO - ORTHO Performing pairwise sequence alignment against ELM database using DIAMOND for 1 sequence(s)...\n",
      "11:44:25 - INFO - Creating DIAMOND database and initiating alignment...\n"
     ]
    },
    {
     "name": "stdout",
     "output_type": "stream",
     "text": [
      "Saved ENST00000266503_ARNTL2_COSV104369715_20849862 to /home/jrich/Desktop/CART_prostate_sc/data/output/SAMN10988512_SRX5414523_SRR8615230/data\n",
      "diamond version 2.1.8\n"
     ]
    },
    {
     "name": "stderr",
     "output_type": "stream",
     "text": [
      "11:44:27 - INFO - DIAMOND alignment complete.\n",
      "11:44:27 - WARNING - ORTHO Sequence 1/1: No orthologous proteins found in ELM database.\n",
      "11:44:27 - WARNING - ORTHO No ELM database orthologs found for input sequence or UniProt Acc.\n",
      "11:44:27 - INFO - REGEX Finding regex motif matches...\n",
      "11:44:34 - INFO - ELM_Classes_Download_Version: 1.4, ELM_Classes_Download_Date: 2024-07-02 22:11:33.947551\n",
      "11:44:34 - INFO - ELM_Instance_Download_Version: 1.4, ELM_Instance_Download_Date: 2024-07-02 22:11:42.402944\n",
      "11:44:34 - WARNING - Input amino acid sequence contains invalid characters. If the input is a UniProt Acc, please use flag --uniprot (Python: uniprot=True).\n",
      "11:44:34 - INFO - ORTHO Compiling ortholog information...\n",
      "11:44:34 - INFO - ORTHO Performing pairwise sequence alignment against ELM database using DIAMOND for 1 sequence(s)...\n",
      "11:44:34 - INFO - Creating DIAMOND database and initiating alignment...\n"
     ]
    },
    {
     "name": "stdout",
     "output_type": "stream",
     "text": [
      "diamond version 2.1.8\n"
     ]
    },
    {
     "name": "stderr",
     "output_type": "stream",
     "text": [
      "11:44:36 - INFO - DIAMOND alignment complete.\n",
      "11:44:36 - WARNING - ORTHO Sequence 1/1: No orthologous proteins found in ELM database.\n",
      "11:44:36 - WARNING - ORTHO No ELM database orthologs found for input sequence or UniProt Acc.\n",
      "11:44:36 - INFO - REGEX Finding regex motif matches...\n"
     ]
    },
    {
     "name": "stdout",
     "output_type": "stream",
     "text": [
      "Saved ENST00000294725_KCNT2_COSV54078235_26025088 to /home/jrich/Desktop/CART_prostate_sc/data/output/SAMN10988512_SRX5414523_SRR8615230/data\n"
     ]
    }
   ],
   "source": [
    "for index, row in adata.var.iterrows():\n",
    "    header = row['header']\n",
    "    aa_sequence_wt = row['wt_sequence_aa_full']  #* old name: full_sequence_wt_aa\n",
    "    aa_sequence_mutant = row['mutant_sequence_aa_full']  #* old name: full_sequence_mutant_aa\n",
    "    # !gget elm {aa_sequence} --out {output_data_dir}/{index}_{header}_elm.txt\n",
    "    gget.elm(aa_sequence_wt, out = os.path.join(output_data_dir, f'{index}_{header}_wt_elm'))\n",
    "    gget.elm(aa_sequence_mutant, out = os.path.join(output_data_dir, f'{index}_{header}_mutant_elm'))\n",
    "    print(f\"Saved {header} to {output_data_dir}\")"
   ]
  }
 ],
 "metadata": {
  "kernelspec": {
   "display_name": "CART4",
   "language": "python",
   "name": "python3"
  },
  "language_info": {
   "codemirror_mode": {
    "name": "ipython",
    "version": 3
   },
   "file_extension": ".py",
   "mimetype": "text/x-python",
   "name": "python",
   "nbconvert_exporter": "python",
   "pygments_lexer": "ipython3",
   "version": "3.10.14"
  }
 },
 "nbformat": 4,
 "nbformat_minor": 2
}
