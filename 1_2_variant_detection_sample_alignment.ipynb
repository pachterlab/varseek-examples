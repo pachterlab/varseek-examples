{
 "cells": [
  {
   "cell_type": "markdown",
   "metadata": {},
   "source": [
    "# Imports"
   ]
  },
  {
   "cell_type": "code",
   "execution_count": 1,
   "metadata": {},
   "outputs": [],
   "source": [
    "import os\n",
    "import subprocess\n",
    "\n",
    "import varseek as vk\n",
    "from varseek.utils import make_vaf_matrix, add_vcf_info_to_cosmic_tsv, order_fastqs_correctly_for_kb_count"
   ]
  },
  {
   "cell_type": "markdown",
   "metadata": {},
   "source": [
    "# Hyperparameters"
   ]
  },
  {
   "cell_type": "code",
   "execution_count": null,
   "metadata": {},
   "outputs": [],
   "source": [
    "w=54  # window size for varseek build (should be at least 1 less than kallisto k)\n",
    "k=55\n",
    "k_standard=31\n",
    "threads = 32\n",
    "strand = \"unstranded\"  # \"forward\", \"reverse\", or \"unstranded\"\n",
    "\n",
    "# fastq cleanup preceding kb count\n",
    "trim_edges_off_reads = False\n",
    "minimum_base_quality_trim_reads=13\n",
    "qualified_quality_phred = 15\n",
    "unqualified_percent_limit = 50  # unqualified_percent_limit% of bases in a read must have a quality score of at least qualified_quality_phred\n",
    "n_base_limit = None\n",
    "length_required = None\n",
    "\n",
    "minimum_base_quality_replace_with_N=5\n",
    "split_reads_by_Ns_and_low_quality_bases = False\n",
    "run_fastqc = False\n",
    "\n",
    "# kb count\n",
    "technology = \"bulk\"  # same options as kb count\n",
    "parity = \"single\"  # single or paired\n",
    "\n",
    "# vk clean\n",
    "minimum_count_filter = None  #!!! still need to tune this  \n",
    "use_binary_matrix = False\n",
    "drop_zero_columns = False\n",
    "filter_cells_by_min_counts = True  # True for auto-filter, numeric for set filter, None/False otherwise\n",
    "filter_cells_by_min_genes = 200\n",
    "filter_genes_by_min_cells = 3\n",
    "filter_cells_by_max_mt_content = False\n",
    "doublet_detection = True\n",
    "remove_doublets = False\n",
    "do_cpm_normalization = True\n",
    "split_reads_by_Ns_and_low_quality_bases = False\n",
    "dlist_file = None\n",
    "mutation_metadata_df_columns = None  #!!! replace\n",
    "\n",
    "# Paths\n",
    "out_dir_base = \"/home/jrich/data/varseek_data_fresh\"\n",
    "reference_out_dir = os.path.join(out_dir_base, \"reference\")\n",
    "out_dir_notebook = f\"{out_dir_base}/alignment_output\"\n",
    "index_dir = os.path.join(out_dir_base, \"vk_build_pipeline_t2t_nov16\")\n",
    "rnaseq_fastq_files = \"/home/jrich/data/varseek_data/sequencing/sc/melanoma_10x/10k_Human_DTC_Melanoma_3p_nextgem_fastqs/gex\"  # pass as a single string or as a list of strings or a directory to fastq files (if paired-end, then pass each pair sequentially with R1 preceding R2) - if using directory, then it will call order_fastqs_correctly_for_kb_count - don't include index files for single-cell\n",
    "multiplexed = False  # True if fastq files are multiplexed\n",
    "seqtk=\"seqtk\"\n",
    "mutation_index = f\"{index_dir}/mutation_reference.idx\"\n",
    "t2g_vk_filter = os.path.join(index_dir, \"t2g_filtered.txt\")\n",
    "wt_vcrs_index = mutation_index = f\"{index_dir}/wt_vcrs_reference.idx\"\n",
    "wt_vcrs_t2g = os.path.join(out_dir_notebook, \"t2g_wt_filtered.txt\")\n",
    "standard_index = \"\"\n",
    "standard_t2g = \"\"\n",
    "standard_genome = \"\"  #!!! can use gget ref\n",
    "standard_gtf = \"\"  #!!! can use gget ref"
   ]
  },
  {
   "cell_type": "code",
   "execution_count": null,
   "metadata": {},
   "outputs": [],
   "source": [
    "kb_count_out = f\"{out_dir_notebook}/kb_count_out\"\n",
    "kb_count_out_wt_vcrs = f\"{out_dir_notebook}/kb_count_out_wt_vcrs\"\n",
    "kb_count_out_standard_index = f\"{out_dir_notebook}/kb_count_out_standard\"\n",
    "vk_summarize_output_dir = f\"{out_dir_notebook}/vk_summarize\"\n",
    "fastqc_out_dir = f\"{out_dir_notebook}/fastqc_out\"\n",
    "\n",
    "\n",
    "os.makedirs(out_dir_base, exist_ok=True)\n",
    "os.makedirs(out_dir_notebook, exist_ok=True)\n",
    "os.makedirs(reference_out_dir, exist_ok=True)\n",
    "os.makedirs(kb_count_out, exist_ok=True)\n",
    "os.makedirs(kb_count_out_wt_vcrs, exist_ok=True)\n",
    "os.makedirs(kb_count_out_standard_index, exist_ok=True)\n",
    "os.makedirs(vk_summarize_output_dir, exist_ok=True)\n",
    "os.makedirs(fastqc_out_dir, exist_ok=True)\n",
    "\n",
    "assert k >= w + 1, \"k must be greater than or equal to w + 1\"\n",
    "\n",
    "if isinstance(rnaseq_fastq_files, str):\n",
    "    if os.isdir(rnaseq_fastq_files):  # is a directory\n",
    "        rnaseq_fastq_files = order_fastqs_correctly_for_kb_count(rnaseq_fastq_files, technology=technology, multiplexed=multiplexed)\n",
    "    else:  # is a space-separated string\n",
    "        rnaseq_fastq_files = [rnaseq_fastq_files]\n",
    "\n",
    "adata_path = f\"{kb_count_out}/counts_unfiltered/adata.h5ad\"\n",
    "adata_path_wt_vcrs = f\"{kb_count_out_wt_vcrs}/counts_unfiltered/adata.h5ad\"\n",
    "adata_path_normal_genome = f\"{kb_count_out_standard_index}/counts_unfiltered/adata.h5ad\"\n",
    "mutation_metadata_df_path = os.path.join(index_dir, \"variants_updated_filtered.csv\")"
   ]
  },
  {
   "cell_type": "code",
   "execution_count": null,
   "metadata": {},
   "outputs": [],
   "source": [
    "rnaseq_fastq_files_list_dict = vk.fastqpp(\n",
    "    rnaseq_fastq_files_list=rnaseq_fastq_files, \n",
    "    trim_edges_off_reads = trim_edges_off_reads, \n",
    "    run_fastqc = run_fastqc, \n",
    "    split_reads_by_Ns_and_low_quality_bases = split_reads_by_Ns_and_low_quality_bases, \n",
    "    parity = parity, \n",
    "    technology=technology,\n",
    "    fastqc_out_dir = fastqc_out_dir,\n",
    "    minimum_base_quality_trim_reads = minimum_base_quality_trim_reads,\n",
    "    qualified_quality_phred = qualified_quality_phred,\n",
    "    unqualified_percent_limit = unqualified_percent_limit,\n",
    "    n_base_limit = n_base_limit,\n",
    "    minimum_length = k,\n",
    "    minimum_base_quality_replace_with_N=minimum_base_quality_replace_with_N,\n",
    "    fastp = \"fastp\",\n",
    "    seqtk = seqtk,\n",
    "    delete_intermediate_files = False\n",
    ")\n",
    "\n",
    "rnaseq_fastq_files_quality_controlled = rnaseq_fastq_files_list_dict[\"quality_controlled\"]\n",
    "rnaseq_fastq_files_final = rnaseq_fastq_files_list_dict[\"final\"]"
   ]
  },
  {
   "cell_type": "markdown",
   "metadata": {},
   "source": [
    "# kb count"
   ]
  },
  {
   "cell_type": "code",
   "execution_count": null,
   "metadata": {},
   "outputs": [],
   "source": [
    "if not os.path.exists(kb_count_out) or len(os.listdir(kb_count_out)) == 0:\n",
    "    kb_count_command = [\"kb\", \"count\", \"-t\", str(threads), \"-k\", str(k), \"-i\", mutation_index, \"-g\", t2g_vk_filter, \"-x\", technology, \"--num\", \"--h5ad\", \"--parity\", \"single\", \"--strand\", strand, \"-o\", kb_count_out] + rnaseq_fastq_files_final\n",
    "    subprocess.run(kb_count_command, check=True)"
   ]
  },
  {
   "cell_type": "markdown",
   "metadata": {},
   "source": [
    "kb count on wt vcrs index"
   ]
  },
  {
   "cell_type": "code",
   "execution_count": null,
   "metadata": {},
   "outputs": [],
   "source": [
    "if os.path.exists(wt_vcrs_index) and (not os.path.exists(kb_count_out_wt_vcrs) or len(os.listdir(kb_count_out_wt_vcrs)) == 0):\n",
    "    kb_count_command = [\"kb\", \"count\", \"-t\", str(threads), \"-k\", str(k), \"-i\", wt_vcrs_index, \"-g\", wt_vcrs_t2g, \"-x\", technology, \"--num\", \"--h5ad\", \"--parity\", \"single\", \"--strand\", strand, \"-o\", kb_count_out_wt_vcrs] + rnaseq_fastq_files_final\n",
    "    subprocess.run(kb_count_command, check=True)"
   ]
  },
  {
   "cell_type": "markdown",
   "metadata": {},
   "source": [
    "# Optionally, kb ref and count on normal genome"
   ]
  },
  {
   "cell_type": "code",
   "execution_count": null,
   "metadata": {},
   "outputs": [],
   "source": [
    "if not os.path.exists(standard_index) or not os.path.exists(standard_t2g):\n",
    "    if k_standard == 31:\n",
    "        kb_ref_command = [\"kb\", \"ref\", \"-t\", str(threads), \"-i\", standard_index, \"-g\", standard_t2g, \"-d\", \"human\"]\n",
    "    else:  \n",
    "        kb_ref_command = [\"kb\", \"ref\", \"-t\", str(threads), \"-k\", str(k_standard), \"-i\", standard_index, \"-g\", standard_t2g, standard_genome, standard_gtf]\n",
    "    subprocess.run(kb_ref_command, check=True)\n",
    "\n",
    "# TODO: incorporate technology bulk vs sc in here\n",
    "if not os.path.exists(kb_count_out_standard_index) or len(os.listdir(kb_count_out_standard_index)) == 0:\n",
    "    kb_count_standard_index_command = [\"kb\", \"count\", \"-t\", str(threads), \"-k\", str(k_standard), \"-i\", standard_index, \"-g\", standard_t2g, \"-x\", \"bulk\", \"--h5ad\", \"--parity\", parity, \"--strand\", strand, \"-o\", kb_count_out_standard_index] + rnaseq_fastq_files_quality_controlled\n",
    "    subprocess.run(kb_count_standard_index_command, check=True)"
   ]
  },
  {
   "cell_type": "markdown",
   "metadata": {},
   "source": [
    "# vk clean"
   ]
  },
  {
   "cell_type": "code",
   "execution_count": null,
   "metadata": {},
   "outputs": [],
   "source": [
    "# TODO: wrap inside a single vk clean command\n",
    "adata_path_clean = vk.clean(adata_path, output_figures_dir = f\"{out_dir_notebook}/vk_clean_figures\", mutation_metadata_df = mutation_metadata_df_path, mutation_metadata_df_columns = mutation_metadata_df_columns, minimum_count_filter = minimum_count_filter, use_binary_matrix = use_binary_matrix, drop_zero_columns = drop_zero_columns, filter_cells_by_min_counts = filter_cells_by_min_counts, filter_cells_by_min_genes = filter_cells_by_min_genes, filter_genes_by_min_cells = filter_genes_by_min_cells, filter_cells_by_max_mt_content = filter_cells_by_max_mt_content, doublet_detection = doublet_detection, remove_doublets = remove_doublets, do_cpm_normalization = do_cpm_normalization, adata_path_normal_genome = adata_path_normal_genome, vcrs_id_column = \"vcrs_id\")\n",
    "\n",
    "if os.path.exists(adata_path_wt_vcrs):\n",
    "    adata_path_wt_vcrs_clean = vk.clean(adata_path_wt_vcrs, output_figures_dir = f\"{out_dir_notebook}/vk_clean_figures_wt_vcrs\", mutation_metadata_df = mutation_metadata_df_path, mutation_metadata_df_columns = mutation_metadata_df_columns, minimum_count_filter = minimum_count_filter, use_binary_matrix = use_binary_matrix, drop_zero_columns = drop_zero_columns, filter_cells_by_min_counts = filter_cells_by_min_counts, filter_cells_by_min_genes = filter_cells_by_min_genes, filter_genes_by_min_cells = filter_genes_by_min_cells, filter_cells_by_max_mt_content = filter_cells_by_max_mt_content, doublet_detection = doublet_detection, remove_doublets = remove_doublets, do_cpm_normalization = do_cpm_normalization, adata_path_normal_genome = adata_path_normal_genome, vcrs_id_column = \"vcrs_id\")\n",
    "    \n",
    "adata_vaf_output_path = make_vaf_matrix(adata_path_clean, adata_path_wt_vcrs_clean)"
   ]
  },
  {
   "cell_type": "code",
   "execution_count": null,
   "metadata": {},
   "outputs": [],
   "source": [
    "cosmic_tsv = \"\"\n",
    "reference_genome_fasta = \"\"  # grch37, ensembl93\n",
    "cosmic_cdna_info_csv = \"\"\n",
    "id_to_header_csv = \"\"\n",
    "\n",
    "# I need a metadata df with ID (corresponding to vcrs_header), CHROM, POS, REF, ALT\n",
    "cosmic_df = add_vcf_info_to_cosmic_tsv(cosmic_tsv=cosmic_tsv, reference_genome_fasta=reference_genome_fasta, cosmic_df_out = None, cosmic_cdna_info_csv = cosmic_cdna_info_csv, mutation_source = \"cdna\")\n",
    "# cosmic_df = cosmic_df.rename(columns=lambda x: f\"{x}_vcf\")\n",
    "\n",
    "import scanpy as sc\n",
    "import numpy as np\n",
    "import pandas as pd\n",
    "import scipy as sp\n",
    "import pysam\n",
    "from varseek.utils import match_adata_orders, write_to_vcf, write_vcfs_for_rows\n",
    "\n",
    "adata = sc.read_h5ad(adata_path_clean)\n",
    "adata_wt_vcrs = sc.read_h5ad(adata_path_wt_vcrs_clean)\n",
    "adata_vaf = sc.read_h5ad(adata_vaf_output_path)\n",
    "\n",
    "\n",
    "adata_var_temp = adata.var[['vcrs_id', 'vcrs_header']].copy()\n",
    "\n",
    "# explode across semicolons\n",
    "adata_var_temp = adata_var_temp.assign(\n",
    "    vcrs_header=adata_var_temp[\"vcrs_header\"].str.split(\";\")\n",
    ").explode(\"vcrs_header\")\n",
    "\n",
    "adata_var_temp.reset_index(drop=True, inplace=True)\n",
    "\n",
    "adata_var_temp = adata_var_temp.merge(cosmic_df, left=\"vcrs_header\", right=\"ID\", how=\"left\")\n",
    "\n",
    "grouped_adata_var_temp = (\n",
    "    adata_var_temp\n",
    "    .groupby(\"vcrs_id\", sort=False)  # Group by vcrs_id while preserving order\n",
    "    .agg({\n",
    "        \"vcrs_header\": lambda x: \";\".join(x),  # Reconstruct vcrs_header as a single string\n",
    "        \"CHROM\": set,  # Collect CHROM values in the same order as rows\n",
    "        \"POS\": set,    # Collect POS values\n",
    "        \"REF\": set,    # Collect REF values\n",
    "        \"ALT\": set     # Collect ALT values\n",
    "    })\n",
    "    .reset_index()  # Reset index for cleaner result\n",
    ")\n",
    "\n",
    "for col in [\"CHROM\", \"POS\", \"REF\", \"ALT\"]:\n",
    "    grouped_adata_var_temp = grouped_adata_var_temp[grouped_adata_var_temp[col].apply(lambda x: len(set(x)) == 1)]\n",
    "    grouped_adata_var_temp[col] = grouped_adata_var_temp[col].apply(lambda x: x[0])\n",
    "\n",
    "adata.var = adata.var.merge(grouped_adata_var_temp, on=\"vcrs_id\", how=\"left\", suffixes=(\"_original\", \"\"))\n",
    "adata.var['ID'] = adata.var['ID'].fillna(adata.var['vcrs_id'])\n",
    "adata.var['DP'] = adata.var['vcrs_count'] + adata.var['wt_count']\n",
    "adata.var['AF'] = adata.var['vaf_across_samples']\n",
    "\n",
    "if sp.issparse(adata.X):\n",
    "    # Sparse matrix handling\n",
    "    adata.var[\"NS\"] = np.array((adata.X != 0).sum(axis=0)).flatten()\n",
    "else:\n",
    "    # Dense matrix handling\n",
    "    adata.var[\"NS\"] = (adata.X != 0).sum(axis=0)\n",
    "\n",
    "\n",
    "\n",
    "# Example usage\n",
    "write_to_vcf(adata.var, \"output.vcf\")\n",
    "\n",
    "adata_wt_vcrs = match_adata_orders(adata = adata_wt_vcrs, adata_ref = adata)\n",
    "adata_vaf = match_adata_orders(adata = adata_vaf, adata_ref = adata)\n",
    "\n",
    "write_vcfs_for_rows(adata = adata, adata_wt_vcrs = adata_wt_vcrs, adata_vaf = adata_vaf, output_dir = \".\")"
   ]
  },
  {
   "cell_type": "markdown",
   "metadata": {},
   "source": [
    "# vk summarize"
   ]
  },
  {
   "cell_type": "code",
   "execution_count": null,
   "metadata": {},
   "outputs": [],
   "source": [
    "vk.summarize(adata_path_clean, technology = technology, output_dir = vk_summarize_output_dir, overwrite = False, top_values = 10)"
   ]
  }
 ],
 "metadata": {
  "kernelspec": {
   "display_name": "kvar",
   "language": "python",
   "name": "python3"
  },
  "language_info": {
   "codemirror_mode": {
    "name": "ipython",
    "version": 3
   },
   "file_extension": ".py",
   "mimetype": "text/x-python",
   "name": "python",
   "nbconvert_exporter": "python",
   "pygments_lexer": "ipython3",
   "version": "3.10.15"
  }
 },
 "nbformat": 4,
 "nbformat_minor": 2
}
