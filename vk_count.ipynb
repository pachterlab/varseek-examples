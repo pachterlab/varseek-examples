{
 "cells": [
  {
   "cell_type": "markdown",
   "metadata": {},
   "source": [
    "<a href=\"https://colab.research.google.com/github/pachterlab/varseek-examples/blob/main/vk_count.ipynb\" target=\"_parent\"><img src=\"https://colab.research.google.com/assets/colab-badge.svg\" alt=\"Open In Colab\"/></a>"
   ]
  },
  {
   "cell_type": "markdown",
   "metadata": {},
   "source": [
    "# [vk count](https://github.com/pachterlab/varseek) demonstration\n",
    "Perform variant screening on scRNA-seq data with vk count, using a [10x PBMC 1k dataset](https://www.10xgenomics.com/datasets/1-k-pbm-cs-from-a-healthy-donor-v-3-chemistry-3-standard-3-0-0) as an example.\n",
    "\n",
    "Written by Joseph Rich.\n",
    "___"
   ]
  },
  {
   "cell_type": "code",
   "execution_count": null,
   "metadata": {},
   "outputs": [],
   "source": [
    "#!!!\n",
    "!wget -O /PATH/TO/ensembl_grch37_release93/1000GENOMES-phase_3.vcf.gz https://ftp.ensembl.org/pub/grch37/release-93/variation/vcf/homo_sapiens/1000GENOMES-phase_3.vcf.gz && gunzip /PATH/TO/ensembl_grch37_release93/1000GENOMES-phase_3.vcf.gz"
   ]
  },
  {
   "cell_type": "markdown",
   "metadata": {},
   "source": [
    "### Install varseek, and import all packages"
   ]
  },
  {
   "cell_type": "code",
   "execution_count": 1,
   "metadata": {},
   "outputs": [],
   "source": [
    "try:\n",
    "    import varseek as vk\n",
    "except ImportError:\n",
    "    print(\"varseek not found, installing...\")\n",
    "    !pip install -U -q varseek"
   ]
  },
  {
   "cell_type": "code",
   "execution_count": 2,
   "metadata": {},
   "outputs": [],
   "source": [
    "import os\n",
    "import subprocess\n",
    "import shutil\n",
    "\n",
    "import varseek as vk"
   ]
  },
  {
   "cell_type": "markdown",
   "metadata": {},
   "source": [
    "### Define important paths"
   ]
  },
  {
   "cell_type": "code",
   "execution_count": null,
   "metadata": {},
   "outputs": [],
   "source": [
    "# vk count out directory\n",
    "vk_count_out_dir = os.path.join(\"data\", \"varseek_count_out\")\n",
    "\n",
    "# vk ref out directory and files - downloaded if not already present\n",
    "vk_ref_out_dir = \"/Users/joeyrich/Desktop/local/varseek/data/vk_ref_fig1_3_4\"  # os.path.join(\"data\", \"varseek_ref_out\")   #!!! fix this\n",
    "vcrs_index = os.path.join(vk_ref_out_dir, \"vcrs_index.idx\")\n",
    "vcrs_t2g = os.path.join(vk_ref_out_dir, \"vcrs_t2g_filtered.txt\")\n",
    "\n",
    "# fastq directories - fastqs_dir downloaded if not already present, and fastqs_processed_dir created with fastp if not already present\n",
    "fastqs_dir = os.path.join(\"data\", \"pbmc_1k_v3_fastqs\")\n",
    "fastqs_processed_dir = os.path.join(fastqs_dir, \"filtered\")\n",
    "technology = \"10xv3\"\n",
    "strand_bias_end = \"3p\"  #* only do the transcript length checking (and possible alternative splice consideration) for 3' - the first 150 bases of 5' are generally kept in all splice variants\n",
    "\n",
    "# kb count to reference genome directory and files - created if not already present\n",
    "kb_count_reference_genome_dir = os.path.join(\"data\", \"kb_count_reference_genome\")\n",
    "reference_genome_index = os.path.join(kb_count_reference_genome_dir, \"index.idx\")  # either already exists or will be created\n",
    "reference_genome_t2g = os.path.join(kb_count_reference_genome_dir, \"t2g.txt\")  # either already exists or will be created\n",
    "# reference_genome_f1 = os.path.join(kb_count_reference_genome_dir, \"f1.fa\")  # only needed if species not provided\n",
    "\n",
    "# kb ref species or genome/gtf files - used to download or create kb index/t2g for reference genome for the step above if reference_genome_index and reference_genome_t2g do not exist\n",
    "species = \"human\"  # if reference_genome_index/reference_genome_t2g do not exist, then I need to supply either (1) species or (2) reference genome fasta and gtf\n",
    "# reference_genome_fasta = \"\"  # only needed if species not provided\n",
    "# reference_genome_gtf = \"\"  # only needed if species not provided\n",
    "\n",
    "# general\n",
    "threads = 2\n",
    "k=51  #!!! erase this"
   ]
  },
  {
   "cell_type": "markdown",
   "metadata": {},
   "source": [
    "### Run the notebook vk_ref.ipynb to generate the reference index and t2g files. Alternatively, download them from Box if they do not already exist."
   ]
  },
  {
   "cell_type": "code",
   "execution_count": 4,
   "metadata": {},
   "outputs": [],
   "source": [
    "if not os.path.exists(vcrs_index):\n",
    "    vcrs_index_url = \"https://caltech.box.com/shared/static/8693b78lh02fv8qh6wz6keng7cn2n91k.idx\"\n",
    "    vk.utils.download_box_url(vcrs_index_url, output_folder=vk_ref_out_dir, output_file_name=\"vcrs_index.idx\")\n",
    "\n",
    "if not os.path.exists(vcrs_t2g):\n",
    "    vcrs_t2g_url = \"https://caltech.box.com/shared/static/0svv7xx0mobhfzpiz7f48bjljhs72kcy.txt\"\n",
    "    vk.utils.download_box_url(vcrs_t2g_url, output_folder=vk_ref_out_dir, output_file_name=\"vcrs_t2g_filtered.txt\")"
   ]
  },
  {
   "cell_type": "markdown",
   "metadata": {},
   "source": [
    "### Download the PBMC fastq dataset"
   ]
  },
  {
   "cell_type": "code",
   "execution_count": 5,
   "metadata": {},
   "outputs": [],
   "source": [
    "if not os.path.exists(fastqs_dir) or len(os.listdir(fastqs_dir)) == 0:\n",
    "    !mkdir -p data && \\\n",
    "        cd data && \\\n",
    "        curl -O https://cf.10xgenomics.com/samples/cell-exp/3.0.0/pbmc_1k_v3/pbmc_1k_v3_fastqs.tar && \\\n",
    "        tar -xvf pbmc_1k_v3_fastqs.tar && \\\n",
    "        rm pbmc_1k_v3_fastqs.tar"
   ]
  },
  {
   "cell_type": "markdown",
   "metadata": {},
   "source": [
    "### (Recommended): Process the fastq data - as an example, we will use [fastp](https://github.com/OpenGene/fastp)\n",
    "Note: fastp was not designed for single-cell data, and as such it requires careful thought to ensure correct processing. The procedure belows works on 10xv3 fastq files, but may need to be modified for other datasets. The function vk.utils.perform_fastp_trimming_and_filtering (called internally by vk.count) handles these nuances. While vk count would handle this step, we call it outside of vk count to demonstrate the process for clarity."
   ]
  },
  {
   "cell_type": "code",
   "execution_count": 13,
   "metadata": {},
   "outputs": [
    {
     "name": "stdout",
     "output_type": "stream",
     "text": [
      "Processing pbmc_1k_v3_S1_L001_R1_001.fastq.gz and pbmc_1k_v3_S1_L001_R2_001.fastq.gz with fastp\n",
      "Low quality base removal for pbmc_1k_v3_S1_L001_R1_001.fastq.gz and pbmc_1k_v3_S1_L001_R2_001.fastq.gz\n",
      "Read1 before filtering:\n",
      "total reads: 33436697\n",
      "total bases: 936227516\n",
      "Q20 bases: 914825508(97.714%)\n",
      "Q30 bases: 875566255(93.5207%)\n",
      "\n",
      "Read2 before filtering:\n",
      "total reads: 33436697\n",
      "total bases: 3042739427\n",
      "Q20 bases: 2916461207(95.8499%)\n",
      "Q30 bases: 2748403739(90.3266%)\n",
      "\n",
      "Read1 after filtering:\n",
      "total reads: 33073426\n",
      "total bases: 926055928\n",
      "Q20 bases: 905632897(97.7946%)\n",
      "Q30 bases: 867362081(93.662%)\n",
      "\n",
      "Read2 after filtering:\n",
      "total reads: 33073426\n",
      "total bases: 3009681766\n",
      "Q20 bases: 2900191729(96.3621%)\n",
      "Q30 bases: 2737346398(90.9514%)\n",
      "\n",
      "Filtering result:\n",
      "reads passed filter: 66146852\n",
      "reads failed due to low quality: 725332\n",
      "reads failed due to too many N: 1210\n",
      "\n",
      "Insert size peak (evaluated by paired-end reads): 28\n",
      "\n",
      "JSON report: data/varseek_count_out/fastp_report1.json\n",
      "HTML report: data/varseek_count_out/fastp_report1.html\n",
      "\n",
      "fastp -i data/pbmc_1k_v3_fastqs/pbmc_1k_v3_S1_L001_R1_001.fastq.gz -I data/pbmc_1k_v3_fastqs/pbmc_1k_v3_S1_L001_R2_001.fastq.gz -o data/pbmc_1k_v3_fastqs/filtered/tmp_pbmc_1k_v3_S1_L001_R1_001.fastq.gz -O data/pbmc_1k_v3_fastqs/filtered/tmp_pbmc_1k_v3_S1_L001_R2_001.fastq.gz --disable_adapter_trimming --qualified_quality_phred 15 --unqualified_percent_limit 40 --average_qual 15 --n_base_limit 10 --disable_length_filtering --dont_eval_duplication --disable_trim_poly_g -h data/varseek_count_out/fastp_report1.html -j data/varseek_count_out/fastp_report1.json \n",
      "fastp v0.23.4, time used: 55 seconds\n",
      "Edge trimming for pbmc_1k_v3_S1_L001_R2_001.fastq.gz\n",
      "Detecting adapter sequence for read1...\n",
      "No adapter detected for read1\n",
      "\n",
      "Read1 before filtering:\n",
      "total reads: 33073426\n",
      "total bases: 3009681766\n",
      "Q20 bases: 2900191729(96.3621%)\n",
      "Q30 bases: 2737346398(90.9514%)\n",
      "\n",
      "Read1 after filtering:\n",
      "total reads: 33073426\n",
      "total bases: 3008448450\n",
      "Q20 bases: 2900012474(96.3956%)\n",
      "Q30 bases: 2737346291(90.9886%)\n",
      "\n",
      "Filtering result:\n",
      "reads passed filter: 33073426\n",
      "reads failed due to low quality: 0\n",
      "reads failed due to too many N: 0\n",
      "reads with adapter trimmed: 0\n",
      "bases trimmed due to adapters: 0\n",
      "\n",
      "JSON report: data/varseek_count_out/fastp_report2.json\n",
      "HTML report: data/varseek_count_out/fastp_report2.html\n",
      "\n",
      "fastp -i data/pbmc_1k_v3_fastqs/filtered/tmp_pbmc_1k_v3_S1_L001_R2_001.fastq.gz -o data/pbmc_1k_v3_fastqs/filtered/pbmc_1k_v3_S1_L001_R2_001.fastq.gz --cut_front --cut_tail --cut_window_size 4 --cut_mean_quality 15 --disable_quality_filtering --disable_length_filtering --dont_eval_duplication --disable_trim_poly_g -h data/varseek_count_out/fastp_report2.html -j data/varseek_count_out/fastp_report2.json --failed_out data/varseek_count_out/fastp_failed_tmp.fq \n",
      "fastp v0.23.4, time used: 56 seconds\n",
      "Processing pbmc_1k_v3_S1_L002_R1_001.fastq.gz and pbmc_1k_v3_S1_L002_R2_001.fastq.gz with fastp\n",
      "Low quality base removal for pbmc_1k_v3_S1_L002_R1_001.fastq.gz and pbmc_1k_v3_S1_L002_R2_001.fastq.gz\n",
      "Read1 before filtering:\n",
      "total reads: 33165190\n",
      "total bases: 928625320\n",
      "Q20 bases: 907211811(97.6941%)\n",
      "Q30 bases: 867921441(93.463%)\n",
      "\n",
      "Read2 before filtering:\n",
      "total reads: 33165190\n",
      "total bases: 3018032290\n",
      "Q20 bases: 2889908946(95.7547%)\n",
      "Q30 bases: 2719931289(90.1227%)\n",
      "\n",
      "Read1 after filtering:\n",
      "total reads: 32792379\n",
      "total bases: 918186612\n",
      "Q20 bases: 897809723(97.7807%)\n",
      "Q30 bases: 859558206(93.6148%)\n",
      "\n",
      "Read2 after filtering:\n",
      "total reads: 32792379\n",
      "total bases: 2984106489\n",
      "Q20 bases: 2873126149(96.281%)\n",
      "Q30 bases: 2708518975(90.7648%)\n",
      "\n",
      "Filtering result:\n",
      "reads passed filter: 65584758\n",
      "reads failed due to low quality: 744904\n",
      "reads failed due to too many N: 718\n",
      "\n",
      "Insert size peak (evaluated by paired-end reads): 28\n",
      "\n",
      "JSON report: data/varseek_count_out/fastp_report1.json\n",
      "HTML report: data/varseek_count_out/fastp_report1.html\n",
      "\n",
      "fastp -i data/pbmc_1k_v3_fastqs/pbmc_1k_v3_S1_L002_R1_001.fastq.gz -I data/pbmc_1k_v3_fastqs/pbmc_1k_v3_S1_L002_R2_001.fastq.gz -o data/pbmc_1k_v3_fastqs/filtered/tmp_pbmc_1k_v3_S1_L002_R1_001.fastq.gz -O data/pbmc_1k_v3_fastqs/filtered/tmp_pbmc_1k_v3_S1_L002_R2_001.fastq.gz --disable_adapter_trimming --qualified_quality_phred 15 --unqualified_percent_limit 40 --average_qual 15 --n_base_limit 10 --disable_length_filtering --dont_eval_duplication --disable_trim_poly_g -h data/varseek_count_out/fastp_report1.html -j data/varseek_count_out/fastp_report1.json \n",
      "fastp v0.23.4, time used: 57 seconds\n",
      "Edge trimming for pbmc_1k_v3_S1_L002_R2_001.fastq.gz\n",
      "Detecting adapter sequence for read1...\n",
      "No adapter detected for read1\n",
      "\n",
      "Read1 before filtering:\n",
      "total reads: 32792379\n",
      "total bases: 2984106489\n",
      "Q20 bases: 2873126149(96.281%)\n",
      "Q30 bases: 2708518975(90.7648%)\n",
      "\n",
      "Read1 after filtering:\n",
      "total reads: 32792379\n",
      "total bases: 2982863252\n",
      "Q20 bases: 2872944110(96.315%)\n",
      "Q30 bases: 2708518816(90.8026%)\n",
      "\n",
      "Filtering result:\n",
      "reads passed filter: 32792379\n",
      "reads failed due to low quality: 0\n",
      "reads failed due to too many N: 0\n",
      "reads with adapter trimmed: 0\n",
      "bases trimmed due to adapters: 0\n",
      "\n",
      "JSON report: data/varseek_count_out/fastp_report2.json\n",
      "HTML report: data/varseek_count_out/fastp_report2.html\n",
      "\n",
      "fastp -i data/pbmc_1k_v3_fastqs/filtered/tmp_pbmc_1k_v3_S1_L002_R2_001.fastq.gz -o data/pbmc_1k_v3_fastqs/filtered/pbmc_1k_v3_S1_L002_R2_001.fastq.gz --cut_front --cut_tail --cut_window_size 4 --cut_mean_quality 15 --disable_quality_filtering --disable_length_filtering --dont_eval_duplication --disable_trim_poly_g -h data/varseek_count_out/fastp_report2.html -j data/varseek_count_out/fastp_report2.json --failed_out data/varseek_count_out/fastp_failed_tmp.fq \n",
      "fastp v0.23.4, time used: 57 seconds\n"
     ]
    }
   ],
   "source": [
    "if shutil.which(\"fastp\"):\n",
    "    if not os.path.exists(fastqs_processed_dir) or len(os.listdir(fastqs_processed_dir)) == 0:\n",
    "        os.makedirs(vk_count_out_dir, exist_ok=True)\n",
    "        os.makedirs(fastqs_processed_dir, exist_ok=True)\n",
    "        for file_r1, file_r2 in [(\"pbmc_1k_v3_S1_L001_R1_001.fastq.gz\", \"pbmc_1k_v3_S1_L001_R2_001.fastq.gz\"), (\"pbmc_1k_v3_S1_L002_R1_001.fastq.gz\", \"pbmc_1k_v3_S1_L002_R2_001.fastq.gz\")]:\n",
    "            print(f\"Processing {file_r1} and {file_r2} with fastp\")\n",
    "            file_r1_path = os.path.join(fastqs_dir, file_r1)\n",
    "            file_r2_path = os.path.join(fastqs_dir, file_r2)\n",
    "\n",
    "            file_r1_out_path = os.path.join(fastqs_processed_dir, file_r1)\n",
    "            file_r2_out_path = os.path.join(fastqs_processed_dir, file_r2)\n",
    "\n",
    "            file_r1_out_path_tmp = os.path.join(fastqs_processed_dir, f\"tmp_{os.path.basename(file_r1)}\")\n",
    "            file_r2_out_path_tmp = os.path.join(fastqs_processed_dir, f\"tmp_{os.path.basename(file_r2)}\")\n",
    "\n",
    "            # low quality base removal - done separately from edge trimming so that we don't trim bases off of barcode + UMI file\n",
    "            print(f\"Low quality base removal for {file_r1} and {file_r2}\")\n",
    "            !fastp -i {file_r1_path} -I {file_r2_path} -o {file_r1_out_path_tmp} -O {file_r2_out_path_tmp} --disable_adapter_trimming --qualified_quality_phred 15 --unqualified_percent_limit 40 --average_qual 15 --n_base_limit 10 --disable_length_filtering --dont_eval_duplication --disable_trim_poly_g -h {vk_count_out_dir}/fastp_report1.html -j {vk_count_out_dir}/fastp_report1.json\n",
    "\n",
    "            # edge trimming\n",
    "            print(f\"Edge trimming for {file_r2}\")\n",
    "            !fastp -i {file_r2_out_path_tmp} -o {file_r2_out_path} --cut_front --cut_tail --cut_window_size 4 --cut_mean_quality 15 --disable_quality_filtering --disable_length_filtering --dont_eval_duplication --disable_trim_poly_g -h {vk_count_out_dir}/fastp_report2.html -j {vk_count_out_dir}/fastp_report2.json --failed_out {vk_count_out_dir}/fastp_failed_tmp.fq\n",
    "\n",
    "            if os.path.getsize(f\"{vk_count_out_dir}/fastp_failed_tmp.fq\") > 0:\n",
    "                print(f\"Removing reads from {file_r1} removed solely from {file_r2} during trimming\")\n",
    "                vk.utils.ensure_read_agreement(file_r1_out_path_tmp, file_r2_out_path, f\"{vk_count_out_dir}/fastp_failed_tmp.fq\", r1_fastq_out_path=file_r1_out_path)\n",
    "            else:\n",
    "                os.rename(file_r1_out_path_tmp, file_r1_out_path)\n",
    "\n",
    "            # break\n",
    "            \n",
    "            os.remove(f\"{vk_count_out_dir}/fastp_failed_tmp.fq\")\n",
    "            os.remove(file_r2_out_path_tmp)\n",
    "else:\n",
    "    print(\"fastp is not installed. Skipping fastq pre-processing\")\n",
    "    fastqs_processed_dir = fastqs_dir"
   ]
  },
  {
   "cell_type": "markdown",
   "metadata": {},
   "source": [
    "### (Recommended): Pseudoalign the FASTQ data to the reference genome - helps with adata processing in varseek clean\n",
    "While vk count would handle this step by providing the reference_genome_index and reference_genome_t2g arguments, we call it outside of vk count to demonstrate the process for clarity. For best quality results, please try to use the reference genome in this step that corresponds to the reference genome assembly and release used in varseek ref."
   ]
  },
  {
   "cell_type": "code",
   "execution_count": null,
   "metadata": {},
   "outputs": [
    {
     "name": "stdout",
     "output_type": "stream",
     "text": [
      "[2025-03-01 23:04:33,438]    INFO [download] Downloading files for human (standard workflow) from https://github.com/pachterlab/kallisto-transcriptome-indices/releases/download/v1/human_index_standard.tar.xz to tmp/human_index_standard.tar.xz\n",
      "100%|████████████████████████████████████████| 138M/138M [00:18<00:00, 7.79MB/s]\n",
      "[2025-03-01 23:04:52,077]    INFO [download] Extracting files from tmp/human_index_standard.tar.xz\n",
      "[2025-03-01 23:05:11,061]    INFO [count] Using index data/kb_count_reference_genome/index.idx to generate BUS file to data/kb_count_reference_genome from\n",
      "[2025-03-01 23:05:11,062]    INFO [count]         data/pbmc_1k_v3_fastqs/filtered/pbmc_1k_v3_S1_L001_R1_001.fastq.gz\n",
      "[2025-03-01 23:05:11,062]    INFO [count]         data/pbmc_1k_v3_fastqs/filtered/pbmc_1k_v3_S1_L001_R2_001.fastq.gz\n",
      "[2025-03-01 23:05:11,062]    INFO [count]         data/pbmc_1k_v3_fastqs/filtered/pbmc_1k_v3_S1_L002_R1_001.fastq.gz\n",
      "[2025-03-01 23:05:11,062]    INFO [count]         data/pbmc_1k_v3_fastqs/filtered/pbmc_1k_v3_S1_L002_R2_001.fastq.gz\n",
      "[2025-03-01 23:14:27,013]    INFO [count] Sorting BUS file data/kb_count_reference_genome/output.bus to data/kb_count_reference_genome/tmp/output.s.bus\n",
      "[2025-03-01 23:14:32,901]    INFO [count] On-list not provided\n",
      "[2025-03-01 23:14:32,902]    INFO [count] Copying pre-packaged 10XV3 on-list to data/kb_count_reference_genome\n",
      "[2025-03-01 23:14:33,250]    INFO [count] Inspecting BUS file data/kb_count_reference_genome/tmp/output.s.bus\n",
      "[2025-03-01 23:14:42,572]    INFO [count] Correcting BUS records in data/kb_count_reference_genome/tmp/output.s.bus to data/kb_count_reference_genome/tmp/output.s.c.bus with on-list data/kb_count_reference_genome/10x_version3_whitelist.txt\n",
      "[2025-03-01 23:14:51,830]    INFO [count] Sorting BUS file data/kb_count_reference_genome/tmp/output.s.c.bus to data/kb_count_reference_genome/output.unfiltered.bus\n",
      "[2025-03-01 23:14:54,619]    INFO [count] Generating count matrix data/kb_count_reference_genome/counts_unfiltered/cells_x_genes from BUS file data/kb_count_reference_genome/output.unfiltered.bus\n",
      "[2025-03-01 23:14:59,347]    INFO [count] Writing gene names to file data/kb_count_reference_genome/counts_unfiltered/cells_x_genes.genes.names.txt\n",
      "[2025-03-01 23:14:59,496] WARNING [count] 13914 gene IDs do not have corresponding valid gene names. These genes will use their gene IDs instead.\n",
      "[2025-03-01 23:14:59,511]    INFO [count] Reading matrix data/kb_count_reference_genome/counts_unfiltered/cells_x_genes.mtx\n",
      "[2025-03-01 23:14:59,714]    INFO [count] Writing matrix to h5ad data/kb_count_reference_genome/counts_unfiltered/adata.h5ad\n"
     ]
    }
   ],
   "source": [
    "kb_count_reference_genome_adata = os.path.join(kb_count_reference_genome_dir, \"counts_unfiltered\", \"adata.h5ad\")\n",
    "if not os.path.exists(kb_count_reference_genome_adata):  # check if kb count was run\n",
    "    os.makedirs(kb_count_reference_genome_dir, exist_ok=True)\n",
    "    if not os.path.exists(reference_genome_index) or not os.path.exists(reference_genome_t2g):  # check if kb ref was run\n",
    "        if species:\n",
    "            !kb ref -i {reference_genome_index} -g {reference_genome_t2g} -d {species}\n",
    "        else:\n",
    "            !kb ref -t {threads} -i {reference_genome_index} -g {reference_genome_t2g} -f1 {reference_genome_f1} {reference_genome_fasta} {reference_genome_gtf}\n",
    "    \n",
    "    !kb count -t {threads} -i {reference_genome_index} -g {reference_genome_t2g} -x {technology} --h5ad --num -o {kb_count_reference_genome_dir} \\\n",
    "        {fastqs_processed_dir}/pbmc_1k_v3_S1_L001_R1_001.fastq.gz {fastqs_processed_dir}/pbmc_1k_v3_S1_L001_R2_001.fastq.gz \\\n",
    "        {fastqs_processed_dir}/pbmc_1k_v3_S1_L002_R1_001.fastq.gz {fastqs_processed_dir}/pbmc_1k_v3_S1_L002_R2_001.fastq.gz"
   ]
  },
  {
   "cell_type": "markdown",
   "metadata": {},
   "source": [
    "### Run varseek count\n",
    "\n",
    "This will run the following commands:\n",
    "- `varseek fastqpp`: Preprocess the fastq files. By default, does nothing.\n",
    "- `kb count` (variant reference): Perform variant screening on fastq data utilizing kb count's pseudoalignment algorithm. Variant data is stored in an Anndata object as as cell/sample x variant matrix.\n",
    "- `kb count` (\"normal\" reference genome) (optional): Perform pseudoalignment of fastq data to the reference genome. Only performed if utilized in the subsequence \"varseek clean\" step. By default, will occur if the path to the necessary files are not provided as input.\n",
    "- `varseek clean`: Process the output of kb count. By default, this will threshold variant counts and ensure that there is agreement for each read between the gene of the variant to which the read aligned during the variant reference pseudoalignment and the gene to which the read aligned during the \"normal\" reference genome pseudoalignment.\n",
    "- `varseek summarize`: Produces a text file summarizing some high-level insights from the variant screening process."
   ]
  },
  {
   "cell_type": "code",
   "execution_count": null,
   "metadata": {},
   "outputs": [
    {
     "name": "stderr",
     "output_type": "stream",
     "text": [
      "17:22:05 - INFO - Removing index files from fastq files list, as they are not utilized in kb count with technology 10xv3\n",
      "17:22:05 - INFO - Setting length_required to 51 if fastqpp is run\n",
      "17:22:05 - WARNING - Skipping vk fastqpp because disable_fastqpp=True\n",
      "17:22:05 - INFO - Running kb count with command: kb count -t 2 -k 51 -i /Users/joeyrich/Desktop/local/varseek/data/vk_ref_fig1_3_4/vcrs_index.idx -g /Users/joeyrich/Desktop/local/varseek/data/vk_ref_fig1_3_4/vcrs_t2g_filtered.txt -x 10xv3 --h5ad --parity single --strand unstranded -o data/varseek_count_out/kb_count_out_vcrs --overwrite --num data/pbmc_1k_v3_fastqs/filtered/pbmc_1k_v3_S1_L001_R1_001.fastq.gz data/pbmc_1k_v3_fastqs/filtered/pbmc_1k_v3_S1_L001_R2_001.fastq.gz data/pbmc_1k_v3_fastqs/filtered/pbmc_1k_v3_S1_L002_R1_001.fastq.gz data/pbmc_1k_v3_fastqs/filtered/pbmc_1k_v3_S1_L002_R2_001.fastq.gz\n",
      "[2025-03-02 17:22:12,202]    INFO [count] Using index /Users/joeyrich/Desktop/local/varseek/data/vk_ref_fig1_3_4/vcrs_index.idx to generate BUS file to data/varseek_count_out/kb_count_out_vcrs from\n",
      "[2025-03-02 17:22:12,202]    INFO [count]         data/pbmc_1k_v3_fastqs/filtered/pbmc_1k_v3_S1_L001_R1_001.fastq.gz\n",
      "[2025-03-02 17:22:12,202]    INFO [count]         data/pbmc_1k_v3_fastqs/filtered/pbmc_1k_v3_S1_L001_R2_001.fastq.gz\n",
      "[2025-03-02 17:22:12,202]    INFO [count]         data/pbmc_1k_v3_fastqs/filtered/pbmc_1k_v3_S1_L002_R1_001.fastq.gz\n",
      "[2025-03-02 17:22:12,202]    INFO [count]         data/pbmc_1k_v3_fastqs/filtered/pbmc_1k_v3_S1_L002_R2_001.fastq.gz\n",
      "[2025-03-02 17:35:07,031]    INFO [count] Sorting BUS file data/varseek_count_out/kb_count_out_vcrs/output.bus to data/varseek_count_out/kb_count_out_vcrs/tmp/output.s.bus\n",
      "[2025-03-02 17:35:09,414]    INFO [count] On-list not provided\n",
      "[2025-03-02 17:35:09,416]    INFO [count] Copying pre-packaged 10XV3 on-list to data/varseek_count_out/kb_count_out_vcrs\n",
      "[2025-03-02 17:35:09,806]    INFO [count] Inspecting BUS file data/varseek_count_out/kb_count_out_vcrs/tmp/output.s.bus\n",
      "[2025-03-02 17:35:14,962]    INFO [count] Correcting BUS records in data/varseek_count_out/kb_count_out_vcrs/tmp/output.s.bus to data/varseek_count_out/kb_count_out_vcrs/tmp/output.s.c.bus with on-list data/varseek_count_out/kb_count_out_vcrs/10x_version3_whitelist.txt\n",
      "[2025-03-02 17:35:25,083]    INFO [count] Sorting BUS file data/varseek_count_out/kb_count_out_vcrs/tmp/output.s.c.bus to data/varseek_count_out/kb_count_out_vcrs/output.unfiltered.bus\n",
      "[2025-03-02 17:35:26,818]    INFO [count] Generating count matrix data/varseek_count_out/kb_count_out_vcrs/counts_unfiltered/cells_x_genes from BUS file data/varseek_count_out/kb_count_out_vcrs/output.unfiltered.bus\n",
      "[2025-03-02 17:35:52,820]    INFO [count] Writing gene names to file data/varseek_count_out/kb_count_out_vcrs/counts_unfiltered/cells_x_genes.genes.names.txt\n",
      "[2025-03-02 17:35:57,946] WARNING [count] 5329695 gene IDs do not have corresponding valid gene names. These genes will use their gene IDs instead.\n",
      "[2025-03-02 17:35:58,592]    INFO [count] Reading matrix data/varseek_count_out/kb_count_out_vcrs/counts_unfiltered/cells_x_genes.mtx\n",
      "[2025-03-02 17:36:33,461]    INFO [count] Writing matrix to h5ad data/varseek_count_out/kb_count_out_vcrs/counts_unfiltered/adata.h5ad\n",
      "17:36:35 - INFO - Skipping kb count for reference genome because the reference genome adata object was not needed and/or the file 'data/kb_count_reference_genome/counts_unfiltered/adata.h5ad' already exists. Note that even setting overwrite=True will still not overwrite this particular directory\n",
      "17:36:35 - INFO - Running vk clean\n",
      "17:36:35 - INFO - Removing index files from fastq files list, as they are not utilized in kb count with technology 10xv3\n"
     ]
    },
    {
     "ename": "TypeError",
     "evalue": "stat: path should be string, bytes, os.PathLike or integer, not NoneType",
     "output_type": "error",
     "traceback": [
      "\u001b[0;31m---------------------------------------------------------------------------\u001b[0m",
      "\u001b[0;31mTypeError\u001b[0m                                 Traceback (most recent call last)",
      "Cell \u001b[0;32mIn[9], line 1\u001b[0m\n\u001b[0;32m----> 1\u001b[0m vk_count_output_dict \u001b[38;5;241m=\u001b[39m \u001b[43mvk\u001b[49m\u001b[38;5;241;43m.\u001b[39;49m\u001b[43mcount\u001b[49m\u001b[43m(\u001b[49m\n\u001b[1;32m      2\u001b[0m \u001b[43m    \u001b[49m\u001b[43mfastqs_processed_dir\u001b[49m\u001b[43m,\u001b[49m\n\u001b[1;32m      3\u001b[0m \u001b[43m    \u001b[49m\u001b[43mindex\u001b[49m\u001b[38;5;241;43m=\u001b[39;49m\u001b[43mvcrs_index\u001b[49m\u001b[43m,\u001b[49m\n\u001b[1;32m      4\u001b[0m \u001b[43m    \u001b[49m\u001b[43mt2g\u001b[49m\u001b[38;5;241;43m=\u001b[39;49m\u001b[43mvcrs_t2g\u001b[49m\u001b[43m,\u001b[49m\n\u001b[1;32m      5\u001b[0m \u001b[43m    \u001b[49m\u001b[43mtechnology\u001b[49m\u001b[38;5;241;43m=\u001b[39;49m\u001b[43mtechnology\u001b[49m\u001b[43m,\u001b[49m\n\u001b[1;32m      6\u001b[0m \u001b[43m    \u001b[49m\u001b[43mout\u001b[49m\u001b[38;5;241;43m=\u001b[39;49m\u001b[43mvk_count_out_dir\u001b[49m\u001b[43m,\u001b[49m\n\u001b[1;32m      7\u001b[0m \u001b[43m    \u001b[49m\u001b[43mkb_count_reference_genome_dir\u001b[49m\u001b[38;5;241;43m=\u001b[39;49m\u001b[43mkb_count_reference_genome_dir\u001b[49m\u001b[43m,\u001b[49m\n\u001b[1;32m      8\u001b[0m \u001b[43m    \u001b[49m\u001b[43mk\u001b[49m\u001b[38;5;241;43m=\u001b[39;49m\u001b[43mk\u001b[49m\u001b[43m,\u001b[49m\u001b[43m  \u001b[49m\u001b[38;5;66;43;03m#!!! erase this\u001b[39;49;00m\n\u001b[1;32m      9\u001b[0m \u001b[43m    \u001b[49m\u001b[43mthreads\u001b[49m\u001b[38;5;241;43m=\u001b[39;49m\u001b[43mthreads\u001b[49m\u001b[43m,\u001b[49m\n\u001b[1;32m     10\u001b[0m \u001b[43m    \u001b[49m\u001b[38;5;66;43;03m# quality_control_fastqs=True, cut_front=True, cut_tail=True  # equivalent to the fastp step above\u001b[39;49;00m\n\u001b[1;32m     11\u001b[0m \u001b[43m    \u001b[49m\u001b[38;5;66;43;03m# reference_genome_index=reference_genome_index, reference_genome_t2g=reference_genome_t2g,  # equivalent to the kb count step above\u001b[39;49;00m\n\u001b[1;32m     12\u001b[0m \u001b[43m    \u001b[49m\u001b[38;5;66;43;03m# qc_against_gene_matrix=True,  #!!! uncomment when working\u001b[39;49;00m\n\u001b[1;32m     13\u001b[0m \u001b[43m)\u001b[49m\n",
      "File \u001b[0;32m~/Desktop/local/varseek/varseek/varseek_count.py:543\u001b[0m, in \u001b[0;36mcount\u001b[0;34m(index, t2g, technology, k, qc_against_gene_matrix, strand, mm, union, parity, reference_genome_index, reference_genome_t2g, out, kb_count_vcrs_out_dir, kb_count_reference_genome_out_dir, vk_summarize_out_dir, disable_fastqpp, disable_clean, disable_summarize, dry_run, overwrite, sort_fastqs, threads, logging_level, save_logs, log_out_dir, *fastqs, **kwargs)\u001b[0m\n\u001b[1;32m    539\u001b[0m     \u001b[38;5;66;03m# update anything in kwargs_vk_clean that is not fully updated in (vk count's) kwargs (should be nothing or very close to it, as I try to avoid these double-assignments by always keeping kwargs in kwargs)\u001b[39;00m\n\u001b[1;32m    540\u001b[0m     \u001b[38;5;66;03m# eg kwargs_vk_clean['mykwarg'] = mykwarg\u001b[39;00m\n\u001b[1;32m    542\u001b[0m     logger\u001b[38;5;241m.\u001b[39minfo(\u001b[38;5;124m\"\u001b[39m\u001b[38;5;124mRunning vk clean\u001b[39m\u001b[38;5;124m\"\u001b[39m)\n\u001b[0;32m--> 543\u001b[0m     _ \u001b[38;5;241m=\u001b[39m \u001b[43mvk\u001b[49m\u001b[38;5;241;43m.\u001b[39;49m\u001b[43mclean\u001b[49m\u001b[43m(\u001b[49m\n\u001b[1;32m    544\u001b[0m \u001b[43m            \u001b[49m\u001b[43madata_vcrs\u001b[49m\u001b[38;5;241;43m=\u001b[39;49m\u001b[43madata_vcrs\u001b[49m\u001b[43m,\u001b[49m\u001b[43m  \u001b[49m\u001b[38;5;66;43;03m# kb_count_reference_genome_dir is passed in via kwargs, as is adata_reference_genome\u001b[39;49;00m\n\u001b[1;32m    545\u001b[0m \u001b[43m            \u001b[49m\u001b[43mvcrs_index\u001b[49m\u001b[38;5;241;43m=\u001b[39;49m\u001b[43mindex\u001b[49m\u001b[43m,\u001b[49m\n\u001b[1;32m    546\u001b[0m \u001b[43m            \u001b[49m\u001b[43mvcrs_t2g\u001b[49m\u001b[38;5;241;43m=\u001b[39;49m\u001b[43mt2g\u001b[49m\u001b[43m,\u001b[49m\n\u001b[1;32m    547\u001b[0m \u001b[43m            \u001b[49m\u001b[43mtechnology\u001b[49m\u001b[38;5;241;43m=\u001b[39;49m\u001b[43mtechnology\u001b[49m\u001b[43m,\u001b[49m\n\u001b[1;32m    548\u001b[0m \u001b[43m            \u001b[49m\u001b[43mfastqs\u001b[49m\u001b[38;5;241;43m=\u001b[39;49m\u001b[43mfastqs\u001b[49m\u001b[43m,\u001b[49m\n\u001b[1;32m    549\u001b[0m \u001b[43m            \u001b[49m\u001b[43mk\u001b[49m\u001b[38;5;241;43m=\u001b[39;49m\u001b[43mk\u001b[49m\u001b[43m,\u001b[49m\n\u001b[1;32m    550\u001b[0m \u001b[43m            \u001b[49m\u001b[43mqc_against_gene_matrix\u001b[49m\u001b[38;5;241;43m=\u001b[39;49m\u001b[43mqc_against_gene_matrix\u001b[49m\u001b[43m,\u001b[49m\n\u001b[1;32m    551\u001b[0m \u001b[43m            \u001b[49m\u001b[43mmm\u001b[49m\u001b[38;5;241;43m=\u001b[39;49m\u001b[43mmm\u001b[49m\u001b[43m,\u001b[49m\n\u001b[1;32m    552\u001b[0m \u001b[43m            \u001b[49m\u001b[43munion\u001b[49m\u001b[38;5;241;43m=\u001b[39;49m\u001b[43munion\u001b[49m\u001b[43m,\u001b[49m\n\u001b[1;32m    553\u001b[0m \u001b[43m            \u001b[49m\u001b[43mparity\u001b[49m\u001b[38;5;241;43m=\u001b[39;49m\u001b[43mparity\u001b[49m\u001b[43m,\u001b[49m\n\u001b[1;32m    554\u001b[0m \u001b[43m            \u001b[49m\u001b[43mout\u001b[49m\u001b[38;5;241;43m=\u001b[39;49m\u001b[43mout\u001b[49m\u001b[43m,\u001b[49m\n\u001b[1;32m    555\u001b[0m \u001b[43m            \u001b[49m\u001b[43mdry_run\u001b[49m\u001b[38;5;241;43m=\u001b[39;49m\u001b[43mdry_run\u001b[49m\u001b[43m,\u001b[49m\n\u001b[1;32m    556\u001b[0m \u001b[43m            \u001b[49m\u001b[43moverwrite\u001b[49m\u001b[38;5;241;43m=\u001b[39;49m\u001b[38;5;28;43;01mTrue\u001b[39;49;00m\u001b[43m,\u001b[49m\n\u001b[1;32m    557\u001b[0m \u001b[43m            \u001b[49m\u001b[43msort_fastqs\u001b[49m\u001b[38;5;241;43m=\u001b[39;49m\u001b[43msort_fastqs\u001b[49m\u001b[43m,\u001b[49m\n\u001b[1;32m    558\u001b[0m \u001b[43m            \u001b[49m\u001b[43mthreads\u001b[49m\u001b[38;5;241;43m=\u001b[39;49m\u001b[43mthreads\u001b[49m\u001b[43m,\u001b[49m\n\u001b[1;32m    559\u001b[0m \u001b[43m            \u001b[49m\u001b[43mlogging_level\u001b[49m\u001b[38;5;241;43m=\u001b[39;49m\u001b[43mlogging_level\u001b[49m\u001b[43m,\u001b[49m\n\u001b[1;32m    560\u001b[0m \u001b[43m            \u001b[49m\u001b[43msave_logs\u001b[49m\u001b[38;5;241;43m=\u001b[39;49m\u001b[43msave_logs\u001b[49m\u001b[43m,\u001b[49m\n\u001b[1;32m    561\u001b[0m \u001b[43m            \u001b[49m\u001b[43mlog_out_dir\u001b[49m\u001b[38;5;241;43m=\u001b[39;49m\u001b[43mlog_out_dir\u001b[49m\u001b[43m,\u001b[49m\n\u001b[1;32m    562\u001b[0m \u001b[43m            \u001b[49m\u001b[38;5;241;43m*\u001b[39;49m\u001b[38;5;241;43m*\u001b[39;49m\u001b[43mkwargs_vk_clean\u001b[49m\n\u001b[1;32m    563\u001b[0m \u001b[43m    \u001b[49m\u001b[43m)\u001b[49m\n\u001b[1;32m    564\u001b[0m \u001b[38;5;28;01melse\u001b[39;00m:\n\u001b[1;32m    565\u001b[0m     logger\u001b[38;5;241m.\u001b[39mwarning(\u001b[38;5;124mf\u001b[39m\u001b[38;5;124m\"\u001b[39m\u001b[38;5;124mSkipping vk clean because file \u001b[39m\u001b[38;5;132;01m{\u001b[39;00mfile_signifying_successful_vk_clean_completion\u001b[38;5;132;01m}\u001b[39;00m\u001b[38;5;124m already exists and overwrite=False\u001b[39m\u001b[38;5;124m\"\u001b[39m)\n",
      "File \u001b[0;32m~/Desktop/local/varseek/varseek/varseek_clean.py:475\u001b[0m, in \u001b[0;36mclean\u001b[0;34m(adata_vcrs, technology, min_counts, use_binary_matrix, drop_empty_columns, apply_single_end_mode_on_paired_end_data_correction, split_reads_by_Ns_and_low_quality_bases, apply_dlist_correction, qc_against_gene_matrix, filter_cells_by_min_counts, filter_cells_by_min_genes, filter_genes_by_min_cells, filter_cells_by_max_mt_content, doublet_detection, remove_doublets, cpm_normalization, sum_rows, vcrs_id_set_to_exclusively_keep, vcrs_id_set_to_exclude, transcript_set_to_exclusively_keep, transcript_set_to_exclude, gene_set_to_exclusively_keep, gene_set_to_exclude, k, mm, union, parity, multiplexed, sort_fastqs, adata_reference_genome, fastqs, vk_ref_dir, vcrs_index, vcrs_t2g, vcrs_fasta, dlist_fasta, variants_updated_csv, kb_count_vcrs_dir, kb_count_reference_genome_dir, variants_updated_csv_columns_to_merge, seq_id_column, gene_id_column, out, adata_vcrs_clean_out, adata_reference_genome_clean_out, vcf_out, save_vcf, dry_run, overwrite, threads, logging_level, save_logs, log_out_dir, **kwargs)\u001b[0m\n\u001b[1;32m    472\u001b[0m \u001b[38;5;28;01mif\u001b[39;00m variants_updated_csv_columns_to_merge \u001b[38;5;129;01mis\u001b[39;00m \u001b[38;5;129;01mnot\u001b[39;00m \u001b[38;5;28;01mNone\u001b[39;00m \u001b[38;5;129;01mand\u001b[39;00m \u001b[38;5;129;01mnot\u001b[39;00m os\u001b[38;5;241m.\u001b[39mpath\u001b[38;5;241m.\u001b[39misfile(variants_updated_csv):\n\u001b[1;32m    473\u001b[0m     \u001b[38;5;28;01mraise\u001b[39;00m \u001b[38;5;167;01mValueError\u001b[39;00m(\u001b[38;5;124mf\u001b[39m\u001b[38;5;124m\"\u001b[39m\u001b[38;5;124mvariants_updated_csv_columns_to_merge is not None, but variants_updated_csv does not exist.\u001b[39m\u001b[38;5;124m\"\u001b[39m)\n\u001b[0;32m--> 475\u001b[0m \u001b[38;5;28;01mif\u001b[39;00m \u001b[43mos\u001b[49m\u001b[38;5;241;43m.\u001b[39;49m\u001b[43mpath\u001b[49m\u001b[38;5;241;43m.\u001b[39;49m\u001b[43misfile\u001b[49m\u001b[43m(\u001b[49m\u001b[43mvariants_updated_csv\u001b[49m\u001b[43m)\u001b[49m \u001b[38;5;129;01mand\u001b[39;00m variants_updated_csv_columns_to_merge \u001b[38;5;129;01mis\u001b[39;00m \u001b[38;5;129;01mnot\u001b[39;00m \u001b[38;5;28;01mNone\u001b[39;00m:\n\u001b[1;32m    476\u001b[0m     variants_updated_df \u001b[38;5;241m=\u001b[39m pd\u001b[38;5;241m.\u001b[39mread_csv(variants_updated_csv, index_col\u001b[38;5;241m=\u001b[39m\u001b[38;5;241m0\u001b[39m, usecols\u001b[38;5;241m=\u001b[39m\u001b[38;5;28mlist\u001b[39m(variants_updated_csv_columns_to_merge))\n\u001b[1;32m    477\u001b[0m     merging_column \u001b[38;5;241m=\u001b[39m \u001b[38;5;124m\"\u001b[39m\u001b[38;5;124mvcrs_header\u001b[39m\u001b[38;5;124m\"\u001b[39m\n",
      "File \u001b[0;32m~/miniconda3/envs/varseek/lib/python3.10/genericpath.py:30\u001b[0m, in \u001b[0;36misfile\u001b[0;34m(path)\u001b[0m\n\u001b[1;32m     28\u001b[0m \u001b[38;5;250m\u001b[39m\u001b[38;5;124;03m\"\"\"Test whether a path is a regular file\"\"\"\u001b[39;00m\n\u001b[1;32m     29\u001b[0m \u001b[38;5;28;01mtry\u001b[39;00m:\n\u001b[0;32m---> 30\u001b[0m     st \u001b[38;5;241m=\u001b[39m \u001b[43mos\u001b[49m\u001b[38;5;241;43m.\u001b[39;49m\u001b[43mstat\u001b[49m\u001b[43m(\u001b[49m\u001b[43mpath\u001b[49m\u001b[43m)\u001b[49m\n\u001b[1;32m     31\u001b[0m \u001b[38;5;28;01mexcept\u001b[39;00m (\u001b[38;5;167;01mOSError\u001b[39;00m, \u001b[38;5;167;01mValueError\u001b[39;00m):\n\u001b[1;32m     32\u001b[0m     \u001b[38;5;28;01mreturn\u001b[39;00m \u001b[38;5;28;01mFalse\u001b[39;00m\n",
      "\u001b[0;31mTypeError\u001b[0m: stat: path should be string, bytes, os.PathLike or integer, not NoneType"
     ]
    }
   ],
   "source": [
    "vk_count_output_dict = vk.count(\n",
    "    fastqs_processed_dir,\n",
    "    index=vcrs_index,\n",
    "    t2g=vcrs_t2g,\n",
    "    technology=technology,\n",
    "    out=vk_count_out_dir,\n",
    "    kb_count_reference_genome_dir=kb_count_reference_genome_dir,\n",
    "    k=k,  #!!! erase this\n",
    "    # strand_bias_end=strand_bias_end,  #!!! uncomment when working\n",
    "    threads=threads,\n",
    "    # quality_control_fastqs=True, cut_front=True, cut_tail=True  # equivalent to the fastp step above\n",
    "    # reference_genome_index=reference_genome_index, reference_genome_t2g=reference_genome_t2g,  # equivalent to the kb count step above\n",
    "    # qc_against_gene_matrix=True,  #!!! uncomment when working\n",
    ")"
   ]
  },
  {
   "cell_type": "code",
   "execution_count": null,
   "metadata": {},
   "outputs": [],
   "source": [
    "print(f\"Find summarized results in {vk_count_output_dict['vk_summarize_output_dir']}\")\n",
    "print(f\"Find the processed adata object for further analysis in {vk_count_output_dict['adata_path']}\")"
   ]
  }
 ],
 "metadata": {
  "kernelspec": {
   "display_name": "varseek",
   "language": "python",
   "name": "python3"
  },
  "language_info": {
   "codemirror_mode": {
    "name": "ipython",
    "version": 3
   },
   "file_extension": ".py",
   "mimetype": "text/x-python",
   "name": "python",
   "nbconvert_exporter": "python",
   "pygments_lexer": "ipython3",
   "version": "3.10.16"
  }
 },
 "nbformat": 4,
 "nbformat_minor": 4
}
