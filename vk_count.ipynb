{
 "cells": [
  {
   "cell_type": "code",
   "execution_count": null,
   "metadata": {},
   "outputs": [
    {
     "name": "stdout",
     "output_type": "stream",
     "text": [
      "List memory: 381.4698486328125 MB\n",
      "List-like string memory: 400.5433349609375 MB\n",
      "String memory: 352.859619140625 MB\n",
      "Tuple memory: 267.0289306640625 MB\n"
     ]
    }
   ],
   "source": [
    "import pandas as pd\n",
    "\n",
    "df = pd.DataFrame({\n",
    "    \"list_column\": [[\"item1\", \"item2\", \"item3\"]] * 5000000,\n",
    "    \"listlike_string_column\": ['[\"item1\", \"item2\", \"item3\"]'] * 5000000,\n",
    "    \"string_column\": [\"item1;item2;item3\"] * 5000000,\n",
    "    \"tuple_column\": [(\"item1\", \"item2\", \"item3\")] * 5000000,\n",
    "})\n",
    "\n",
    "print(\"List memory:\", df[\"list_column\"].memory_usage(deep=True) / 1024 / 1024, \"MB\")\n",
    "print(\"List-like string memory:\", df[\"listlike_string_column\"].memory_usage(deep=True) / 1024 / 1024, \"MB\")\n",
    "print(\"String memory:\", df[\"string_column\"].memory_usage(deep=True) / 1024 / 1024, \"MB\")\n",
    "print(\"Tuple memory:\", df[\"tuple_column\"].memory_usage(deep=True) / 1024 / 1024, \"MB\")"
   ]
  },
  {
   "cell_type": "markdown",
   "metadata": {},
   "source": [
    "<a href=\"https://colab.research.google.com/github/pachterlab/varseek-examples/blob/main/vk_count.ipynb\" target=\"_parent\"><img src=\"https://colab.research.google.com/assets/colab-badge.svg\" alt=\"Open In Colab\"/></a>"
   ]
  },
  {
   "cell_type": "markdown",
   "metadata": {},
   "source": [
    "# [vk count](https://github.com/pachterlab/varseek) demonstration\n",
    "Perform variant screening on scRNA-seq data with vk count, using a [10x PBMC 1k dataset](https://www.10xgenomics.com/datasets/1-k-pbm-cs-from-a-healthy-donor-v-3-chemistry-3-standard-3-0-0) against the Cosmic Cancer Mutation Census mutation adatabase as an example. Note: This requires a [COSMIC](https://cancer.sanger.ac.uk/cosmic) account.\n",
    "\n",
    "Written by Joseph Rich.\n",
    "___"
   ]
  },
  {
   "cell_type": "markdown",
   "metadata": {},
   "source": [
    "### Install varseek, and import all packages"
   ]
  },
  {
   "cell_type": "code",
   "execution_count": null,
   "metadata": {},
   "outputs": [],
   "source": [
    "try:\n",
    "    import varseek as vk\n",
    "except ImportError:\n",
    "    print(\"varseek not found, installing...\")\n",
    "    !pip install -U -q varseek"
   ]
  },
  {
   "cell_type": "code",
   "execution_count": 22,
   "metadata": {},
   "outputs": [],
   "source": [
    "import os\n",
    "import subprocess\n",
    "import shutil\n",
    "\n",
    "import varseek as vk"
   ]
  },
  {
   "cell_type": "markdown",
   "metadata": {},
   "source": [
    "### Define important paths"
   ]
  },
  {
   "cell_type": "code",
   "execution_count": null,
   "metadata": {},
   "outputs": [],
   "source": [
    "# vk count out directory\n",
    "vk_count_out_dir = os.path.join(\"data\", \"varseek_count_out\")\n",
    "\n",
    "# vk ref out directory and files - downloaded if not already present\n",
    "vk_ref_out_dir = os.path.join(\"data\", \"varseek_ref_out\")\n",
    "vcrs_index = os.path.join(vk_ref_out_dir, \"vcrs_index.idx\")\n",
    "vcrs_t2g = os.path.join(vk_ref_out_dir, \"vcrs_t2g_filtered.txt\")\n",
    "\n",
    "# fastq directories - fastqs_dir downloaded if not already present, and fastqs_processed_dir created with fastp if not already present\n",
    "fastqs_dir = os.path.join(\"data\", \"pbmc_1k_v3_fastqs\")\n",
    "fastqs_processed_dir = os.path.join(fastqs_dir, \"filtered\")\n",
    "technology = \"10xv3\"\n",
    "strand_bias_end = \"3p\"\n",
    "\n",
    "# kb count to reference genome directory and files - created if not already present\n",
    "account_for_strand_bias = False\n",
    "qc_against_gene_matrix = False\n",
    "kb_count_reference_genome_dir = os.path.join(\"data\", \"kb_count_reference_genome\")\n",
    "reference_genome_index = os.path.join(kb_count_reference_genome_dir, \"index.idx\")  # either already exists or will be created\n",
    "reference_genome_t2g = os.path.join(kb_count_reference_genome_dir, \"t2g.txt\")  # either already exists or will be created\n",
    "\n",
    "# kb ref genome/gtf files - used to create kb index/t2g for reference genome for the step above if reference_genome_index and reference_genome_t2g do not exist\n",
    "reference_genome_fasta = \"Homo_sapiens.GRCh37.dna.primary_assembly.fa\"  # if reference_genome_index/reference_genome_t2g do not exist, then I need to supply the reference genome fasta and gtf\n",
    "reference_genome_gtf = \"Homo_sapiens.GRCh37.87.gtf\"  # if reference_genome_index/reference_genome_t2g do not exist, then I need to supply the reference genome fasta and gtf\n",
    "\n",
    "# general\n",
    "threads = 2\n",
    "k=51\n",
    "cosmic_email = os.environ.get(\"COSMIC_EMAIL\")\n",
    "cosmic_password = os.environ.get(\"COSMIC_PASSWORD\")"
   ]
  },
  {
   "cell_type": "markdown",
   "metadata": {},
   "source": [
    "### Download the vk ref index and t2g files if they do not already exist. See vk_ref.ipynb for more details."
   ]
  },
  {
   "cell_type": "code",
   "execution_count": null,
   "metadata": {},
   "outputs": [
    {
     "name": "stderr",
     "output_type": "stream",
     "text": [
      "12:48:06 - INFO - Successfully verified COSMIC credentials.\n",
      "12:48:06 - WARNING - According to COSMIC regulations, please do not share any data that utilizes the COSMIC database. See more here: https://cancer.sanger.ac.uk/cosmic/help/terms\n",
      "12:48:06 - INFO - Downloading reference files with variants=cosmic_cmc, sequences=cdna\n",
      "12:48:54 - INFO - Downloaded files: {'fasta': None, 'index': 'data/varseek_ref_out_full/vcrs_index.idx', 't2g': 'data/varseek_ref_out_full/vcrs_t2g_filtered.txt'}\n"
     ]
    }
   ],
   "source": [
    "#!!! uncomment this once I get the varseek-server situation sorted or I repeat this tutorial with a new, public reference\n",
    "# if not os.path.exists(vcrs_index) or not os.path.exists(vcrs_t2g):\n",
    "    # vk.ref(variants=\"cosmic_cmc\", sequences=\"cdna\", w=47, k=51, dlist_reference_source=\"t2t\", index_out=vcrs_index, t2g_out=vcrs_t2g, cosmic_email=cosmic_email, cosmic_password=cosmic_password, download=True)\n",
    "\n",
    "if not os.path.exists(vcrs_index):\n",
    "    vcrs_index_url = \"https://caltech.box.com/shared/static/8693b78lh02fv8qh6wz6keng7cn2n91k.idx\"\n",
    "    vk.utils.download_box_url(vcrs_index_url, output_folder=vk_ref_out_dir, output_file_name=\"vcrs_index.idx\")\n",
    "\n",
    "if not os.path.exists(vcrs_t2g):\n",
    "    vcrs_t2g_url = \"https://caltech.box.com/shared/static/0svv7xx0mobhfzpiz7f48bjljhs72kcy.txt\"\n",
    "    vk.utils.download_box_url(vcrs_t2g_url, output_folder=vk_ref_out_dir, output_file_name=\"vcrs_t2g_filtered.txt\")\n"
   ]
  },
  {
   "cell_type": "markdown",
   "metadata": {},
   "source": [
    "### Download the PBMC fastq dataset"
   ]
  },
  {
   "cell_type": "code",
   "execution_count": 5,
   "metadata": {},
   "outputs": [],
   "source": [
    "if not os.path.exists(fastqs_dir) or len(os.listdir(fastqs_dir)) == 0:\n",
    "    !mkdir -p data && \\\n",
    "        cd data && \\\n",
    "        curl -O https://cf.10xgenomics.com/samples/cell-exp/3.0.0/pbmc_1k_v3/pbmc_1k_v3_fastqs.tar && \\\n",
    "        tar -xvf pbmc_1k_v3_fastqs.tar && \\\n",
    "        rm pbmc_1k_v3_fastqs.tar"
   ]
  },
  {
   "cell_type": "markdown",
   "metadata": {},
   "source": [
    "### (Recommended): Process the fastq data - as an example, we will use [fastp](https://github.com/OpenGene/fastp)\n",
    "Note: fastp was not designed for single-cell data, and as such it requires careful thought to ensure correct processing. The procedure belows works on 10xv3 fastq files, but may need to be modified for other datasets. The function vk.utils.perform_fastp_trimming_and_filtering (called internally by vk.count) handles these nuances. While vk count would handle this step, we call it outside of vk count to demonstrate the process for clarity."
   ]
  },
  {
   "cell_type": "code",
   "execution_count": 6,
   "metadata": {},
   "outputs": [],
   "source": [
    "if shutil.which(\"fastp\"):\n",
    "    if not os.path.exists(fastqs_processed_dir) or len(os.listdir(fastqs_processed_dir)) == 0:\n",
    "        os.makedirs(vk_count_out_dir, exist_ok=True)\n",
    "        os.makedirs(fastqs_processed_dir, exist_ok=True)\n",
    "        for file_r1, file_r2 in [(\"pbmc_1k_v3_S1_L001_R1_001.fastq.gz\", \"pbmc_1k_v3_S1_L001_R2_001.fastq.gz\"), (\"pbmc_1k_v3_S1_L002_R1_001.fastq.gz\", \"pbmc_1k_v3_S1_L002_R2_001.fastq.gz\")]:\n",
    "            print(f\"Processing {file_r1} and {file_r2} with fastp\")\n",
    "            file_r1_path = os.path.join(fastqs_dir, file_r1)\n",
    "            file_r2_path = os.path.join(fastqs_dir, file_r2)\n",
    "\n",
    "            file_r1_out_path = os.path.join(fastqs_processed_dir, file_r1)\n",
    "            file_r2_out_path = os.path.join(fastqs_processed_dir, file_r2)\n",
    "\n",
    "            file_r1_out_path_tmp = os.path.join(fastqs_processed_dir, f\"tmp_{os.path.basename(file_r1)}\")\n",
    "            file_r2_out_path_tmp = os.path.join(fastqs_processed_dir, f\"tmp_{os.path.basename(file_r2)}\")\n",
    "\n",
    "            # low quality base removal - done separately from edge trimming so that we don't trim bases off of barcode + UMI file\n",
    "            print(f\"Low quality base removal for {file_r1} and {file_r2}\")\n",
    "            !fastp -i {file_r1_path} -I {file_r2_path} -o {file_r1_out_path_tmp} -O {file_r2_out_path_tmp} --disable_adapter_trimming --qualified_quality_phred 15 --unqualified_percent_limit 40 --average_qual 15 --n_base_limit 10 --disable_length_filtering --dont_eval_duplication --disable_trim_poly_g -h {vk_count_out_dir}/fastp_report1.html -j {vk_count_out_dir}/fastp_report1.json\n",
    "\n",
    "            # edge trimming\n",
    "            print(f\"Edge trimming for {file_r2}\")\n",
    "            !fastp -i {file_r2_out_path_tmp} -o {file_r2_out_path} --cut_front --cut_tail --cut_window_size 4 --cut_mean_quality 15 --disable_quality_filtering --disable_length_filtering --dont_eval_duplication --disable_trim_poly_g -h {vk_count_out_dir}/fastp_report2.html -j {vk_count_out_dir}/fastp_report2.json --failed_out {vk_count_out_dir}/fastp_failed_tmp.fq\n",
    "\n",
    "            if os.path.getsize(f\"{vk_count_out_dir}/fastp_failed_tmp.fq\") > 0:\n",
    "                print(f\"Removing reads from {file_r1} removed solely from {file_r2} during trimming\")\n",
    "                vk.utils.ensure_read_agreement(file_r1_out_path_tmp, file_r2_out_path, f\"{vk_count_out_dir}/fastp_failed_tmp.fq\", r1_fastq_out_path=file_r1_out_path)\n",
    "            else:\n",
    "                os.rename(file_r1_out_path_tmp, file_r1_out_path)\n",
    "\n",
    "            # break\n",
    "            \n",
    "            os.remove(f\"{vk_count_out_dir}/fastp_failed_tmp.fq\")\n",
    "            os.remove(file_r2_out_path_tmp)\n",
    "else:\n",
    "    print(\"fastp is not installed. Skipping fastq pre-processing\")\n",
    "    fastqs_processed_dir = fastqs_dir"
   ]
  },
  {
   "cell_type": "markdown",
   "metadata": {},
   "source": [
    "### (Recommended): Pseudoalign the FASTQ data to the reference genome - helps with adata processing in varseek clean\n",
    "While vk count would handle this step by providing the reference_genome_index and reference_genome_t2g arguments, we call it outside of vk count to demonstrate the process for clarity. For best quality results, please try to use the reference genome in this step that corresponds to the reference genome assembly and release used in varseek ref."
   ]
  },
  {
   "cell_type": "code",
   "execution_count": null,
   "metadata": {},
   "outputs": [
    {
     "name": "stdout",
     "output_type": "stream",
     "text": [
      "[2025-03-01 23:04:33,438]    INFO [download] Downloading files for human (standard workflow) from https://github.com/pachterlab/kallisto-transcriptome-indices/releases/download/v1/human_index_standard.tar.xz to tmp/human_index_standard.tar.xz\n",
      "100%|████████████████████████████████████████| 138M/138M [00:18<00:00, 7.79MB/s]\n",
      "[2025-03-01 23:04:52,077]    INFO [download] Extracting files from tmp/human_index_standard.tar.xz\n",
      "[2025-03-01 23:05:11,061]    INFO [count] Using index data/kb_count_reference_genome/index.idx to generate BUS file to data/kb_count_reference_genome from\n",
      "[2025-03-01 23:05:11,062]    INFO [count]         data/pbmc_1k_v3_fastqs/filtered/pbmc_1k_v3_S1_L001_R1_001.fastq.gz\n",
      "[2025-03-01 23:05:11,062]    INFO [count]         data/pbmc_1k_v3_fastqs/filtered/pbmc_1k_v3_S1_L001_R2_001.fastq.gz\n",
      "[2025-03-01 23:05:11,062]    INFO [count]         data/pbmc_1k_v3_fastqs/filtered/pbmc_1k_v3_S1_L002_R1_001.fastq.gz\n",
      "[2025-03-01 23:05:11,062]    INFO [count]         data/pbmc_1k_v3_fastqs/filtered/pbmc_1k_v3_S1_L002_R2_001.fastq.gz\n",
      "[2025-03-01 23:14:27,013]    INFO [count] Sorting BUS file data/kb_count_reference_genome/output.bus to data/kb_count_reference_genome/tmp/output.s.bus\n",
      "[2025-03-01 23:14:32,901]    INFO [count] On-list not provided\n",
      "[2025-03-01 23:14:32,902]    INFO [count] Copying pre-packaged 10XV3 on-list to data/kb_count_reference_genome\n",
      "[2025-03-01 23:14:33,250]    INFO [count] Inspecting BUS file data/kb_count_reference_genome/tmp/output.s.bus\n",
      "[2025-03-01 23:14:42,572]    INFO [count] Correcting BUS records in data/kb_count_reference_genome/tmp/output.s.bus to data/kb_count_reference_genome/tmp/output.s.c.bus with on-list data/kb_count_reference_genome/10x_version3_whitelist.txt\n",
      "[2025-03-01 23:14:51,830]    INFO [count] Sorting BUS file data/kb_count_reference_genome/tmp/output.s.c.bus to data/kb_count_reference_genome/output.unfiltered.bus\n",
      "[2025-03-01 23:14:54,619]    INFO [count] Generating count matrix data/kb_count_reference_genome/counts_unfiltered/cells_x_genes from BUS file data/kb_count_reference_genome/output.unfiltered.bus\n",
      "[2025-03-01 23:14:59,347]    INFO [count] Writing gene names to file data/kb_count_reference_genome/counts_unfiltered/cells_x_genes.genes.names.txt\n",
      "[2025-03-01 23:14:59,496] WARNING [count] 13914 gene IDs do not have corresponding valid gene names. These genes will use their gene IDs instead.\n",
      "[2025-03-01 23:14:59,511]    INFO [count] Reading matrix data/kb_count_reference_genome/counts_unfiltered/cells_x_genes.mtx\n",
      "[2025-03-01 23:14:59,714]    INFO [count] Writing matrix to h5ad data/kb_count_reference_genome/counts_unfiltered/adata.h5ad\n"
     ]
    }
   ],
   "source": [
    "kb_count_reference_genome_adata = os.path.join(kb_count_reference_genome_dir, \"counts_unfiltered\", \"adata.h5ad\")\n",
    "if qc_against_gene_matrix and not os.path.exists(kb_count_reference_genome_adata):  # check if kb count was run\n",
    "    os.makedirs(kb_count_reference_genome_dir, exist_ok=True)\n",
    "    if not os.path.exists(reference_genome_index) or not os.path.exists(reference_genome_t2g):  # check if kb ref was run\n",
    "        if not os.path.exists(reference_genome_fasta) or not os.path.exists(reference_genome_gtf):\n",
    "            reference_genome_out_dir = os.path.dirname(reference_genome_fasta) if reference_genome_fasta else \".\"\n",
    "            # using grch37, ensembl 93 to agree with COSMIC\n",
    "            !gget ref -w dna,gtf -r 93 --out_dir {reference_genome_out_dir} -d human_grch37 && gunzip {reference_genome_fasta}.gz && gunzip {reference_genome_gtf}.gz\n",
    "        reference_genome_f1 = os.path.join(kb_count_reference_genome_dir, \"f1.fa\")\n",
    "        !kb ref -t {threads} -k {k} -i {reference_genome_index} -g {reference_genome_t2g} -f1 {reference_genome_f1} {reference_genome_fasta} {reference_genome_gtf}\n",
    "    \n",
    "    !kb count -t {threads} -i {reference_genome_index} -g {reference_genome_t2g} -x {technology} --h5ad --num -o {kb_count_reference_genome_dir} \\\n",
    "        {fastqs_processed_dir}/pbmc_1k_v3_S1_L001_R1_001.fastq.gz {fastqs_processed_dir}/pbmc_1k_v3_S1_L001_R2_001.fastq.gz \\\n",
    "        {fastqs_processed_dir}/pbmc_1k_v3_S1_L002_R1_001.fastq.gz {fastqs_processed_dir}/pbmc_1k_v3_S1_L002_R2_001.fastq.gz"
   ]
  },
  {
   "cell_type": "markdown",
   "metadata": {},
   "source": [
    "### Run varseek count\n",
    "\n",
    "This will run the following commands:\n",
    "- `varseek fastqpp`: Preprocess the fastq files. By default, does nothing.\n",
    "- `kb count` (variant reference): Perform variant screening on fastq data utilizing kb count's pseudoalignment algorithm. Variant data is stored in an Anndata object as as cell/sample x variant matrix.\n",
    "- `kb count` (\"normal\" reference genome) (optional): Perform pseudoalignment of fastq data to the reference genome. Only performed if utilized in the subsequence \"varseek clean\" step. By default, will occur if the path to the necessary files are not provided as input.\n",
    "- `varseek clean`: Process the output of kb count. By default, this will threshold variant counts and ensure that there is agreement for each read between the gene of the variant to which the read aligned during the variant reference pseudoalignment and the gene to which the read aligned during the \"normal\" reference genome pseudoalignment.\n",
    "- `varseek summarize`: Produces a text file summarizing some high-level insights from the variant screening process."
   ]
  },
  {
   "cell_type": "code",
   "execution_count": null,
   "metadata": {},
   "outputs": [
    {
     "name": "stderr",
     "output_type": "stream",
     "text": [
      "17:07:23 - INFO - Removing index files from fastq files list, as they are not utilized in kb count with technology 10xv3\n",
      "17:07:23 - INFO - Setting length_required to 51 if fastqpp is run\n",
      "17:07:23 - INFO - Skipping vk fastqpp because there was no use for it\n",
      "17:07:23 - INFO - Running kb count with command: kb count -t 2 -k 51 -i data/varseek_ref_out_full/vcrs_index.idx -g data/varseek_ref_out_full/vcrs_t2g_filtered.txt -x 10xv3 --h5ad --parity single --strand unstranded -o data/varseek_count_out/kb_count_out_vcrs --overwrite --num data/pbmc_1k_v3_fastqs/filtered/pbmc_1k_v3_S1_L001_R1_001.fastq.gz data/pbmc_1k_v3_fastqs/filtered/pbmc_1k_v3_S1_L001_R2_001.fastq.gz data/pbmc_1k_v3_fastqs/filtered/pbmc_1k_v3_S1_L002_R1_001.fastq.gz data/pbmc_1k_v3_fastqs/filtered/pbmc_1k_v3_S1_L002_R2_001.fastq.gz\n",
      "[2025-03-13 17:07:29,555]    INFO [count] Using index data/varseek_ref_out_full/vcrs_index.idx to generate BUS file to data/varseek_count_out/kb_count_out_vcrs from\n",
      "[2025-03-13 17:07:29,555]    INFO [count]         data/pbmc_1k_v3_fastqs/filtered/pbmc_1k_v3_S1_L001_R1_001.fastq.gz\n",
      "[2025-03-13 17:07:29,555]    INFO [count]         data/pbmc_1k_v3_fastqs/filtered/pbmc_1k_v3_S1_L001_R2_001.fastq.gz\n",
      "[2025-03-13 17:07:29,555]    INFO [count]         data/pbmc_1k_v3_fastqs/filtered/pbmc_1k_v3_S1_L002_R1_001.fastq.gz\n",
      "[2025-03-13 17:07:29,555]    INFO [count]         data/pbmc_1k_v3_fastqs/filtered/pbmc_1k_v3_S1_L002_R2_001.fastq.gz\n",
      "[2025-03-13 17:16:33,504]    INFO [count] Sorting BUS file data/varseek_count_out/kb_count_out_vcrs/output.bus to data/varseek_count_out/kb_count_out_vcrs/tmp/output.s.bus\n",
      "[2025-03-13 17:16:35,561]    INFO [count] On-list not provided\n",
      "[2025-03-13 17:16:35,562]    INFO [count] Copying pre-packaged 10XV3 on-list to data/varseek_count_out/kb_count_out_vcrs\n",
      "[2025-03-13 17:16:35,861]    INFO [count] Inspecting BUS file data/varseek_count_out/kb_count_out_vcrs/tmp/output.s.bus\n",
      "[2025-03-13 17:16:40,002]    INFO [count] Correcting BUS records in data/varseek_count_out/kb_count_out_vcrs/tmp/output.s.bus to data/varseek_count_out/kb_count_out_vcrs/tmp/output.s.c.bus with on-list data/varseek_count_out/kb_count_out_vcrs/10x_version3_whitelist.txt\n",
      "[2025-03-13 17:16:47,991]    INFO [count] Sorting BUS file data/varseek_count_out/kb_count_out_vcrs/tmp/output.s.c.bus to data/varseek_count_out/kb_count_out_vcrs/output.unfiltered.bus\n",
      "[2025-03-13 17:16:49,622]    INFO [count] Generating count matrix data/varseek_count_out/kb_count_out_vcrs/counts_unfiltered/cells_x_genes from BUS file data/varseek_count_out/kb_count_out_vcrs/output.unfiltered.bus\n",
      "[2025-03-13 17:17:13,504]    INFO [count] Writing gene names to file data/varseek_count_out/kb_count_out_vcrs/counts_unfiltered/cells_x_genes.genes.names.txt\n",
      "[2025-03-13 17:17:17,188] WARNING [count] 5345528 gene IDs do not have corresponding valid gene names. These genes will use their gene IDs instead.\n",
      "[2025-03-13 17:17:17,825]    INFO [count] Reading matrix data/varseek_count_out/kb_count_out_vcrs/counts_unfiltered/cells_x_genes.mtx\n",
      "[2025-03-13 17:17:47,364]    INFO [count] Writing matrix to h5ad data/varseek_count_out/kb_count_out_vcrs/counts_unfiltered/adata.h5ad\n",
      "17:17:49 - INFO - Skipping kb count for reference genome because the reference genome adata object was not needed and/or the file 'data/kb_count_reference_genome/counts_unfiltered/adata.h5ad' already exists. Note that even setting overwrite=True will still not overwrite this particular directory\n",
      "17:17:49 - INFO - Running vk clean\n",
      "17:17:49 - INFO - Removing index files from fastq files list, as they are not utilized in kb count with technology 10xv3\n",
      "17:18:01 - INFO - Total runtime for vk clean: 0m, 12.71s\n",
      "17:18:01 - INFO - Running vk summarize\n",
      "17:18:06 - INFO - 1. Number of Variants with Count > 0 in any Sample/Cell, and for bulk in particular, for each sample; then list the variants\n",
      "17:18:06 - INFO - 2. Variants Present Across the Most Samples\n",
      "17:18:06 - INFO - Total runtime for vk summarize: 0m, 5.11s\n",
      "17:18:07 - INFO - Total runtime for vk count: 10m, 43.61s\n"
     ]
    }
   ],
   "source": [
    "vk_count_output_dict = vk.count(\n",
    "    fastqs_processed_dir,\n",
    "    index=vcrs_index,\n",
    "    t2g=vcrs_t2g,\n",
    "    technology=technology,\n",
    "    out=vk_count_out_dir,\n",
    "    kb_count_reference_genome_dir=kb_count_reference_genome_dir,\n",
    "    k=k,\n",
    "    account_for_strand_bias=account_for_strand_bias, strand_bias_end=strand_bias_end,\n",
    "    threads=threads,\n",
    "    # quality_control_fastqs=True, cut_front=True, cut_tail=True,  # equivalent to the fastp step above\n",
    "    # reference_genome_index=reference_genome_index, reference_genome_t2g=reference_genome_t2g,  # equivalent to the kb count step above\n",
    "    qc_against_gene_matrix=qc_against_gene_matrix,\n",
    ")"
   ]
  },
  {
   "cell_type": "code",
   "execution_count": 33,
   "metadata": {},
   "outputs": [
    {
     "name": "stdout",
     "output_type": "stream",
     "text": [
      "Find summarized results in None\n",
      "Find the processed adata object for further analysis in /Users/joeyrich/Desktop/local/varseek-examples/data/varseek_count_out/adata_cleaned.h5ad\n"
     ]
    }
   ],
   "source": [
    "print(f\"Find summarized results in {vk_count_output_dict['vk_summarize_output_dir']}\")\n",
    "print(f\"Find the processed adata object for further analysis in {vk_count_output_dict['adata_path']}\")"
   ]
  },
  {
   "cell_type": "code",
   "execution_count": null,
   "metadata": {},
   "outputs": [],
   "source": [
    "# vk.clean(\n",
    "#   adata_vcrs = \"data/varseek_count_out/kb_count_out_vcrs/counts_unfiltered/adata.h5ad\",\n",
    "#   technology = \"10xv3\",\n",
    "#   min_counts = 2,\n",
    "#   use_binary_matrix = False,\n",
    "#   drop_empty_columns = False,\n",
    "#   apply_single_end_mode_on_paired_end_data_correction = False,\n",
    "#   split_reads_by_Ns_and_low_quality_bases = False,\n",
    "#   apply_dlist_correction = False,\n",
    "#   qc_against_gene_matrix = False,\n",
    "#   filter_cells_by_min_counts = None,\n",
    "#   filter_cells_by_min_genes = None,\n",
    "#   filter_genes_by_min_cells = None,\n",
    "#   filter_cells_by_max_mt_content = None,\n",
    "#   doublet_detection = False,\n",
    "#   remove_doublets = False,\n",
    "#   cpm_normalization = False,\n",
    "#   sum_rows = False,\n",
    "#   vcrs_id_set_to_exclusively_keep = None,\n",
    "#   vcrs_id_set_to_exclude = None,\n",
    "#   transcript_set_to_exclusively_keep = None,\n",
    "#   transcript_set_to_exclude = None,\n",
    "#   gene_set_to_exclusively_keep = None,\n",
    "#   gene_set_to_exclude = None,\n",
    "#   k = 51,\n",
    "#   mm = False,\n",
    "#   union = False,\n",
    "#   parity = \"single\",\n",
    "#   multiplexed = None,\n",
    "#   sort_fastqs = True,\n",
    "#   adata_reference_genome = None,\n",
    "#   fastqs = ['data/pbmc_1k_v3_fastqs/filtered/pbmc_1k_v3_S1_L001_R1_001.fastq.gz', 'data/pbmc_1k_v3_fastqs/filtered/pbmc_1k_v3_S1_L001_R2_001.fastq.gz', 'data/pbmc_1k_v3_fastqs/filtered/pbmc_1k_v3_S1_L002_R1_001.fastq.gz', 'data/pbmc_1k_v3_fastqs/filtered/pbmc_1k_v3_S1_L002_R2_001.fastq.gz'],\n",
    "#   vk_ref_dir = None,\n",
    "#   vcrs_index = \"data/varseek_ref_out/vcrs_index.idx\",\n",
    "#   vcrs_t2g = \"data/varseek_ref_out/vcrs_t2g_filtered.txt\",\n",
    "#   vcrs_fasta = None,\n",
    "#   dlist_fasta = None,\n",
    "#   variants_updated_csv = None,\n",
    "#   kb_count_vcrs_dir = \"data/varseek_count_out/kb_count_out_vcrs\",\n",
    "#   kb_count_reference_genome_dir = \"data/kb_count_reference_genome\",\n",
    "#   variants_updated_csv_columns_to_merge = None,\n",
    "#   seq_id_column = \"seq_ID\",\n",
    "#   gene_id_column = \"gene_id\",\n",
    "#   out = \"data/varseek_count_out\",\n",
    "#   adata_vcrs_clean_out = None,\n",
    "#   adata_reference_genome_clean_out = None,\n",
    "#   vcf_out = None,\n",
    "#   save_vcf = False,\n",
    "#   dry_run = True,\n",
    "#   overwrite = True,\n",
    "#   threads = 2,\n",
    "#   logging_level = None,\n",
    "#   save_logs = False,\n",
    "#   log_out_dir = None,\n",
    "#   parity_kb_count = \"single\"\n",
    "# )"
   ]
  },
  {
   "cell_type": "code",
   "execution_count": null,
   "metadata": {},
   "outputs": [
    {
     "name": "stdout",
     "output_type": "stream",
     "text": [
      "varseek.varseek_summarize.summarize(\n",
      "  adata = \"data/varseek_count_out/adata_cleaned.h5ad\",\n",
      "  top_values = 10,\n",
      "  technology = \"10xv3\",\n",
      "  gene_name_column = None,\n",
      "  out = \"data/varseek_count_out/vk_summarize\",\n",
      "  dry_run = True,\n",
      "  overwrite = True,\n",
      "  logging_level = None,\n",
      "  save_logs = False,\n",
      "  log_out_dir = None\n",
      ")\n"
     ]
    }
   ],
   "source": [
    "# vk.summarize(\n",
    "#   adata = \"data/varseek_count_out/adata_cleaned.h5ad\",\n",
    "#   top_values = 10,\n",
    "#   technology = \"10xv3\",\n",
    "#   gene_name_column = None,\n",
    "#   out = \"data/varseek_count_out/vk_summarize\",\n",
    "#   dry_run = True,\n",
    "#   overwrite = True,\n",
    "#   logging_level = None,\n",
    "#   save_logs = False,\n",
    "#   log_out_dir = None\n",
    "# )"
   ]
  }
 ],
 "metadata": {
  "kernelspec": {
   "display_name": "varseek",
   "language": "python",
   "name": "python3"
  },
  "language_info": {
   "codemirror_mode": {
    "name": "ipython",
    "version": 3
   },
   "file_extension": ".py",
   "mimetype": "text/x-python",
   "name": "python",
   "nbconvert_exporter": "python",
   "pygments_lexer": "ipython3",
   "version": "3.10.16"
  }
 },
 "nbformat": 4,
 "nbformat_minor": 4
}
