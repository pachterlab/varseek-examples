{
 "cells": [
  {
   "cell_type": "markdown",
   "metadata": {},
   "source": [
    "<a href=\"https://colab.research.google.com/github/pachterlab/varseek-examples/blob/main/vk_ref.ipynb\" target=\"_parent\"><img src=\"https://colab.research.google.com/assets/colab-badge.svg\" alt=\"Open In Colab\"/></a>"
   ]
  },
  {
   "cell_type": "markdown",
   "metadata": {},
   "source": [
    "# [vk ref](https://github.com/pachterlab/varseek) demonstration\n",
    "Create a variant reference index file with varseek ref, using 150 variants as the reference.\n",
    "\n",
    "Written by Joseph Rich.\n",
    "___"
   ]
  },
  {
   "cell_type": "markdown",
   "metadata": {},
   "source": [
    "### Install varseek, and import all packages"
   ]
  },
  {
   "cell_type": "code",
   "execution_count": 1,
   "metadata": {},
   "outputs": [],
   "source": [
    "try:\n",
    "    import varseek as vk\n",
    "except ImportError:\n",
    "    print(\"varseek not found, installing...\")\n",
    "    !pip install -U -q varseek"
   ]
  },
  {
   "cell_type": "code",
   "execution_count": 2,
   "metadata": {},
   "outputs": [],
   "source": [
    "import os\n",
    "\n",
    "import gget\n",
    "import varseek as vk"
   ]
  },
  {
   "cell_type": "markdown",
   "metadata": {},
   "source": [
    "### Define important paths and parameters\n",
    "#### See more details in `vk ref --help`\n",
    "- vk_ref_out_dir: output directory for all vk ref files (including the index and t2g that will subsequently be passed into vk count)\n",
    "- reference_dir: Directory containing reference files, or the directory in which to download any reference files needed during vk ref. The only places where this is relevant within vk ref is when (a) using non-file path values for `variants` or `sequences` (see `vk ref --list_supported_databases`), or when `dlist_reference_source` is not None. We use this as the location for where to download our variants and sequences files in this tutorial.\n",
    "- dlist_reference_source: The reference genome and transcriptome source used during variant reference filtering. See vk ref documantation for all supported values, and alternatives if desiring to use a reference not included in the internally supported list.\n",
    "- variants: File containing the variants with the most common formats being either (1) a CSV file, each variant in a separate row and with columns provided by the arguments `seq_id_column` and `var_column`, or (2) a VCF file. See `vk ref --help` for all valid formats. For our example, we will use the 150 mutations that we selected of relevance for this dataset.\n",
    "- sequences: File containing the sequences in a fasta file corresponding to the annotations in the variants file. The genome assembly and release used to annotate the variants must be used. For our mutation database, the transcript variants are annotated with the cDNA of the GRCh37 genome assembly, Ensembl release 93."
   ]
  },
  {
   "cell_type": "code",
   "execution_count": null,
   "metadata": {},
   "outputs": [],
   "source": [
    "vk_ref_out_dir = os.path.join(\"data\", \"varseek_ref_out_sample\")\n",
    "reference_dir = os.path.join(\"data\", \"reference\")\n",
    "dlist_reference_source = \"t2t\"\n",
    "\n",
    "variants = os.path.join(reference_dir, \"vk_ref_example\", \"sample_mutation_database.csv\")\n",
    "sequences = os.path.join(reference_dir, \"ensembl_grch37_release93\", \"Homo_sapiens.GRCh37.cdna.all.fa\")"
   ]
  },
  {
   "cell_type": "markdown",
   "metadata": {},
   "source": [
    "### Download the mutation database file"
   ]
  },
  {
   "cell_type": "code",
   "execution_count": null,
   "metadata": {},
   "outputs": [],
   "source": [
    "if not os.path.exists(variants):\n",
    "    sample_mutation_database_url = \"https://caltech.box.com/shared/static/444q8amwnyooduxbm1jvvdn6z694z49o.csv\"\n",
    "    vk.utils.download_box_url(sample_mutation_database_url, output_folder=os.path.dirname(variants), output_file_name=os.path.basename(variants))"
   ]
  },
  {
   "cell_type": "markdown",
   "metadata": {},
   "source": [
    "### Print the first few lines of the variant database file\n",
    "Note that our sequence IDs are in the column \"seq_ID\", and our variants are in the column \"mutation\""
   ]
  },
  {
   "cell_type": "code",
   "execution_count": 5,
   "metadata": {},
   "outputs": [
    {
     "name": "stdout",
     "output_type": "stream",
     "text": [
      "seq_ID,mutation\n",
      "ENST00000374213,c.184A>G\n",
      "ENST00000374213,c.180A>G\n",
      "ENST00000374222,c.1922G>C\n",
      "ENST00000374222,c.2004T>C\n",
      "ENST00000368716,c.413T>A\n",
      "ENST00000368716,c.436G>A\n",
      "ENST00000368716,c.368G>T\n",
      "ENST00000368716,c.391C>A\n",
      "ENST00000368716,c.383C>A\n"
     ]
    }
   ],
   "source": [
    "!head -n 10 {variants}"
   ]
  },
  {
   "cell_type": "markdown",
   "metadata": {},
   "source": [
    "### Download the reference genome (GRCh37, Ensembl 93, cDNA file)"
   ]
  },
  {
   "cell_type": "code",
   "execution_count": 6,
   "metadata": {},
   "outputs": [],
   "source": [
    "if not os.path.exists(sequences):\n",
    "    sequences_dir = \".\" if not os.path.dirname(sequences) else os.path.dirname(sequences)\n",
    "    !gget ref -w cdna -r 93 --out_dir {sequences_dir} -d human_grch37\n",
    "    !gunzip {sequences}.gz"
   ]
  },
  {
   "cell_type": "markdown",
   "metadata": {},
   "source": [
    "### Run varseek ref\n",
    "\n",
    "This will run the following commands:\n",
    "- `varseek build`: Create a variant-containing reference sequence (VCRS) fasta file, where each VCRS contains the variant and at most *w* base pairs flanking each side of the variant (optimized to ensure that no k-mer is shared between a VCRS and its non-variant counterpart in the reference genome). Also creates a t2g file for compatibility with varseek count.\n",
    "- `varseek info`: Collect additional information about the VCRS sequences to be used for filtering. By default, it collects information on k-mer alignment between each VCRS and the T2T reference genome + transcriptome, VCRS pseudoalignment to the T2T reference genome (also indicating shared k-mers), and VCRS sequence complexity (i.e., the number of unique nucleotide triplets divided by the sequence length).\n",
    "- `varseek filter`: Filter the VCRS fasta file and t2g file. By default, filters any VCRS that shares a k-mer with anywhere in the reference genome + transcriptome, any VCRS that pseudoaligns to the reference genome, and any VCRS with fewer than three unique triplets.\n",
    "- `kb ref`: Create a kb index file from the filtered VCRS fasta file that can be used in varseek count."
   ]
  },
  {
   "cell_type": "code",
   "execution_count": null,
   "metadata": {},
   "outputs": [],
   "source": [
    "vk_ref_output_dict = vk.ref(\n",
    "    variants=variants,\n",
    "    sequences=sequences,\n",
    "    seq_id_column=\"seq_ID\",  # specific to our database, as referenced above\n",
    "    var_column=\"mutation\",  # specific to our database, as referenced above\n",
    "    out=vk_ref_out_dir,\n",
    "    reference_out_dir=reference_dir,\n",
    "    dlist_reference_source=dlist_reference_source\n",
    ")"
   ]
  },
  {
   "cell_type": "code",
   "execution_count": 9,
   "metadata": {},
   "outputs": [
    {
     "name": "stdout",
     "output_type": "stream",
     "text": [
      "Find index at /Users/joeyrich/Desktop/local/varseek-examples/data/varseek_ref_out_sample/vcrs_index.idx\n",
      "Find t2g at /Users/joeyrich/Desktop/local/varseek-examples/data/varseek_ref_out_sample/vcrs_t2g_filtered.txt\n"
     ]
    }
   ],
   "source": [
    "print(f\"Find index at {vk_ref_output_dict['index']}\")\n",
    "print(f\"Find t2g at {vk_ref_output_dict['t2g']}\")"
   ]
  }
 ],
 "metadata": {
  "kernelspec": {
   "display_name": "varseek",
   "language": "python",
   "name": "python3"
  },
  "language_info": {
   "codemirror_mode": {
    "name": "ipython",
    "version": 3
   },
   "file_extension": ".py",
   "mimetype": "text/x-python",
   "name": "python",
   "nbconvert_exporter": "python",
   "pygments_lexer": "ipython3",
   "version": "3.10.16"
  }
 },
 "nbformat": 4,
 "nbformat_minor": 4
}
