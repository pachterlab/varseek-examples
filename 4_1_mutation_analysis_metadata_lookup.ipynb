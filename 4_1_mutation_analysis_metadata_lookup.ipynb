{
 "cells": [
  {
   "cell_type": "code",
   "execution_count": null,
   "metadata": {},
   "outputs": [],
   "source": [
    "ref_version=\"hg19\"\n",
    "gatk = \"/home/jrich/opt/gatk-4.6.0.0/gatk\"\n",
    "funcotator_file_path = \"/home/jrich/Desktop/varseek/gatk_test/funcotator_dataSources.v1.8.hg19.20230908s.tar.gz\""
   ]
  },
  {
   "cell_type": "markdown",
   "metadata": {},
   "source": [
    "# Funcotator"
   ]
  },
  {
   "cell_type": "code",
   "execution_count": null,
   "metadata": {},
   "outputs": [],
   "source": [
    "ref_version_funcotator = f\"--{grch}\"\n",
    "if not os.path.exists(funcotator_file_path):\n",
    "    !$gatk FuncotatorDataSourceDownloader --somatic --validate-integrity --extract-after-download {ref_version_funcotator} -O {funcotator_file_path}"
   ]
  },
  {
   "cell_type": "code",
   "execution_count": null,
   "metadata": {},
   "outputs": [],
   "source": [
    "ref=\"/home/jrich/data/varseek_data/reference/ensembl_grch37_release93/Homo_sapiens.GRCh37.dna.primary_assembly.fa\"  # always this one for CMC\n",
    "haplotypecaller_filtered_vcf = f\"{haplotypecaller_folder}/haplotypecaller_output_filtered.vcf.gz\"\n",
    "funcotator_output=f\"{haplotypecaller_folder}/funcotator_output.vcf.gz\"\n",
    "data_path = \"\"  # figure out from FuncotatorDataSourceDownloader\n",
    "\n",
    "#! unsure if .vcf.gz supported as input/output\n",
    "\n",
    "!$gatk Funcotator \\\n",
    "\t--variant {haplotypecaller_filtered_vcf} \\\n",
    "\t--reference {ref} \\\n",
    "\t--ref-version {ref_version} \\\n",
    "\t--data-sources-path {funcotator_file_path} \\\n",
    "\t--output {funcotator_output} \\\n",
    "\t--output-file-format VCF"
   ]
  },
  {
   "cell_type": "markdown",
   "metadata": {},
   "source": [
    "# Oncokb"
   ]
  },
  {
   "cell_type": "code",
   "execution_count": null,
   "metadata": {},
   "outputs": [],
   "source": []
  },
  {
   "cell_type": "markdown",
   "metadata": {},
   "source": [
    "# Metadata lookup (COSMIC, funcotator, oncokb)"
   ]
  },
  {
   "cell_type": "code",
   "execution_count": null,
   "metadata": {},
   "outputs": [],
   "source": []
  }
 ],
 "metadata": {
  "kernelspec": {
   "display_name": "varseek",
   "language": "python",
   "name": "python3"
  },
  "language_info": {
   "name": "python",
   "version": "3.10.15"
  }
 },
 "nbformat": 4,
 "nbformat_minor": 2
}
