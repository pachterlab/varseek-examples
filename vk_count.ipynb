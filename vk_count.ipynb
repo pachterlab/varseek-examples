{
 "cells": [
  {
   "cell_type": "markdown",
   "metadata": {},
   "source": [
    "<a href=\"https://colab.research.google.com/github/pachterlab/varseek-examples/blob/main/vk_count.ipynb\" target=\"_parent\"><img src=\"https://colab.research.google.com/assets/colab-badge.svg\" alt=\"Open In Colab\"/></a>"
   ]
  },
  {
   "cell_type": "markdown",
   "metadata": {},
   "source": [
    "# [vk count](https://github.com/pachterlab/varseek) demonstration\n",
    "Perform variant screening on scRNA-seq data with vk count, using a [10x PBMC 1k dataset](https://www.10xgenomics.com/datasets/1-k-pbm-cs-from-a-healthy-donor-v-3-chemistry-3-standard-3-0-0) against the sample mutation database from the vk ref tutorial. \n",
    "\n",
    "Written by Joseph Rich.\n",
    "___"
   ]
  },
  {
   "cell_type": "markdown",
   "metadata": {},
   "source": [
    "### Install varseek, and import all packages"
   ]
  },
  {
   "cell_type": "code",
   "execution_count": 1,
   "metadata": {},
   "outputs": [],
   "source": [
    "try:\n",
    "    import varseek as vk\n",
    "except ImportError:\n",
    "    print(\"varseek not found, installing...\")\n",
    "    !pip install -U -q varseek"
   ]
  },
  {
   "cell_type": "code",
   "execution_count": 2,
   "metadata": {},
   "outputs": [],
   "source": [
    "import os\n",
    "import subprocess\n",
    "import shutil\n",
    "import anndata as ad\n",
    "import numpy as np\n",
    "\n",
    "import varseek as vk"
   ]
  },
  {
   "cell_type": "markdown",
   "metadata": {},
   "source": [
    "### Define important paths"
   ]
  },
  {
   "cell_type": "code",
   "execution_count": null,
   "metadata": {},
   "outputs": [],
   "source": [
    "# vk count out directory\n",
    "vk_count_out_dir = os.path.join(\"data\", \"varseek_count_out\")\n",
    "reference_dir = os.path.join(\"data\", \"reference\")\n",
    "\n",
    "# vk ref out directory and files - downloaded if not already present\n",
    "vk_ref_out_dir = os.path.join(\"data\", \"varseek_ref_out_sample\")\n",
    "vcrs_index = os.path.join(vk_ref_out_dir, \"vcrs_index.idx\")\n",
    "vcrs_t2g = os.path.join(vk_ref_out_dir, \"vcrs_t2g_filtered.txt\")\n",
    "\n",
    "# fastq directories - fastqs_dir downloaded if not already present, and fastqs_processed_dir created with fastp if not already present\n",
    "fastqs_dir = os.path.join(\"data\", \"pbmc_1k_v3_fastqs\")\n",
    "fastqs_processed_dir = os.path.join(fastqs_dir, \"filtered\")\n",
    "technology = \"10xv3\"\n",
    "parity = \"paired\"\n",
    "\n",
    "# kb count to reference genome directory and files - created if not already present\n",
    "qc_against_gene_matrix = False\n",
    "kb_count_reference_genome_dir = os.path.join(\"data\", \"kb_count_reference_genome\")\n",
    "reference_genome_index = os.path.join(kb_count_reference_genome_dir, \"ensembl_grch37_release93\", \"index.idx\")  # either already exists or will be created\n",
    "reference_genome_t2g = os.path.join(kb_count_reference_genome_dir, \"ensembl_grch37_release93\", \"t2g.txt\")  # either already exists or will be created\n",
    "\n",
    "# kb ref genome/gtf files - used to create kb index/t2g for reference genome for the step above if reference_genome_index and reference_genome_t2g do not exist\n",
    "reference_genome_fasta = os.path.join(reference_dir, \"ensembl_grch37_release93\", \"Homo_sapiens.GRCh37.dna.primary_assembly.fa\")  # if reference_genome_index/reference_genome_t2g do not exist, then I need to supply the reference genome fasta and gtf\n",
    "reference_genome_gtf = os.path.join(reference_dir, \"ensembl_grch37_release93\", \"Homo_sapiens.GRCh37.87.gtf\")  # if reference_genome_index/reference_genome_t2g do not exist, then I need to supply the reference genome fasta and gtf\n",
    "\n",
    "# general\n",
    "threads = 2\n",
    "k=51"
   ]
  },
  {
   "cell_type": "markdown",
   "metadata": {},
   "source": [
    "### Download the vk ref index and t2g files if they do not already exist. See vk_ref.ipynb for more details."
   ]
  },
  {
   "cell_type": "code",
   "execution_count": null,
   "metadata": {},
   "outputs": [],
   "source": [
    "if not os.path.exists(vcrs_index):\n",
    "    vcrs_index_url = \"https://caltech.box.com/shared/static/8693b78lh02fv8qh6wz6keng7cn2n91k.idx\"\n",
    "    vk.utils.download_box_url(vcrs_index_url, output_folder=vk_ref_out_dir, output_file_name=\"vcrs_index.idx\")\n",
    "\n",
    "if not os.path.exists(vcrs_t2g):\n",
    "    vcrs_t2g_url = \"https://caltech.box.com/shared/static/0svv7xx0mobhfzpiz7f48bjljhs72kcy.txt\"\n",
    "    vk.utils.download_box_url(vcrs_t2g_url, output_folder=vk_ref_out_dir, output_file_name=\"vcrs_t2g_filtered.txt\")"
   ]
  },
  {
   "cell_type": "markdown",
   "metadata": {},
   "source": [
    "### Download the PBMC fastq dataset"
   ]
  },
  {
   "cell_type": "code",
   "execution_count": 5,
   "metadata": {},
   "outputs": [
    {
     "name": "stdout",
     "output_type": "stream",
     "text": [
      "  % Total    % Received % Xferd  Average Speed   Time    Time     Time  Current\n",
      "                                 Dload  Upload   Total   Spent    Left  Speed\n",
      "100 5292M  100 5292M    0     0  9937k      0  0:09:05  0:09:05 --:--:-- 42.3M0:02:28 34.9M7  0:00:14  0:01:43 47.5M0  44.5M      0  0:01:58  0:00:28  0:01:30 33.0M:00:34  0:01:48 3230k6  0:02:17 4732k19.6M      0  0:04:29  0:01:15  0:03:14 6064k0:05:53  0:01:49  0:04:04 5541k   0  14.6M      0  0:06:01  0:01:53  0:04:08 6124k      0  0:06:39  0:02:14  0:04:25 6699k:04:31 3246k 0  0:08:06  0:03:04  0:05:02 5066k1  0:04:04  0:05:17 3621k    0  9567k      0  0:09:26  0:04:08  0:05:18 4246k      0  0:09:56  0:04:36  0:05:20 5389k   0     0  9034k      0  0:09:59  0:04:39  0:05:20 4746k:06  0:04:47  0:05:19 5318k      0  0:10:26  0:05:13  0:05:13 6873k0     0  8642k      0  0:10:27  0:05:14  0:05:13 4938k5:13 3825kk      0  0:09:14  0:05:44  0:03:30 44.4M  0:03:22 5700k0  9257k      0  0:09:45  0:06:28  0:03:17 4803k      0  0:08:40  0:06:41  0:01:59 50.6M  0  10.0M      0  0:08:44  0:06:50  0:01:54 4044k 0:07:01  0:01:51 4550k4217M    0     0   9.8M      0  0:08:55  0:07:06  0:01:49 5665k  0     0  9854k      0  0:09:09  0:07:28  0:01:41 3699k0:01:37 3852k:07:46  0:01:35 5824k     0  0:09:25  0:07:52  0:01:33 3879k  9489k      0  0:09:31  0:08:04  0:01:27 5631k5  0:01:26 6037k68k      0  0:09:32  0:08:07  0:01:25 6435k08:38  0:01:12 3852k 9147k      0  0:09:52  0:08:41  0:01:11 3403k\n",
      "x pbmc_1k_v3_fastqs/\n",
      "x pbmc_1k_v3_fastqs/pbmc_1k_v3_S1_L001_R2_001.fastq.gz\n",
      "x pbmc_1k_v3_fastqs/pbmc_1k_v3_S1_L002_I1_001.fastq.gz\n",
      "x pbmc_1k_v3_fastqs/pbmc_1k_v3_S1_L001_R1_001.fastq.gz\n",
      "x pbmc_1k_v3_fastqs/pbmc_1k_v3_S1_L002_R1_001.fastq.gz\n",
      "x pbmc_1k_v3_fastqs/pbmc_1k_v3_S1_L002_R2_001.fastq.gz\n",
      "x pbmc_1k_v3_fastqs/pbmc_1k_v3_S1_L001_I1_001.fastq.gz\n"
     ]
    }
   ],
   "source": [
    "if not os.path.exists(fastqs_dir) or len(os.listdir(fastqs_dir)) == 0:\n",
    "    !mkdir -p data && \\\n",
    "        cd data && \\\n",
    "        curl -O https://cf.10xgenomics.com/samples/cell-exp/3.0.0/pbmc_1k_v3/pbmc_1k_v3_fastqs.tar && \\\n",
    "        tar -xvf pbmc_1k_v3_fastqs.tar && \\\n",
    "        rm pbmc_1k_v3_fastqs.tar"
   ]
  },
  {
   "cell_type": "markdown",
   "metadata": {},
   "source": [
    "### (Recommended): Process the fastq data - as an example, we will use [fastp](https://github.com/OpenGene/fastp)\n",
    "Note: fastp was not designed for single-cell data, and as such it requires careful thought to ensure correct processing. The procedure belows works on 10xv3 fastq files, but may need to be modified for other datasets. The function vk.utils.perform_fastp_trimming_and_filtering (called internally by vk.count) handles these nuances. While vk count would handle this step, we call it outside of vk count to demonstrate the process for clarity."
   ]
  },
  {
   "cell_type": "code",
   "execution_count": 8,
   "metadata": {},
   "outputs": [
    {
     "name": "stderr",
     "output_type": "stream",
     "text": [
      "01:03:19 - INFO - Removing index files from fastq files list, as they are not utilized in kb count with technology 10xv3\n",
      "01:03:19 - INFO - Quality controlling fastq files (trimming adaptors, trimming low-quality read edges, filtering low quality reads)\n",
      "01:03:19 - INFO - Processing data/pbmc_1k_v3_fastqs/pbmc_1k_v3_S1_L001_R1_001.fastq.gz data/pbmc_1k_v3_fastqs/pbmc_1k_v3_S1_L001_R2_001.fastq.gz\n",
      "Read1 before filtering:\n",
      "total reads: 33436697\n",
      "total bases: 936227516\n",
      "Q20 bases: 914825508(97.714%)\n",
      "Q30 bases: 875566255(93.5207%)\n",
      "\n",
      "Read2 before filtering:\n",
      "total reads: 33436697\n",
      "total bases: 3042739427\n",
      "Q20 bases: 2916461207(95.8499%)\n",
      "Q30 bases: 2748403739(90.3266%)\n",
      "\n",
      "Read1 after filtering:\n",
      "total reads: 33073426\n",
      "total bases: 926055928\n",
      "Q20 bases: 905632897(97.7946%)\n",
      "Q30 bases: 867362081(93.662%)\n",
      "\n",
      "Read2 after filtering:\n",
      "total reads: 33073426\n",
      "total bases: 3009681766\n",
      "Q20 bases: 2900191729(96.3621%)\n",
      "Q30 bases: 2737346398(90.9514%)\n",
      "\n",
      "Filtering result:\n",
      "reads passed filter: 66146852\n",
      "reads failed due to low quality: 725332\n",
      "reads failed due to too many N: 1210\n",
      "\n",
      "Insert size peak (evaluated by paired-end reads): 28\n",
      "\n",
      "JSON report: data/pbmc_1k_v3_fastqs/filtered/fastp_report.json\n",
      "HTML report: data/pbmc_1k_v3_fastqs/filtered/fastp_report.html\n",
      "\n",
      "fastp -i data/pbmc_1k_v3_fastqs/pbmc_1k_v3_S1_L001_R1_001.fastq.gz -I data/pbmc_1k_v3_fastqs/pbmc_1k_v3_S1_L001_R2_001.fastq.gz -o /var/folders/wr/wdr46lxn7fbc_kty6kwbfhxc0000gn/T/tmpqq4k8zma/pbmc_1k_v3_S1_L001_R1_001.fastq.gz -O /var/folders/wr/wdr46lxn7fbc_kty6kwbfhxc0000gn/T/tmpqq4k8zma/pbmc_1k_v3_S1_L001_R2_001.fastq.gz --disable_adapter_trimming --qualified_quality_phred 15 --unqualified_percent_limit 40 --average_qual 15 --n_base_limit 10 --disable_length_filtering --dont_eval_duplication --disable_trim_poly_g -h data/pbmc_1k_v3_fastqs/filtered/fastp_report.html -j data/pbmc_1k_v3_fastqs/filtered/fastp_report.json --thread 2 \n",
      "fastp v0.23.4, time used: 67 seconds\n",
      "Detecting adapter sequence for read1...\n",
      "No adapter detected for read1\n",
      "\n",
      "Read1 before filtering:\n",
      "total reads: 33073426\n",
      "total bases: 3009681766\n",
      "Q20 bases: 2900191729(96.3621%)\n",
      "Q30 bases: 2737346398(90.9514%)\n",
      "\n",
      "Read1 after filtering:\n",
      "total reads: 33073426\n",
      "total bases: 3008448450\n",
      "Q20 bases: 2900012474(96.3956%)\n",
      "Q30 bases: 2737346291(90.9886%)\n",
      "\n",
      "Filtering result:\n",
      "reads passed filter: 33073426\n",
      "reads failed due to low quality: 0\n",
      "reads failed due to too many N: 0\n",
      "reads with adapter trimmed: 0\n",
      "bases trimmed due to adapters: 0\n",
      "\n",
      "JSON report: data/pbmc_1k_v3_fastqs/filtered/fastp_report2.json\n",
      "HTML report: data/pbmc_1k_v3_fastqs/filtered/fastp_report2.html\n",
      "\n",
      "fastp -i /var/folders/wr/wdr46lxn7fbc_kty6kwbfhxc0000gn/T/tmpqq4k8zma/pbmc_1k_v3_S1_L001_R2_001.fastq.gz -o data/pbmc_1k_v3_fastqs/filtered/pbmc_1k_v3_S1_L001_R2_001.fastq.gz --cut_front --cut_tail --cut_window_size 4 --cut_mean_quality 15 --disable_quality_filtering --disable_length_filtering --dont_eval_duplication --disable_trim_poly_g --thread 2 --failed_out /var/folders/wr/wdr46lxn7fbc_kty6kwbfhxc0000gn/T/tmpqq4k8zma/removed_reads2.fastq -h data/pbmc_1k_v3_fastqs/filtered/fastp_report2.html -j data/pbmc_1k_v3_fastqs/filtered/fastp_report2.json \n",
      "fastp v0.23.4, time used: 55 seconds\n",
      "01:05:21 - INFO - Processing data/pbmc_1k_v3_fastqs/pbmc_1k_v3_S1_L002_R1_001.fastq.gz data/pbmc_1k_v3_fastqs/pbmc_1k_v3_S1_L002_R2_001.fastq.gz\n",
      "Read1 before filtering:\n",
      "total reads: 33165190\n",
      "total bases: 928625320\n",
      "Q20 bases: 907211811(97.6941%)\n",
      "Q30 bases: 867921441(93.463%)\n",
      "\n",
      "Read2 before filtering:\n",
      "total reads: 33165190\n",
      "total bases: 3018032290\n",
      "Q20 bases: 2889908946(95.7547%)\n",
      "Q30 bases: 2719931289(90.1227%)\n",
      "\n",
      "Read1 after filtering:\n",
      "total reads: 32792379\n",
      "total bases: 918186612\n",
      "Q20 bases: 897809723(97.7807%)\n",
      "Q30 bases: 859558206(93.6148%)\n",
      "\n",
      "Read2 after filtering:\n",
      "total reads: 32792379\n",
      "total bases: 2984106489\n",
      "Q20 bases: 2873126149(96.281%)\n",
      "Q30 bases: 2708518975(90.7648%)\n",
      "\n",
      "Filtering result:\n",
      "reads passed filter: 65584758\n",
      "reads failed due to low quality: 744904\n",
      "reads failed due to too many N: 718\n",
      "\n",
      "Insert size peak (evaluated by paired-end reads): 28\n",
      "\n",
      "JSON report: data/pbmc_1k_v3_fastqs/filtered/fastp_report.json\n",
      "HTML report: data/pbmc_1k_v3_fastqs/filtered/fastp_report.html\n",
      "\n",
      "fastp -i data/pbmc_1k_v3_fastqs/pbmc_1k_v3_S1_L002_R1_001.fastq.gz -I data/pbmc_1k_v3_fastqs/pbmc_1k_v3_S1_L002_R2_001.fastq.gz -o /var/folders/wr/wdr46lxn7fbc_kty6kwbfhxc0000gn/T/tmphgd7dqr6/pbmc_1k_v3_S1_L002_R1_001.fastq.gz -O /var/folders/wr/wdr46lxn7fbc_kty6kwbfhxc0000gn/T/tmphgd7dqr6/pbmc_1k_v3_S1_L002_R2_001.fastq.gz --disable_adapter_trimming --qualified_quality_phred 15 --unqualified_percent_limit 40 --average_qual 15 --n_base_limit 10 --disable_length_filtering --dont_eval_duplication --disable_trim_poly_g -h data/pbmc_1k_v3_fastqs/filtered/fastp_report.html -j data/pbmc_1k_v3_fastqs/filtered/fastp_report.json --thread 2 \n",
      "fastp v0.23.4, time used: 66 seconds\n",
      "Detecting adapter sequence for read1...\n",
      "No adapter detected for read1\n",
      "\n",
      "Read1 before filtering:\n",
      "total reads: 32792379\n",
      "total bases: 2984106489\n",
      "Q20 bases: 2873126149(96.281%)\n",
      "Q30 bases: 2708518975(90.7648%)\n",
      "\n",
      "Read1 after filtering:\n",
      "total reads: 32792379\n",
      "total bases: 2982863252\n",
      "Q20 bases: 2872944110(96.315%)\n",
      "Q30 bases: 2708518816(90.8026%)\n",
      "\n",
      "Filtering result:\n",
      "reads passed filter: 32792379\n",
      "reads failed due to low quality: 0\n",
      "reads failed due to too many N: 0\n",
      "reads with adapter trimmed: 0\n",
      "bases trimmed due to adapters: 0\n",
      "\n",
      "JSON report: data/pbmc_1k_v3_fastqs/filtered/fastp_report2.json\n",
      "HTML report: data/pbmc_1k_v3_fastqs/filtered/fastp_report2.html\n",
      "\n",
      "fastp -i /var/folders/wr/wdr46lxn7fbc_kty6kwbfhxc0000gn/T/tmphgd7dqr6/pbmc_1k_v3_S1_L002_R2_001.fastq.gz -o data/pbmc_1k_v3_fastqs/filtered/pbmc_1k_v3_S1_L002_R2_001.fastq.gz --cut_front --cut_tail --cut_window_size 4 --cut_mean_quality 15 --disable_quality_filtering --disable_length_filtering --dont_eval_duplication --disable_trim_poly_g --thread 2 --failed_out /var/folders/wr/wdr46lxn7fbc_kty6kwbfhxc0000gn/T/tmphgd7dqr6/removed_reads2.fastq -h data/pbmc_1k_v3_fastqs/filtered/fastp_report2.html -j data/pbmc_1k_v3_fastqs/filtered/fastp_report2.json \n",
      "fastp v0.23.4, time used: 55 seconds\n",
      "01:07:22 - INFO - Returning a dictionary with keys describing the fastq files and values pointing to their file paths\n",
      "01:07:22 - INFO - Total runtime for vk fastqpp: 4m, 2.94s\n"
     ]
    }
   ],
   "source": [
    "if shutil.which(\"fastp\"):\n",
    "    if not os.path.exists(fastqs_processed_dir) or len(os.listdir(fastqs_processed_dir)) == 0:\n",
    "        vk.fastqpp(\n",
    "            fastqs = fastqs_dir,\n",
    "            quality_control_fastqs = True,\n",
    "            technology = technology,\n",
    "            parity = parity,\n",
    "            threads = threads,\n",
    "            cut_front = True,\n",
    "            cut_tail = True,\n",
    "            disable_length_filtering = True,\n",
    "            dont_eval_duplication = True,\n",
    "            disable_trim_poly_g = True,\n",
    "            quality_control_fastqs_out_dir = fastqs_processed_dir\n",
    "        )\n",
    "        \n",
    "        # os.makedirs(vk_count_out_dir, exist_ok=True)\n",
    "        # os.makedirs(fastqs_processed_dir, exist_ok=True)\n",
    "        # for file_r1, file_r2 in [(\"pbmc_1k_v3_S1_L001_R1_001.fastq.gz\", \"pbmc_1k_v3_S1_L001_R2_001.fastq.gz\"), (\"pbmc_1k_v3_S1_L002_R1_001.fastq.gz\", \"pbmc_1k_v3_S1_L002_R2_001.fastq.gz\")]:\n",
    "        #     print(f\"Processing {file_r1} and {file_r2} with fastp\")\n",
    "        #     file_r1_path = os.path.join(fastqs_dir, file_r1)\n",
    "        #     file_r2_path = os.path.join(fastqs_dir, file_r2)\n",
    "\n",
    "        #     file_r1_out_path = os.path.join(fastqs_processed_dir, file_r1)\n",
    "        #     file_r2_out_path = os.path.join(fastqs_processed_dir, file_r2)\n",
    "\n",
    "        #     file_r1_out_path_tmp = os.path.join(fastqs_processed_dir, f\"tmp_{os.path.basename(file_r1)}\")\n",
    "        #     file_r2_out_path_tmp = os.path.join(fastqs_processed_dir, f\"tmp_{os.path.basename(file_r2)}\")\n",
    "\n",
    "        #     # low quality base removal - done separately from edge trimming so that we don't trim bases off of barcode + UMI file\n",
    "        #     print(f\"Low quality base removal for {file_r1} and {file_r2}\")\n",
    "        #     !fastp -i {file_r1_path} -I {file_r2_path} -o {file_r1_out_path_tmp} -O {file_r2_out_path_tmp} --disable_adapter_trimming --qualified_quality_phred 15 --unqualified_percent_limit 40 --average_qual 15 --n_base_limit 10 --disable_length_filtering --dont_eval_duplication --disable_trim_poly_g -h {vk_count_out_dir}/fastp_report1.html -j {vk_count_out_dir}/fastp_report1.json\n",
    "\n",
    "        #     # edge trimming\n",
    "        #     print(f\"Edge trimming for {file_r2}\")\n",
    "        #     !fastp -i {file_r2_out_path_tmp} -o {file_r2_out_path} --cut_front --cut_tail --cut_window_size 4 --cut_mean_quality 15 --disable_quality_filtering --disable_length_filtering --dont_eval_duplication --disable_trim_poly_g -h {vk_count_out_dir}/fastp_report2.html -j {vk_count_out_dir}/fastp_report2.json --failed_out {vk_count_out_dir}/fastp_failed_tmp.fq\n",
    "\n",
    "        #     if os.path.getsize(f\"{vk_count_out_dir}/fastp_failed_tmp.fq\") > 0:\n",
    "        #         print(f\"Removing reads from {file_r1} removed solely from {file_r2} during trimming\")\n",
    "        #         vk.utils.ensure_read_agreement(file_r1_out_path_tmp, file_r2_out_path, f\"{vk_count_out_dir}/fastp_failed_tmp.fq\", r1_fastq_out_path=file_r1_out_path)\n",
    "        #     else:\n",
    "        #         os.rename(file_r1_out_path_tmp, file_r1_out_path)\n",
    "\n",
    "        #     # break\n",
    "            \n",
    "        #     os.remove(f\"{vk_count_out_dir}/fastp_failed_tmp.fq\")\n",
    "        #     os.remove(file_r2_out_path_tmp)\n",
    "else:\n",
    "    print(\"fastp is not installed. Skipping fastq pre-processing\")\n",
    "    fastqs_processed_dir = fastqs_dir"
   ]
  },
  {
   "cell_type": "markdown",
   "metadata": {},
   "source": [
    "### (Recommended): Pseudoalign the FASTQ data to the reference genome - helps with adata processing in varseek clean\n",
    "While vk count would handle this step by providing the reference_genome_index and reference_genome_t2g arguments, we call it outside of vk count to demonstrate the process for clarity. For best quality results, please try to use the reference genome in this step that corresponds to the reference genome assembly and release used in varseek ref."
   ]
  },
  {
   "cell_type": "code",
   "execution_count": null,
   "metadata": {},
   "outputs": [],
   "source": [
    "kb_count_reference_genome_adata = os.path.join(kb_count_reference_genome_dir, \"counts_unfiltered\", \"adata.h5ad\")\n",
    "if qc_against_gene_matrix and not os.path.exists(kb_count_reference_genome_adata):  # check if kb count was run\n",
    "    os.makedirs(kb_count_reference_genome_dir, exist_ok=True)\n",
    "    if not os.path.exists(reference_genome_index) or not os.path.exists(reference_genome_t2g):  # check if kb ref was run\n",
    "        if not os.path.exists(reference_genome_fasta) or not os.path.exists(reference_genome_gtf):\n",
    "            reference_genome_out_dir = os.path.dirname(reference_genome_fasta) if reference_genome_fasta else \".\"\n",
    "            # using grch37, ensembl 93 to agree with the mutation database\n",
    "            !gget ref -w dna,gtf -r 93 --out_dir {reference_genome_out_dir} -d human_grch37 && gunzip {reference_genome_fasta}.gz && gunzip {reference_genome_gtf}.gz\n",
    "        reference_genome_f1 = os.path.join(kb_count_reference_genome_dir, \"f1.fa\")\n",
    "        !kb ref -t {threads} -k {k} -i {reference_genome_index} -g {reference_genome_t2g} -f1 {reference_genome_f1} {reference_genome_fasta} {reference_genome_gtf}\n",
    "    \n",
    "    !kb count -t {threads} -i {reference_genome_index} -g {reference_genome_t2g} -x {technology} --h5ad --num -o {kb_count_reference_genome_dir} \\\n",
    "        {fastqs_processed_dir}/pbmc_1k_v3_S1_L001_R1_001.fastq.gz {fastqs_processed_dir}/pbmc_1k_v3_S1_L001_R2_001.fastq.gz \\\n",
    "        {fastqs_processed_dir}/pbmc_1k_v3_S1_L002_R1_001.fastq.gz {fastqs_processed_dir}/pbmc_1k_v3_S1_L002_R2_001.fastq.gz"
   ]
  },
  {
   "cell_type": "markdown",
   "metadata": {},
   "source": [
    "### Run varseek count\n",
    "\n",
    "This will run the following commands:\n",
    "- `varseek fastqpp`: Preprocess the fastq files. By default, does nothing.\n",
    "- `kb count` (variant reference): Perform variant screening on fastq data utilizing kb count's pseudoalignment algorithm. Variant data is stored in an Anndata object as as cell/sample x variant matrix.\n",
    "- `kb count` (\"normal\" reference genome) (optional): Perform pseudoalignment of fastq data to the reference genome. Only performed if utilized in the subsequence \"varseek clean\" step. By default, will occur if the path to the necessary files are not provided as input.\n",
    "- `varseek clean`: Process the output of kb count. By default, this will threshold variant counts and ensure that there is agreement for each read between the gene of the variant to which the read aligned during the variant reference pseudoalignment and the gene to which the read aligned during the \"normal\" reference genome pseudoalignment.\n",
    "- `varseek summarize`: Produces a text file summarizing some high-level insights from the variant screening process."
   ]
  },
  {
   "cell_type": "code",
   "execution_count": 7,
   "metadata": {},
   "outputs": [
    {
     "name": "stderr",
     "output_type": "stream",
     "text": [
      "22:51:35 - INFO - Removing index files from fastq files list, as they are not utilized in kb count with technology 10XV3\n",
      "22:51:35 - INFO - Setting length_required to 51 if fastqpp is run\n",
      "22:51:35 - INFO - Skipping vk fastqpp because there was no use for it\n",
      "22:51:35 - INFO - Running kb count with command: kb count -t 2 -k 51 -i data/varseek_ref_out_sample/vcrs_index.idx -g data/varseek_ref_out_sample/vcrs_t2g_filtered.txt -x 10XV3 --h5ad -o data/varseek_count_out/kb_count_out_vcrs --overwrite --num --mm --union data/pbmc_1k_v3_fastqs/filtered/pbmc_1k_v3_S1_L001_R1_001.fastq.gz data/pbmc_1k_v3_fastqs/filtered/pbmc_1k_v3_S1_L001_R2_001.fastq.gz data/pbmc_1k_v3_fastqs/filtered/pbmc_1k_v3_S1_L002_R1_001.fastq.gz data/pbmc_1k_v3_fastqs/filtered/pbmc_1k_v3_S1_L002_R2_001.fastq.gz\n",
      "[2025-07-24 22:51:40,870]    INFO [count] Using index data/varseek_ref_out_sample/vcrs_index.idx to generate BUS file to data/varseek_count_out/kb_count_out_vcrs from\n",
      "[2025-07-24 22:51:40,871]    INFO [count]         data/pbmc_1k_v3_fastqs/filtered/pbmc_1k_v3_S1_L001_R1_001.fastq.gz\n",
      "[2025-07-24 22:51:40,871]    INFO [count]         data/pbmc_1k_v3_fastqs/filtered/pbmc_1k_v3_S1_L001_R2_001.fastq.gz\n",
      "[2025-07-24 22:51:40,871]    INFO [count]         data/pbmc_1k_v3_fastqs/filtered/pbmc_1k_v3_S1_L002_R1_001.fastq.gz\n",
      "[2025-07-24 22:51:40,871]    INFO [count]         data/pbmc_1k_v3_fastqs/filtered/pbmc_1k_v3_S1_L002_R2_001.fastq.gz\n",
      "[2025-07-24 22:58:33,150]    INFO [count] Sorting BUS file data/varseek_count_out/kb_count_out_vcrs/output.bus to data/varseek_count_out/kb_count_out_vcrs/tmp/output.s.bus\n",
      "[2025-07-24 22:58:34,797]    INFO [count] On-list not provided\n",
      "[2025-07-24 22:58:34,799]    INFO [count] Copying pre-packaged 10XV3 on-list to data/varseek_count_out/kb_count_out_vcrs\n",
      "[2025-07-24 22:58:35,144]    INFO [count] Inspecting BUS file data/varseek_count_out/kb_count_out_vcrs/tmp/output.s.bus\n",
      "[2025-07-24 22:58:39,140]    INFO [count] Correcting BUS records in data/varseek_count_out/kb_count_out_vcrs/tmp/output.s.bus to data/varseek_count_out/kb_count_out_vcrs/tmp/output.s.c.bus with on-list data/varseek_count_out/kb_count_out_vcrs/10x_version3_whitelist.txt\n",
      "[2025-07-24 22:58:46,812]    INFO [count] Sorting BUS file data/varseek_count_out/kb_count_out_vcrs/tmp/output.s.c.bus to data/varseek_count_out/kb_count_out_vcrs/output.unfiltered.bus\n",
      "[2025-07-24 22:58:48,475]    INFO [count] Generating count matrix data/varseek_count_out/kb_count_out_vcrs/counts_unfiltered/cells_x_genes from BUS file data/varseek_count_out/kb_count_out_vcrs/output.unfiltered.bus\n",
      "[2025-07-24 22:58:49,688]    INFO [count] Writing gene names to file data/varseek_count_out/kb_count_out_vcrs/counts_unfiltered/cells_x_genes.genes.names.txt\n",
      "[2025-07-24 22:58:49,689] WARNING [count] 150 gene IDs do not have corresponding valid gene names. These genes will use their gene IDs instead.\n",
      "[2025-07-24 22:58:49,690]    INFO [count] Reading matrix data/varseek_count_out/kb_count_out_vcrs/counts_unfiltered/cells_x_genes.mtx\n",
      "[2025-07-24 22:58:49,711]    INFO [count] Writing matrix to h5ad data/varseek_count_out/kb_count_out_vcrs/counts_unfiltered/adata.h5ad\n",
      "22:58:49 - INFO - Skipping kb count for reference genome because the reference genome adata object was not needed and/or the file 'data/kb_count_reference_genome/counts_unfiltered/adata.h5ad' already exists. Note that even setting overwrite=True will still not overwrite this particular file.\n",
      "22:58:49 - INFO - Running vk clean\n",
      "22:58:49 - INFO - Removing index files from fastq files list, as they are not utilized in kb count with technology 10XV3\n",
      "22:58:55 - INFO - Saving adata to data/varseek_count_out/adata_cleaned.h5ad.\n",
      "22:58:55 - INFO - Total runtime for vk clean: 0m, 6.03s\n",
      "22:58:55 - INFO - Skipping vk summarize because summarize=False\n",
      "22:58:55 - INFO - Total runtime for vk count: 7m, 20.59s\n"
     ]
    }
   ],
   "source": [
    "vk_count_output_dict = vk.count(\n",
    "    fastqs_processed_dir,\n",
    "    index=vcrs_index,\n",
    "    t2g=vcrs_t2g,\n",
    "    technology=technology,\n",
    "    out=vk_count_out_dir,\n",
    "    kb_count_reference_genome_dir=kb_count_reference_genome_dir,\n",
    "    k=k,\n",
    "    threads=threads,\n",
    "    # quality_control_fastqs=True, cut_front=True, cut_tail=True, disable_length_filtering = True, dont_eval_duplication = True, disable_trim_poly_g = True,  # equivalent to the fastp step above\n",
    "    # reference_genome_index=reference_genome_index, reference_genome_t2g=reference_genome_t2g,  # equivalent to the kb count step above\n",
    "    qc_against_gene_matrix=qc_against_gene_matrix,\n",
    ")"
   ]
  },
  {
   "cell_type": "code",
   "execution_count": 8,
   "metadata": {},
   "outputs": [
    {
     "name": "stdout",
     "output_type": "stream",
     "text": [
      "Find the processed adata object for further analysis in /Users/joeyrich/Desktop/local/varseek-examples/data/varseek_count_out/adata_cleaned.h5ad\n"
     ]
    }
   ],
   "source": [
    "print(f\"Find the processed adata object for further analysis in {vk_count_output_dict['adata_path']}\")"
   ]
  },
  {
   "cell_type": "markdown",
   "metadata": {},
   "source": [
    "## Load in the anndata object"
   ]
  },
  {
   "cell_type": "code",
   "execution_count": 9,
   "metadata": {},
   "outputs": [
    {
     "data": {
      "text/plain": [
       "AnnData object with n_obs × n_vars = 1609 × 150\n",
       "    var: 'vcrs_id', 'vcrs_header', 'seq_ID', 'mutation', 'nucleotide_positions', 'actual_variant', 'start_variant_position', 'end_variant_position', 'variant_source', 'vcrs_count', 'vcrs_detected', 'number_obs'"
      ]
     },
     "execution_count": 9,
     "metadata": {},
     "output_type": "execute_result"
    }
   ],
   "source": [
    "adata = ad.read_h5ad(vk_count_output_dict[\"adata_path\"])\n",
    "adata"
   ]
  },
  {
   "cell_type": "markdown",
   "metadata": {},
   "source": [
    "## Keep only cells with non-zero counts"
   ]
  },
  {
   "cell_type": "code",
   "execution_count": 10,
   "metadata": {},
   "outputs": [
    {
     "data": {
      "text/plain": [
       "View of AnnData object with n_obs × n_vars = 1609 × 100\n",
       "    var: 'vcrs_id', 'vcrs_header', 'seq_ID', 'mutation', 'nucleotide_positions', 'actual_variant', 'start_variant_position', 'end_variant_position', 'variant_source', 'vcrs_count', 'vcrs_detected', 'number_obs'"
      ]
     },
     "execution_count": 10,
     "metadata": {},
     "output_type": "execute_result"
    }
   ],
   "source": [
    "adata = adata[:, np.array((adata.X != 0).sum(axis=0)).ravel() > 0]\n",
    "adata"
   ]
  },
  {
   "cell_type": "code",
   "execution_count": 11,
   "metadata": {},
   "outputs": [
    {
     "data": {
      "application/vnd.microsoft.datawrangler.viewer.v0+json": {
       "columns": [
        {
         "name": "variant",
         "rawType": "object",
         "type": "string"
        },
        {
         "name": "vcrs_id",
         "rawType": "object",
         "type": "string"
        },
        {
         "name": "vcrs_header",
         "rawType": "object",
         "type": "string"
        },
        {
         "name": "seq_ID",
         "rawType": "category",
         "type": "unknown"
        },
        {
         "name": "mutation",
         "rawType": "category",
         "type": "unknown"
        },
        {
         "name": "nucleotide_positions",
         "rawType": "category",
         "type": "unknown"
        },
        {
         "name": "actual_variant",
         "rawType": "category",
         "type": "unknown"
        },
        {
         "name": "start_variant_position",
         "rawType": "category",
         "type": "unknown"
        },
        {
         "name": "end_variant_position",
         "rawType": "category",
         "type": "unknown"
        },
        {
         "name": "variant_source",
         "rawType": "category",
         "type": "unknown"
        },
        {
         "name": "vcrs_count",
         "rawType": "float32",
         "type": "float"
        },
        {
         "name": "vcrs_detected",
         "rawType": "bool",
         "type": "boolean"
        },
        {
         "name": "number_obs",
         "rawType": "Int32",
         "type": "integer"
        }
       ],
       "ref": "22303c1d-ac46-411c-baf6-8922658b453e",
       "rows": [
        [
         "ENST00000374213:c.184A>G",
         "ENST00000374213:c.184A>G",
         "ENST00000374213:c.184A>G",
         "ENST00000374213",
         "c.184A>G",
         "184",
         "A>G",
         "184",
         "184",
         "transcriptome",
         "2366.0",
         "True",
         "628"
        ],
        [
         "ENST00000374213:c.180A>G",
         "ENST00000374213:c.180A>G",
         "ENST00000374213:c.180A>G",
         "ENST00000374213",
         "c.180A>G",
         "180",
         "A>G",
         "180",
         "180",
         "transcriptome",
         "603.0",
         "True",
         "223"
        ],
        [
         "ENST00000374222:c.1922G>C",
         "ENST00000374222:c.1922G>C",
         "ENST00000374222:c.1922G>C",
         "ENST00000374222",
         "c.1922G>C",
         "1922",
         "G>C",
         "1922",
         "1922",
         "transcriptome",
         "10.0",
         "True",
         "5"
        ],
        [
         "ENST00000374222:c.2004T>C",
         "ENST00000374222:c.2004T>C",
         "ENST00000374222:c.2004T>C",
         "ENST00000374222",
         "c.2004T>C",
         "2004",
         "T>C",
         "2004",
         "2004",
         "transcriptome",
         "4.0",
         "True",
         "2"
        ],
        [
         "ENST00000368716:c.413T>A",
         "ENST00000368716:c.413T>A",
         "ENST00000368716:c.413T>A",
         "ENST00000368716",
         "c.413T>A",
         "413",
         "T>A",
         "413",
         "413",
         "transcriptome",
         "4.0",
         "True",
         "2"
        ]
       ],
       "shape": {
        "columns": 12,
        "rows": 5
       }
      },
      "text/html": [
       "<div>\n",
       "<style scoped>\n",
       "    .dataframe tbody tr th:only-of-type {\n",
       "        vertical-align: middle;\n",
       "    }\n",
       "\n",
       "    .dataframe tbody tr th {\n",
       "        vertical-align: top;\n",
       "    }\n",
       "\n",
       "    .dataframe thead th {\n",
       "        text-align: right;\n",
       "    }\n",
       "</style>\n",
       "<table border=\"1\" class=\"dataframe\">\n",
       "  <thead>\n",
       "    <tr style=\"text-align: right;\">\n",
       "      <th></th>\n",
       "      <th>vcrs_id</th>\n",
       "      <th>vcrs_header</th>\n",
       "      <th>seq_ID</th>\n",
       "      <th>mutation</th>\n",
       "      <th>nucleotide_positions</th>\n",
       "      <th>actual_variant</th>\n",
       "      <th>start_variant_position</th>\n",
       "      <th>end_variant_position</th>\n",
       "      <th>variant_source</th>\n",
       "      <th>vcrs_count</th>\n",
       "      <th>vcrs_detected</th>\n",
       "      <th>number_obs</th>\n",
       "    </tr>\n",
       "    <tr>\n",
       "      <th>variant</th>\n",
       "      <th></th>\n",
       "      <th></th>\n",
       "      <th></th>\n",
       "      <th></th>\n",
       "      <th></th>\n",
       "      <th></th>\n",
       "      <th></th>\n",
       "      <th></th>\n",
       "      <th></th>\n",
       "      <th></th>\n",
       "      <th></th>\n",
       "      <th></th>\n",
       "    </tr>\n",
       "  </thead>\n",
       "  <tbody>\n",
       "    <tr>\n",
       "      <th>ENST00000374213:c.184A&gt;G</th>\n",
       "      <td>ENST00000374213:c.184A&gt;G</td>\n",
       "      <td>ENST00000374213:c.184A&gt;G</td>\n",
       "      <td>ENST00000374213</td>\n",
       "      <td>c.184A&gt;G</td>\n",
       "      <td>184</td>\n",
       "      <td>A&gt;G</td>\n",
       "      <td>184</td>\n",
       "      <td>184</td>\n",
       "      <td>transcriptome</td>\n",
       "      <td>2366.0</td>\n",
       "      <td>True</td>\n",
       "      <td>628</td>\n",
       "    </tr>\n",
       "    <tr>\n",
       "      <th>ENST00000374213:c.180A&gt;G</th>\n",
       "      <td>ENST00000374213:c.180A&gt;G</td>\n",
       "      <td>ENST00000374213:c.180A&gt;G</td>\n",
       "      <td>ENST00000374213</td>\n",
       "      <td>c.180A&gt;G</td>\n",
       "      <td>180</td>\n",
       "      <td>A&gt;G</td>\n",
       "      <td>180</td>\n",
       "      <td>180</td>\n",
       "      <td>transcriptome</td>\n",
       "      <td>603.0</td>\n",
       "      <td>True</td>\n",
       "      <td>223</td>\n",
       "    </tr>\n",
       "    <tr>\n",
       "      <th>ENST00000374222:c.1922G&gt;C</th>\n",
       "      <td>ENST00000374222:c.1922G&gt;C</td>\n",
       "      <td>ENST00000374222:c.1922G&gt;C</td>\n",
       "      <td>ENST00000374222</td>\n",
       "      <td>c.1922G&gt;C</td>\n",
       "      <td>1922</td>\n",
       "      <td>G&gt;C</td>\n",
       "      <td>1922</td>\n",
       "      <td>1922</td>\n",
       "      <td>transcriptome</td>\n",
       "      <td>10.0</td>\n",
       "      <td>True</td>\n",
       "      <td>5</td>\n",
       "    </tr>\n",
       "    <tr>\n",
       "      <th>ENST00000374222:c.2004T&gt;C</th>\n",
       "      <td>ENST00000374222:c.2004T&gt;C</td>\n",
       "      <td>ENST00000374222:c.2004T&gt;C</td>\n",
       "      <td>ENST00000374222</td>\n",
       "      <td>c.2004T&gt;C</td>\n",
       "      <td>2004</td>\n",
       "      <td>T&gt;C</td>\n",
       "      <td>2004</td>\n",
       "      <td>2004</td>\n",
       "      <td>transcriptome</td>\n",
       "      <td>4.0</td>\n",
       "      <td>True</td>\n",
       "      <td>2</td>\n",
       "    </tr>\n",
       "    <tr>\n",
       "      <th>ENST00000368716:c.413T&gt;A</th>\n",
       "      <td>ENST00000368716:c.413T&gt;A</td>\n",
       "      <td>ENST00000368716:c.413T&gt;A</td>\n",
       "      <td>ENST00000368716</td>\n",
       "      <td>c.413T&gt;A</td>\n",
       "      <td>413</td>\n",
       "      <td>T&gt;A</td>\n",
       "      <td>413</td>\n",
       "      <td>413</td>\n",
       "      <td>transcriptome</td>\n",
       "      <td>4.0</td>\n",
       "      <td>True</td>\n",
       "      <td>2</td>\n",
       "    </tr>\n",
       "  </tbody>\n",
       "</table>\n",
       "</div>"
      ],
      "text/plain": [
       "                                             vcrs_id  \\\n",
       "variant                                                \n",
       "ENST00000374213:c.184A>G    ENST00000374213:c.184A>G   \n",
       "ENST00000374213:c.180A>G    ENST00000374213:c.180A>G   \n",
       "ENST00000374222:c.1922G>C  ENST00000374222:c.1922G>C   \n",
       "ENST00000374222:c.2004T>C  ENST00000374222:c.2004T>C   \n",
       "ENST00000368716:c.413T>A    ENST00000368716:c.413T>A   \n",
       "\n",
       "                                         vcrs_header           seq_ID  \\\n",
       "variant                                                                 \n",
       "ENST00000374213:c.184A>G    ENST00000374213:c.184A>G  ENST00000374213   \n",
       "ENST00000374213:c.180A>G    ENST00000374213:c.180A>G  ENST00000374213   \n",
       "ENST00000374222:c.1922G>C  ENST00000374222:c.1922G>C  ENST00000374222   \n",
       "ENST00000374222:c.2004T>C  ENST00000374222:c.2004T>C  ENST00000374222   \n",
       "ENST00000368716:c.413T>A    ENST00000368716:c.413T>A  ENST00000368716   \n",
       "\n",
       "                            mutation nucleotide_positions actual_variant  \\\n",
       "variant                                                                    \n",
       "ENST00000374213:c.184A>G    c.184A>G                  184            A>G   \n",
       "ENST00000374213:c.180A>G    c.180A>G                  180            A>G   \n",
       "ENST00000374222:c.1922G>C  c.1922G>C                 1922            G>C   \n",
       "ENST00000374222:c.2004T>C  c.2004T>C                 2004            T>C   \n",
       "ENST00000368716:c.413T>A    c.413T>A                  413            T>A   \n",
       "\n",
       "                          start_variant_position end_variant_position  \\\n",
       "variant                                                                 \n",
       "ENST00000374213:c.184A>G                     184                  184   \n",
       "ENST00000374213:c.180A>G                     180                  180   \n",
       "ENST00000374222:c.1922G>C                   1922                 1922   \n",
       "ENST00000374222:c.2004T>C                   2004                 2004   \n",
       "ENST00000368716:c.413T>A                     413                  413   \n",
       "\n",
       "                          variant_source  vcrs_count  vcrs_detected  \\\n",
       "variant                                                               \n",
       "ENST00000374213:c.184A>G   transcriptome      2366.0           True   \n",
       "ENST00000374213:c.180A>G   transcriptome       603.0           True   \n",
       "ENST00000374222:c.1922G>C  transcriptome        10.0           True   \n",
       "ENST00000374222:c.2004T>C  transcriptome         4.0           True   \n",
       "ENST00000368716:c.413T>A   transcriptome         4.0           True   \n",
       "\n",
       "                           number_obs  \n",
       "variant                                \n",
       "ENST00000374213:c.184A>G          628  \n",
       "ENST00000374213:c.180A>G          223  \n",
       "ENST00000374222:c.1922G>C           5  \n",
       "ENST00000374222:c.2004T>C           2  \n",
       "ENST00000368716:c.413T>A            2  "
      ]
     },
     "execution_count": 11,
     "metadata": {},
     "output_type": "execute_result"
    }
   ],
   "source": [
    "adata.var.head()"
   ]
  },
  {
   "cell_type": "code",
   "execution_count": null,
   "metadata": {},
   "outputs": [],
   "source": [
    "# out_df_path = os.path.join(\"data\", \"reference\", \"vk_ref_example\", \"sample_mutation_database.csv\")\n",
    "\n",
    "# adata = adata[:, ~adata.var_names.str.contains(\";\")]\n",
    "# adata.var.head(100)[[\"seq_ID\", \"mutation\"]].to_csv(out_df_path, index=False)\n",
    "\n",
    "# adata_empty = ad.read_h5ad(vk_count_output_dict[\"adata_path\"])\n",
    "# adata_empty = adata_empty[:, np.array((adata_empty.X != 0).sum(axis=0)).ravel() == 0]\n",
    "# adata_empty = adata_empty[:, ~adata_empty.var_names.str.contains(\";\")]\n",
    "# adata_empty.var.head(50)[[\"seq_ID\", \"mutation\"]].to_csv(out_df_path, index=False, mode=\"a\", header=False)"
   ]
  }
 ],
 "metadata": {
  "kernelspec": {
   "display_name": "varseek",
   "language": "python",
   "name": "python3"
  },
  "language_info": {
   "codemirror_mode": {
    "name": "ipython",
    "version": 3
   },
   "file_extension": ".py",
   "mimetype": "text/x-python",
   "name": "python",
   "nbconvert_exporter": "python",
   "pygments_lexer": "ipython3",
   "version": "3.10.16"
  }
 },
 "nbformat": 4,
 "nbformat_minor": 4
}
