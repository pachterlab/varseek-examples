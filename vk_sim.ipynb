{
 "cells": [
  {
   "cell_type": "markdown",
   "metadata": {},
   "source": [
    "# [vk sim](https://github.com/pachterlab/varseek) demonstration\n",
    "Create a simulated RNA-seq dataset with variants of interests with `varseek sim`.\n",
    "\n",
    "Written by Joseph Rich.\n",
    "___"
   ]
  },
  {
   "cell_type": "markdown",
   "metadata": {},
   "source": [
    "### Install varseek, and import all packages"
   ]
  },
  {
   "cell_type": "code",
   "execution_count": null,
   "metadata": {},
   "outputs": [],
   "source": [
    "try:\n",
    "    import varseek as vk\n",
    "except ImportError:\n",
    "    print(\"varseek not found, installing...\")\n",
    "    !pip install -U -q varseek"
   ]
  },
  {
   "cell_type": "code",
   "execution_count": null,
   "metadata": {},
   "outputs": [],
   "source": [
    "import os\n",
    "\n",
    "import pandas as pd\n",
    "import gget\n",
    "import varseek as vk\n",
    "from varseek.utils import build_random_genome_read_df"
   ]
  },
  {
   "cell_type": "markdown",
   "metadata": {},
   "source": [
    "### Define important paths and parameters"
   ]
  },
  {
   "cell_type": "code",
   "execution_count": null,
   "metadata": {},
   "outputs": [],
   "source": [
    "#!!! DELETE\n",
    "# df = pd.read_csv(\"/Users/joeyrich/Desktop/local/varseek/data/reference/cosmic/CancerMutationCensus_AllData_Tsv_v100_GRCh37_v2/CancerMutationCensus_AllData_v100_GRCh37.tsv\", sep=\"\\t\", nrows=2)\n",
    "# df"
   ]
  },
  {
   "cell_type": "code",
   "execution_count": null,
   "metadata": {},
   "outputs": [],
   "source": [
    "# input paths\n",
    "reference_dir = os.path.join(\"data\", \"reference\")\n",
    "variants = os.path.join(reference_dir, \"CancerMutationCensus_AllData_Tsv_v101_GRCh37\", \"CancerMutationCensus_AllData_v101_GRCh37.tsv\")\n",
    "sequences_transcriptome = os.path.join(reference_dir, \"Homo_sapiens.GRCh37.cds.all.fa\")\n",
    "\n",
    "# output paths\n",
    "reads_fastq_out = os.path.join(\"data\", \"synthetic_reads.fastq\")\n",
    "reads_csv_out = os.path.join(\"data\", \"synthetic_reads.csv\")\n",
    "variants_updated_csv_out = os.path.join(\"data\", \"CancerMutationCensus_AllData_v101_GRCh37_with_synthetic_read_info.tsv\")\n",
    "\n",
    "# parameters\n",
    "strand = None\n",
    "k = 59\n",
    "w = 54\n",
    "read_length = 150\n",
    "seed = 42\n",
    "add_noise = True\n",
    "error_rate = 0.0001\n",
    "error_distribution = (0.85, 0.1, 0.05)\n",
    "max_errors = float(\"inf\")\n",
    "with_replacement = False\n",
    "seq_id_column = \"ACCESSION_NUMBER\"\n",
    "var_column = \"Mutation CDS\""
   ]
  },
  {
   "cell_type": "markdown",
   "metadata": {},
   "source": [
    "### Download the reference genome (GRCh37, Ensembl 93, CDS file)"
   ]
  },
  {
   "cell_type": "code",
   "execution_count": null,
   "metadata": {},
   "outputs": [],
   "source": [
    "if not os.path.exists(sequences_transcriptome):\n",
    "    !gget ref -w cds -r 93 --out_dir {reference_dir} -d human_grch37"
   ]
  },
  {
   "cell_type": "markdown",
   "metadata": {},
   "source": [
    "### Download the COSMIC Cancer Mutation Census file"
   ]
  },
  {
   "cell_type": "code",
   "execution_count": null,
   "metadata": {},
   "outputs": [],
   "source": [
    "if not os.path.exists(variants):\n",
    "    gget.cosmic(\n",
    "        None,\n",
    "        grch_version=37,\n",
    "        cosmic_version=101,\n",
    "        out=reference_dir,\n",
    "        mutation_class=\"cancer\",\n",
    "        download_cosmic=True,\n",
    "    )"
   ]
  },
  {
   "cell_type": "markdown",
   "metadata": {},
   "source": [
    "### Print the first few lines of the COSMIC file\n",
    "Note that our sequence IDs are in the column \"ACCESSION_NUMBER\", and our variants are in the column \"Mutation CDS\""
   ]
  },
  {
   "cell_type": "code",
   "execution_count": null,
   "metadata": {},
   "outputs": [],
   "source": [
    "df = pd.read_csv(variants, sep=\"/t\", nrows=10)\n",
    "df"
   ]
  },
  {
   "cell_type": "markdown",
   "metadata": {},
   "source": [
    "### Create the first set of simulated data: gene PODN, MIN_SIFT_SCORE<0.4, 50 variants selected, 8 reads per alt allele, 2 reads per ref allele --> 50 x (8+2) = 500 reads"
   ]
  },
  {
   "cell_type": "code",
   "execution_count": null,
   "metadata": {},
   "outputs": [],
   "source": [
    "filters = ['GENE_NAME:equal=PODN', 'MIN_SIFT_SCORE:less_than=0.4']\n",
    "number_of_variants_to_sample = 50\n",
    "number_of_reads_per_variant_alt = 8\n",
    "number_of_reads_per_variant_ref = 2\n",
    "reads_fastq_out_condition1 = os.path.join(\"data\", \"synthetic_reads_condition1.fastq\")\n",
    "\n",
    "simulated_df_dict = vk.sim(\n",
    "    variants=variants,\n",
    "    number_of_variants_to_sample=number_of_variants_to_sample,\n",
    "    strand=strand,\n",
    "    number_of_reads_per_variant_alt=number_of_reads_per_variant_alt,\n",
    "    number_of_reads_per_variant_ref=number_of_reads_per_variant_ref,\n",
    "    k=k,\n",
    "    w=w,\n",
    "    read_length=read_length,\n",
    "    seed=seed,\n",
    "    add_noise=add_noise,\n",
    "    error_rate=error_rate,\n",
    "    error_distribution=error_distribution,\n",
    "    max_errors=max_errors,\n",
    "    with_replacement=with_replacement,\n",
    "    sequences=sequences_transcriptome,\n",
    "    seq_id_column=seq_id_column,\n",
    "    var_column=var_column,\n",
    "    reference_out_dir=reference_dir,\n",
    "    vk_build_out_dir=\"vk_build_tmp\",\n",
    "    filters=filters,\n",
    "    reads_fastq_parent=reads_fastq_out,\n",
    "    reads_fastq_out=reads_fastq_out_condition1,\n",
    "    reads_csv_out=reads_csv_out,\n",
    "    variants_updated_csv_out=variants_updated_csv_out,\n",
    ")\n",
    "\n",
    "variants_updated_df, read_df = simulated_df_dict['variants'], simulated_df_dict['read_df']\n"
   ]
  },
  {
   "cell_type": "markdown",
   "metadata": {},
   "source": [
    "### Inspect the output files"
   ]
  },
  {
   "cell_type": "code",
   "execution_count": null,
   "metadata": {},
   "outputs": [],
   "source": [
    "variants_updated_df.head()"
   ]
  },
  {
   "cell_type": "code",
   "execution_count": null,
   "metadata": {},
   "outputs": [],
   "source": [
    "read_df.head()"
   ]
  },
  {
   "cell_type": "markdown",
   "metadata": {},
   "source": [
    "### Create the second set of simulated data: non-substitutions, 25 variants selected, 4 reads per alt allele, 6 reads per ref allele --> 25 x (4+6) = 250 reads"
   ]
  },
  {
   "cell_type": "code",
   "execution_count": null,
   "metadata": {},
   "outputs": [],
   "source": [
    "filters = ['Mutation Description CDS:not_equal=substitution']\n",
    "number_of_variants_to_sample = 25\n",
    "number_of_reads_per_variant_alt = 4\n",
    "number_of_reads_per_variant_ref = 6\n",
    "reads_fastq_out_condition2 = os.path.join(\"data\", \"synthetic_reads_condition2.fastq\")\n",
    "\n",
    "filters.append('included_in_synthetic_reads-is_not_true')\n",
    "simulated_df_dict = vk.sim(\n",
    "    variants=variants_updated_df,\n",
    "    reads_fastq_parent=reads_fastq_out,\n",
    "    reads_csv_parent=read_df,\n",
    "    number_of_variants_to_sample=number_of_variants_to_sample,\n",
    "    strand=strand,\n",
    "    number_of_reads_per_variant_alt=number_of_reads_per_variant_alt,\n",
    "    number_of_reads_per_variant_ref=number_of_reads_per_variant_ref,\n",
    "    k=k,\n",
    "    w=w,\n",
    "    read_length=read_length,\n",
    "    seed=seed,\n",
    "    add_noise=add_noise,\n",
    "    error_rate=error_rate,\n",
    "    error_distribution=error_distribution,\n",
    "    max_errors=max_errors,\n",
    "    with_replacement=with_replacement,\n",
    "    sequences=sequences_transcriptome,\n",
    "    seq_id_column=seq_id_column,\n",
    "    var_column=var_column,\n",
    "    reference_out_dir=reference_dir,\n",
    "    vk_build_out_dir=\"vk_build_tmp\",\n",
    "    filters=filters,\n",
    "    reads_fastq_out=reads_fastq_out_condition2,\n",
    "    reads_csv_out=reads_csv_out,\n",
    "    variants_updated_csv_out=variants_updated_csv_out,\n",
    ")"
   ]
  },
  {
   "cell_type": "markdown",
   "metadata": {},
   "source": [
    "### Add in random portions from the genome/transcriptome"
   ]
  },
  {
   "cell_type": "code",
   "execution_count": null,
   "metadata": {},
   "outputs": [],
   "source": [
    "sequences_genome = os.path.join(reference_dir, \"Homo_sapiens.GRCh37.dna.primary_assembly.fa\")\n",
    "\n",
    "fastq_output_path_random_transcriptome = os.path.join(\"data\", \"synthetic_reads_random_transcriptome.fastq\")\n",
    "fastq_output_path_random_genome = os.path.join(\"data\", \"synthetic_reads_random_genome.fastq\")\n",
    "\n",
    "number_of_random_reads_transcriptome = 100\n",
    "number_of_random_reads_genome = 50"
   ]
  },
  {
   "cell_type": "code",
   "execution_count": null,
   "metadata": {},
   "outputs": [],
   "source": [
    "if not os.path.exists(sequences_genome):\n",
    "    !gget ref -w dna -r 93 --out_dir {reference_dir} -d human_grch37"
   ]
  },
  {
   "cell_type": "code",
   "execution_count": null,
   "metadata": {},
   "outputs": [],
   "source": [
    "if number_of_random_reads_transcriptome > 0:\n",
    "    read_df = build_random_genome_read_df(reference_fasta_file_path = sequences_transcriptome, read_df = read_df, read_df_out=reads_csv_out, fastq_output_path = fastq_output_path_random_transcriptome, fastq_parent_path = reads_fastq_out, n = number_of_random_reads_transcriptome, read_length = read_length, input_type = \"transcriptome\", strand = strand, add_noise_sequencing_error=add_noise, seed=seed)\n",
    "if number_of_random_reads_genome > 0:\n",
    "    read_df = build_random_genome_read_df(reference_fasta_file_path = sequences_genome, read_df = read_df, read_df_out=reads_csv_out, fastq_output_path = fastq_output_path_random_genome, fastq_parent_path = reads_fastq_out, n = number_of_random_reads_genome, read_length = read_length, input_type = \"genome\", strand = strand, add_noise_sequencing_error=add_noise, seed=seed)"
   ]
  },
  {
   "cell_type": "code",
   "execution_count": null,
   "metadata": {},
   "outputs": [],
   "source": [
    "read_df.tail()"
   ]
  }
 ],
 "metadata": {
  "kernelspec": {
   "display_name": "varseek",
   "language": "python",
   "name": "python3"
  },
  "language_info": {
   "codemirror_mode": {
    "name": "ipython",
    "version": 3
   },
   "file_extension": ".py",
   "mimetype": "text/x-python",
   "name": "python",
   "nbconvert_exporter": "python",
   "pygments_lexer": "ipython3",
   "version": "3.10.16"
  }
 },
 "nbformat": 4,
 "nbformat_minor": 2
}
