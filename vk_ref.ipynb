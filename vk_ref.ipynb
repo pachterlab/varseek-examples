{
 "cells": [
  {
   "cell_type": "markdown",
   "metadata": {},
   "source": [
    "<a href=\"https://colab.research.google.com/github/pachterlab/varseek-examples/blob/main/vk_ref.ipynb\" target=\"_parent\"><img src=\"https://colab.research.google.com/assets/colab-badge.svg\" alt=\"Open In Colab\"/></a>"
   ]
  },
  {
   "cell_type": "markdown",
   "metadata": {},
   "source": [
    "# [vk ref](https://github.com/pachterlab/varseek) demonstration\n",
    "Create a variant reference index file with varseek ref, using the COSMIC Cancer Mutation Census sample file as the source of variants. Utilize gget to facilitate reference genome and COSMIC variant downloads.\n",
    "\n",
    "Written by Joseph Rich.\n",
    "___"
   ]
  },
  {
   "cell_type": "markdown",
   "metadata": {},
   "source": [
    "### Install varseek, and import all packages"
   ]
  },
  {
   "cell_type": "code",
   "execution_count": 1,
   "metadata": {},
   "outputs": [],
   "source": [
    "try:\n",
    "    import varseek as vk\n",
    "except ImportError:\n",
    "    print(\"varseek not found, installing...\")\n",
    "    !pip install -U -q varseek"
   ]
  },
  {
   "cell_type": "code",
   "execution_count": 2,
   "metadata": {},
   "outputs": [],
   "source": [
    "import os\n",
    "\n",
    "import gget\n",
    "import varseek as vk"
   ]
  },
  {
   "cell_type": "markdown",
   "metadata": {},
   "source": [
    "### Define important paths"
   ]
  },
  {
   "cell_type": "code",
   "execution_count": 3,
   "metadata": {},
   "outputs": [],
   "source": [
    "vk_ref_out_dir = os.path.join(\"data\", \"varseek_ref_out\")\n",
    "reference_dir = os.path.join(\"data\", \"reference\")\n",
    "\n",
    "cosmic_file_path = os.path.join(reference_dir, \"example_GRCh37\", \"CancerMutationCensus_AllData_v101_GRCh37_mutation_workflow.csv\")\n",
    "cds_file_path = os.path.join(reference_dir, \"Homo_sapiens.GRCh37.cds.all.fa\")"
   ]
  },
  {
   "cell_type": "markdown",
   "metadata": {},
   "source": [
    "### Download the COSMIC Cancer Mutation Census sample file"
   ]
  },
  {
   "cell_type": "code",
   "execution_count": 15,
   "metadata": {},
   "outputs": [
    {
     "name": "stderr",
     "output_type": "stream",
     "text": [
      "11:47:13 - INFO - NOTE: Licence fees apply for the commercial use of COSMIC.\n",
      "11:47:17 - INFO - Extracted tar file to data/reference/example_GRCh37\n",
      "11:47:17 - INFO - Creating modified mutations file for use with gget mutate...\n",
      "11:47:17 - INFO - Modified mutations file for use with gget mutate created at data/reference/example_GRCh37/CancerMutationCensus_AllData_v101_GRCh37_mutation_workflow.csv\n"
     ]
    }
   ],
   "source": [
    "gget.cosmic(\n",
    "    None,\n",
    "    grch_version=37,\n",
    "    cosmic_version=101,\n",
    "    out=reference_dir,\n",
    "    mutation_class=\"cancer_example\",\n",
    "    download_cosmic=True,\n",
    ")"
   ]
  },
  {
   "cell_type": "markdown",
   "metadata": {},
   "source": [
    "### Print the first few lines of the COSMIC file\n",
    "Note that our sequence IDs are in the column \"seq_ID\", and our variants are in the column \"mutation\""
   ]
  },
  {
   "cell_type": "code",
   "execution_count": 19,
   "metadata": {},
   "outputs": [
    {
     "name": "stdout",
     "output_type": "stream",
     "text": [
      "seq_ID,mutation,mutation_aa,gene_name,mutation_id\n",
      "ENST00000275493,c.650A>T,p.Q217L,EGFR,22513728\n",
      "ENST00000275493,c.966C>T,p.G322=,EGFR,22493275\n",
      "ENST00000275493,c.3458G>T,p.S1153I,EGFR,22496821\n",
      "ENST00000275493,c.2239_2262del,p.L747_K754del,EGFR,22488435\n",
      "ENST00000275493,c.3506A>G,p.N1169S,EGFR,22555598\n",
      "ENST00000275493,c.2236_2248delinsCAAC,p.E746_A750delinsQP,EGFR,22504289\n",
      "ENST00000275493,c.3354G>A,p.A1118=,EGFR,22533818\n",
      "ENST00000275493,c.2317_2319dup,p.H773dup,EGFR,22487477\n",
      "ENST00000275493,c.439G>A,p.A147T,EGFR,22498328\n"
     ]
    }
   ],
   "source": [
    "!head -n 10 {cosmic_file_path}"
   ]
  },
  {
   "cell_type": "markdown",
   "metadata": {},
   "source": [
    "### Download the reference genome (GRCh37, Ensembl 93, CDS file)"
   ]
  },
  {
   "cell_type": "code",
   "execution_count": 22,
   "metadata": {},
   "outputs": [
    {
     "name": "stdout",
     "output_type": "stream",
     "text": [
      "11:50:03 - INFO - Fetching reference information for homo_sapiens from Ensembl release: 93.\n",
      "{\n",
      "    \"homo_sapiens\": {\n",
      "        \"coding_seq_cds\": {\n",
      "            \"ftp\": \"http://ftp.ensembl.org/pub/grch37/release-93/fasta/homo_sapiens/cds/Homo_sapiens.GRCh37.cds.all.fa.gz\",\n",
      "            \"ensembl_release\": 93,\n",
      "            \"release_date\": \"2015-11-27\",\n",
      "            \"release_time\": \"20:17\",\n",
      "            \"bytes\": \"19M\"\n",
      "        }\n",
      "    }\n",
      "}\n",
      "  % Total    % Received % Xferd  Average Speed   Time    Time     Time  Current\n",
      "                                 Dload  Upload   Total   Spent    Left  Speed\n",
      "100 19.0M  100 19.0M    0     0  8067k      0  0:00:02  0:00:02 --:--:-- 8070k\n"
     ]
    }
   ],
   "source": [
    "!gget ref -w cds -r 93 --out_dir {reference_dir} -d human_grch37\n",
    "!gunzip {cds_file_path}.gz"
   ]
  },
  {
   "cell_type": "markdown",
   "metadata": {},
   "source": [
    "### Run varseek ref\n",
    "\n",
    "This will run the following commands:\n",
    "- `varseek build`: Create a variant-containing reference sequence (VCRS) fasta file, where each VCRS contains the variant and at most *w* base pairs flanking each side of the variant (optimized to ensure that no k-mer is shared between a VCRS and its non-variant counterpart in the reference genome). Also creates a t2g file for compatibility with varseek count.\n",
    "- `varseek info`: Collect additional information about the VCRS sequences to be used for filtering. By default, it collects information on k-mer alignment between each VCRS and the T2T reference genome + transcriptome, VCRS pseudoalignment to the T2T reference genome (also indicating shared k-mers), and VCRS sequence complexity (i.e., the number of unique nucleotide triplets divided by the sequence length).\n",
    "- `varseek filter`: Filter the VCRS fasta file and t2g file. By default, filters any VCRS that shares a k-mer with anywhere in the reference genome + transcriptome, any VCRS that pseudoaligns to the reference genome, and any VCRS with fewer than three unique triplets.\n",
    "- `kb ref`: Create a kb index file from the filtered VCRS fasta file that can be used in varseek count."
   ]
  },
  {
   "cell_type": "code",
   "execution_count": 4,
   "metadata": {},
   "outputs": [
    {
     "name": "stderr",
     "output_type": "stream",
     "text": [
      "00:19:00 - INFO - Using COSMIC email from COSMIC_EMAIL environment variable: jmrich@caltech.edu\n",
      "00:19:00 - INFO - Using COSMIC password from COSMIC_PASSWORD environment variable\n",
      "00:19:00 - WARNING - Skipping vk build because data/varseek_ref_out/vcrs.fa already exists and overwrite=False\n",
      "00:19:00 - WARNING - Skipping vk info because data/varseek_ref_out/variants_updated_vk_info.csv already exists and overwrite=False\n",
      "00:19:00 - WARNING - Skipping vk filter because ('data/varseek_ref_out/vcrs_filtered.fa', 'data/varseek_ref_out/vcrs_t2g_filtered.txt') already exist and overwrite=False\n",
      "00:19:00 - INFO - Running kb ref with command: kb ref --workflow custom -t 2 -i data/varseek_ref_out/vcrs_index.idx --d-list None -k 59 --overwrite data/varseek_ref_out/vcrs_filtered.fa\n",
      "[2025-02-28 00:19:03,264] WARNING [ref_custom] Using provided k-mer length 59 instead of optimal length 31\n",
      "[2025-02-28 00:19:03,265]    INFO [ref_custom] Indexing data/varseek_ref_out/vcrs_filtered.fa to data/varseek_ref_out/vcrs_index.idx\n",
      "[2025-02-28 00:19:04,688]    INFO [ref_custom] Finished creating custom index\n",
      "00:19:04 - INFO - Total runtime for vk ref: 0m, 4.65s\n"
     ]
    }
   ],
   "source": [
    "vk_ref_output_dict = vk.ref(\n",
    "    variants=cosmic_file_path,\n",
    "    sequences=cds_file_path,\n",
    "    seq_id_column=\"seq_ID\",\n",
    "    var_column=\"mutation\",\n",
    "    out=vk_ref_out_dir,\n",
    "    reference_out_dir=reference_dir,\n",
    ")"
   ]
  },
  {
   "cell_type": "code",
   "execution_count": 6,
   "metadata": {},
   "outputs": [
    {
     "name": "stdout",
     "output_type": "stream",
     "text": [
      "Find index at data/varseek_ref_out/vcrs_index.idx\n",
      "Find t2g at data/varseek_ref_out/vcrs_t2g_filtered.txt\n"
     ]
    }
   ],
   "source": [
    "print(f\"Find index at {vk_ref_output_dict['index']}\")\n",
    "print(f\"Find t2g at {vk_ref_output_dict['t2g']}\")"
   ]
  }
 ],
 "metadata": {
  "kernelspec": {
   "display_name": "varseek",
   "language": "python",
   "name": "python3"
  },
  "language_info": {
   "codemirror_mode": {
    "name": "ipython",
    "version": 3
   },
   "file_extension": ".py",
   "mimetype": "text/x-python",
   "name": "python",
   "nbconvert_exporter": "python",
   "pygments_lexer": "ipython3",
   "version": "3.10.16"
  }
 },
 "nbformat": 4,
 "nbformat_minor": 4
}
